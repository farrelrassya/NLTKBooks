{
  "nbformat": 4,
  "nbformat_minor": 0,
  "metadata": {
    "colab": {
      "provenance": [],
      "collapsed_sections": [
        "GYhO2NsnQmNz",
        "b4g8RqTYQrJb",
        "6kdvUhOeW9_x",
        "oHLXK57cDLJt",
        "k_AJzlp0EhFJ",
        "ZhMu44MoIRsr"
      ],
      "authorship_tag": "ABX9TyPQxmE/Y20LTWzxQFtXE1Cd",
      "include_colab_link": true
    },
    "kernelspec": {
      "name": "python3",
      "display_name": "Python 3"
    },
    "language_info": {
      "name": "python"
    }
  },
  "cells": [
    {
      "cell_type": "markdown",
      "metadata": {
        "id": "view-in-github",
        "colab_type": "text"
      },
      "source": [
        "<a href=\"https://colab.research.google.com/github/farrelrassya/NLTKBooks/blob/main/1.LanguageProcessing%26Python.ipynb\" target=\"_parent\"><img src=\"https://colab.research.google.com/assets/colab-badge.svg\" alt=\"Open In Colab\"/></a>"
      ]
    },
    {
      "cell_type": "markdown",
      "source": [
        "## Getting Started with NLTK"
      ],
      "metadata": {
        "id": "GYhO2NsnQmNz"
      }
    },
    {
      "cell_type": "code",
      "source": [
        "import nltk\n",
        "nltk.download('book')"
      ],
      "metadata": {
        "id": "Hdeo8G_rFD-o",
        "colab": {
          "base_uri": "https://localhost:8080/"
        },
        "outputId": "336aebc9-df35-42ba-f6e1-efd784b3d748"
      },
      "execution_count": 1,
      "outputs": [
        {
          "output_type": "stream",
          "name": "stderr",
          "text": [
            "[nltk_data] Downloading collection 'book'\n",
            "[nltk_data]    | \n",
            "[nltk_data]    | Downloading package abc to /root/nltk_data...\n",
            "[nltk_data]    |   Unzipping corpora/abc.zip.\n",
            "[nltk_data]    | Downloading package brown to /root/nltk_data...\n",
            "[nltk_data]    |   Unzipping corpora/brown.zip.\n",
            "[nltk_data]    | Downloading package chat80 to /root/nltk_data...\n",
            "[nltk_data]    |   Unzipping corpora/chat80.zip.\n",
            "[nltk_data]    | Downloading package cmudict to /root/nltk_data...\n",
            "[nltk_data]    |   Unzipping corpora/cmudict.zip.\n",
            "[nltk_data]    | Downloading package conll2000 to /root/nltk_data...\n",
            "[nltk_data]    |   Unzipping corpora/conll2000.zip.\n",
            "[nltk_data]    | Downloading package conll2002 to /root/nltk_data...\n",
            "[nltk_data]    |   Unzipping corpora/conll2002.zip.\n",
            "[nltk_data]    | Downloading package dependency_treebank to\n",
            "[nltk_data]    |     /root/nltk_data...\n",
            "[nltk_data]    |   Unzipping corpora/dependency_treebank.zip.\n",
            "[nltk_data]    | Downloading package genesis to /root/nltk_data...\n",
            "[nltk_data]    |   Unzipping corpora/genesis.zip.\n",
            "[nltk_data]    | Downloading package gutenberg to /root/nltk_data...\n",
            "[nltk_data]    |   Unzipping corpora/gutenberg.zip.\n",
            "[nltk_data]    | Downloading package ieer to /root/nltk_data...\n",
            "[nltk_data]    |   Unzipping corpora/ieer.zip.\n",
            "[nltk_data]    | Downloading package inaugural to /root/nltk_data...\n",
            "[nltk_data]    |   Unzipping corpora/inaugural.zip.\n",
            "[nltk_data]    | Downloading package movie_reviews to\n",
            "[nltk_data]    |     /root/nltk_data...\n",
            "[nltk_data]    |   Unzipping corpora/movie_reviews.zip.\n",
            "[nltk_data]    | Downloading package nps_chat to /root/nltk_data...\n",
            "[nltk_data]    |   Unzipping corpora/nps_chat.zip.\n",
            "[nltk_data]    | Downloading package names to /root/nltk_data...\n",
            "[nltk_data]    |   Unzipping corpora/names.zip.\n",
            "[nltk_data]    | Downloading package ppattach to /root/nltk_data...\n",
            "[nltk_data]    |   Unzipping corpora/ppattach.zip.\n",
            "[nltk_data]    | Downloading package reuters to /root/nltk_data...\n",
            "[nltk_data]    | Downloading package senseval to /root/nltk_data...\n",
            "[nltk_data]    |   Unzipping corpora/senseval.zip.\n",
            "[nltk_data]    | Downloading package state_union to /root/nltk_data...\n",
            "[nltk_data]    |   Unzipping corpora/state_union.zip.\n",
            "[nltk_data]    | Downloading package stopwords to /root/nltk_data...\n",
            "[nltk_data]    |   Unzipping corpora/stopwords.zip.\n",
            "[nltk_data]    | Downloading package swadesh to /root/nltk_data...\n",
            "[nltk_data]    |   Unzipping corpora/swadesh.zip.\n",
            "[nltk_data]    | Downloading package timit to /root/nltk_data...\n",
            "[nltk_data]    |   Unzipping corpora/timit.zip.\n",
            "[nltk_data]    | Downloading package treebank to /root/nltk_data...\n",
            "[nltk_data]    |   Unzipping corpora/treebank.zip.\n",
            "[nltk_data]    | Downloading package toolbox to /root/nltk_data...\n",
            "[nltk_data]    |   Unzipping corpora/toolbox.zip.\n",
            "[nltk_data]    | Downloading package udhr to /root/nltk_data...\n",
            "[nltk_data]    |   Unzipping corpora/udhr.zip.\n",
            "[nltk_data]    | Downloading package udhr2 to /root/nltk_data...\n",
            "[nltk_data]    |   Unzipping corpora/udhr2.zip.\n",
            "[nltk_data]    | Downloading package unicode_samples to\n",
            "[nltk_data]    |     /root/nltk_data...\n",
            "[nltk_data]    |   Unzipping corpora/unicode_samples.zip.\n",
            "[nltk_data]    | Downloading package webtext to /root/nltk_data...\n",
            "[nltk_data]    |   Unzipping corpora/webtext.zip.\n",
            "[nltk_data]    | Downloading package wordnet to /root/nltk_data...\n",
            "[nltk_data]    | Downloading package wordnet_ic to /root/nltk_data...\n",
            "[nltk_data]    |   Unzipping corpora/wordnet_ic.zip.\n",
            "[nltk_data]    | Downloading package words to /root/nltk_data...\n",
            "[nltk_data]    |   Unzipping corpora/words.zip.\n",
            "[nltk_data]    | Downloading package maxent_treebank_pos_tagger to\n",
            "[nltk_data]    |     /root/nltk_data...\n",
            "[nltk_data]    |   Unzipping taggers/maxent_treebank_pos_tagger.zip.\n",
            "[nltk_data]    | Downloading package maxent_ne_chunker to\n",
            "[nltk_data]    |     /root/nltk_data...\n",
            "[nltk_data]    |   Unzipping chunkers/maxent_ne_chunker.zip.\n",
            "[nltk_data]    | Downloading package universal_tagset to\n",
            "[nltk_data]    |     /root/nltk_data...\n",
            "[nltk_data]    |   Unzipping taggers/universal_tagset.zip.\n",
            "[nltk_data]    | Downloading package punkt to /root/nltk_data...\n",
            "[nltk_data]    |   Unzipping tokenizers/punkt.zip.\n",
            "[nltk_data]    | Downloading package book_grammars to\n",
            "[nltk_data]    |     /root/nltk_data...\n",
            "[nltk_data]    |   Unzipping grammars/book_grammars.zip.\n",
            "[nltk_data]    | Downloading package city_database to\n",
            "[nltk_data]    |     /root/nltk_data...\n",
            "[nltk_data]    |   Unzipping corpora/city_database.zip.\n",
            "[nltk_data]    | Downloading package tagsets to /root/nltk_data...\n",
            "[nltk_data]    |   Unzipping help/tagsets.zip.\n",
            "[nltk_data]    | Downloading package panlex_swadesh to\n",
            "[nltk_data]    |     /root/nltk_data...\n",
            "[nltk_data]    | Downloading package averaged_perceptron_tagger to\n",
            "[nltk_data]    |     /root/nltk_data...\n",
            "[nltk_data]    |   Unzipping taggers/averaged_perceptron_tagger.zip.\n",
            "[nltk_data]    | \n",
            "[nltk_data]  Done downloading collection book\n"
          ]
        },
        {
          "output_type": "execute_result",
          "data": {
            "text/plain": [
              "True"
            ]
          },
          "metadata": {},
          "execution_count": 1
        }
      ]
    },
    {
      "cell_type": "code",
      "source": [
        "from nltk.book import *"
      ],
      "metadata": {
        "colab": {
          "base_uri": "https://localhost:8080/"
        },
        "id": "v_2hNJqRxJAC",
        "outputId": "39d412db-afe7-4198-fabf-73ee93c5040c"
      },
      "execution_count": 2,
      "outputs": [
        {
          "output_type": "stream",
          "name": "stdout",
          "text": [
            "*** Introductory Examples for the NLTK Book ***\n",
            "Loading text1, ..., text9 and sent1, ..., sent9\n",
            "Type the name of the text or sentence to view it.\n",
            "Type: 'texts()' or 'sents()' to list the materials.\n",
            "text1: Moby Dick by Herman Melville 1851\n",
            "text2: Sense and Sensibility by Jane Austen 1811\n",
            "text3: The Book of Genesis\n",
            "text4: Inaugural Address Corpus\n",
            "text5: Chat Corpus\n",
            "text6: Monty Python and the Holy Grail\n",
            "text7: Wall Street Journal\n",
            "text8: Personals Corpus\n",
            "text9: The Man Who Was Thursday by G . K . Chesterton 1908\n"
          ]
        }
      ]
    },
    {
      "cell_type": "code",
      "source": [
        "text1"
      ],
      "metadata": {
        "colab": {
          "base_uri": "https://localhost:8080/"
        },
        "id": "_Mcka4NDxMNg",
        "outputId": "c6eea82e-1bb9-4ba4-b549-48cf0631c31e"
      },
      "execution_count": 3,
      "outputs": [
        {
          "output_type": "execute_result",
          "data": {
            "text/plain": [
              "<Text: Moby Dick by Herman Melville 1851>"
            ]
          },
          "metadata": {},
          "execution_count": 3
        }
      ]
    },
    {
      "cell_type": "code",
      "source": [
        "text1.concordance(\"monstrous\")"
      ],
      "metadata": {
        "colab": {
          "base_uri": "https://localhost:8080/"
        },
        "id": "xbiKo6yoxcEJ",
        "outputId": "655b3206-6629-4676-cf32-fa9d710e7b4a"
      },
      "execution_count": 4,
      "outputs": [
        {
          "output_type": "stream",
          "name": "stdout",
          "text": [
            "Displaying 11 of 11 matches:\n",
            "ong the former , one was of a most monstrous size . ... This came towards us , \n",
            "ON OF THE PSALMS . \" Touching that monstrous bulk of the whale or ork we have r\n",
            "ll over with a heathenish array of monstrous clubs and spears . Some were thick\n",
            "d as you gazed , and wondered what monstrous cannibal and savage could ever hav\n",
            "that has survived the flood ; most monstrous and most mountainous ! That Himmal\n",
            "they might scout at Moby Dick as a monstrous fable , or still worse and more de\n",
            "th of Radney .'\" CHAPTER 55 Of the Monstrous Pictures of Whales . I shall ere l\n",
            "ing Scenes . In connexion with the monstrous pictures of whales , I am strongly\n",
            "ere to enter upon those still more monstrous stories of them which are to be fo\n",
            "ght have been rummaged out of this monstrous cabinet there is no telling . But \n",
            "of Whale - Bones ; for Whales of a monstrous size are oftentimes cast up dead u\n"
          ]
        }
      ]
    },
    {
      "cell_type": "code",
      "source": [
        "text1.similar(\"monstrous\")"
      ],
      "metadata": {
        "colab": {
          "base_uri": "https://localhost:8080/"
        },
        "id": "42XeDdbJxfOM",
        "outputId": "a554935a-796b-465e-9a66-569abbc7472d"
      },
      "execution_count": 5,
      "outputs": [
        {
          "output_type": "stream",
          "name": "stdout",
          "text": [
            "true contemptible christian abundant few part mean careful puzzled\n",
            "mystifying passing curious loving wise doleful gamesome singular\n",
            "delightfully perilous fearless\n"
          ]
        }
      ]
    },
    {
      "cell_type": "code",
      "source": [
        "text2.similar(\"monstrous\")"
      ],
      "metadata": {
        "colab": {
          "base_uri": "https://localhost:8080/"
        },
        "id": "7h8V4dadx3_R",
        "outputId": "9d606d6c-8aec-4253-ea57-1f2be5c9d5a7"
      },
      "execution_count": 6,
      "outputs": [
        {
          "output_type": "stream",
          "name": "stdout",
          "text": [
            "very so exceedingly heartily a as good great extremely remarkably\n",
            "sweet vast amazingly\n"
          ]
        }
      ]
    },
    {
      "cell_type": "code",
      "source": [
        "text2.common_contexts([\"monstrous\", \"very\"])"
      ],
      "metadata": {
        "colab": {
          "base_uri": "https://localhost:8080/"
        },
        "id": "3dFtkVMox6Ji",
        "outputId": "a73f4d65-a97d-4c80-e35f-8155954bf077"
      },
      "execution_count": 7,
      "outputs": [
        {
          "output_type": "stream",
          "name": "stdout",
          "text": [
            "am_glad a_pretty a_lucky is_pretty be_glad\n"
          ]
        }
      ]
    },
    {
      "cell_type": "code",
      "source": [
        "text4.dispersion_plot([\"citizens\", \"democracy\", \"freedom\", \"duties\", \"America\"])"
      ],
      "metadata": {
        "colab": {
          "base_uri": "https://localhost:8080/",
          "height": 0
        },
        "id": "eL9yecJ_x75q",
        "outputId": "ab9a95f1-dd47-468b-eb8c-139ae00cf4ee"
      },
      "execution_count": 8,
      "outputs": [
        {
          "output_type": "display_data",
          "data": {
            "text/plain": [
              "<Figure size 640x480 with 1 Axes>"
            ],
            "image/png": "[encoded data removed]"
          },
          "metadata": {}
        }
      ]
    },
    {
      "cell_type": "code",
      "source": [
        "import nltk\n",
        "nltk.download('punkt_tab')\n",
        "text3.generate()"
      ],
      "metadata": {
        "colab": {
          "base_uri": "https://localhost:8080/",
          "height": 0
        },
        "id": "VkhpBZjaynDy",
        "outputId": "e092d1db-7478-49ca-939c-7261ecb3dc1b"
      },
      "execution_count": 9,
      "outputs": [
        {
          "output_type": "stream",
          "name": "stderr",
          "text": [
            "[nltk_data] Downloading package punkt_tab to /root/nltk_data...\n",
            "[nltk_data]   Unzipping tokenizers/punkt_tab.zip.\n",
            "Building ngram index...\n"
          ]
        },
        {
          "output_type": "stream",
          "name": "stdout",
          "text": [
            "laid by her , and said unto Cain , Where art thou , and said , Go to ,\n",
            "I will not do it for ten ' s sons ; we dreamed each man according to\n",
            "their generatio the firstborn said unto Laban , Because I said , Nay ,\n",
            "but Sarah shall her name be . , duke Elah , duke Shobal , and Akan .\n",
            "and looked upon my affliction . Bashemath Ishmael ' s blood , but Isra\n",
            "for as a prince hast thou found of all the cattle in the valley , and\n",
            "the wo The\n"
          ]
        },
        {
          "output_type": "execute_result",
          "data": {
            "text/plain": [
              "\"laid by her , and said unto Cain , Where art thou , and said , Go to ,\\nI will not do it for ten ' s sons ; we dreamed each man according to\\ntheir generatio the firstborn said unto Laban , Because I said , Nay ,\\nbut Sarah shall her name be . , duke Elah , duke Shobal , and Akan .\\nand looked upon my affliction . Bashemath Ishmael ' s blood , but Isra\\nfor as a prince hast thou found of all the cattle in the valley , and\\nthe wo The\""
            ],
            "application/vnd.google.colaboratory.intrinsic+json": {
              "type": "string"
            }
          },
          "metadata": {},
          "execution_count": 9
        }
      ]
    },
    {
      "cell_type": "code",
      "source": [
        "len(text3)"
      ],
      "metadata": {
        "colab": {
          "base_uri": "https://localhost:8080/"
        },
        "id": "JVAzOWl6ypxm",
        "outputId": "d8466a5b-546b-428d-af02-84d61eaffe76"
      },
      "execution_count": 10,
      "outputs": [
        {
          "output_type": "execute_result",
          "data": {
            "text/plain": [
              "44764"
            ]
          },
          "metadata": {},
          "execution_count": 10
        }
      ]
    },
    {
      "cell_type": "code",
      "source": [
        "sorted(set(text3))"
      ],
      "metadata": {
        "colab": {
          "base_uri": "https://localhost:8080/"
        },
        "id": "OWUqR3b443IZ",
        "outputId": "02fa794a-ce14-47cc-efc0-46458d13ddc2"
      },
      "execution_count": 11,
      "outputs": [
        {
          "output_type": "execute_result",
          "data": {
            "text/plain": [
              "['!',\n",
              " \"'\",\n",
              " '(',\n",
              " ')',\n",
              " ',',\n",
              " ',)',\n",
              " '.',\n",
              " '.)',\n",
              " ':',\n",
              " ';',\n",
              " ';)',\n",
              " '?',\n",
              " '?)',\n",
              " 'A',\n",
              " 'Abel',\n",
              " 'Abelmizraim',\n",
              " 'Abidah',\n",
              " 'Abide',\n",
              " 'Abimael',\n",
              " 'Abimelech',\n",
              " 'Abr',\n",
              " 'Abrah',\n",
              " 'Abraham',\n",
              " 'Abram',\n",
              " 'Accad',\n",
              " 'Achbor',\n",
              " 'Adah',\n",
              " 'Adam',\n",
              " 'Adbeel',\n",
              " 'Admah',\n",
              " 'Adullamite',\n",
              " 'After',\n",
              " 'Aholibamah',\n",
              " 'Ahuzzath',\n",
              " 'Ajah',\n",
              " 'Akan',\n",
              " 'All',\n",
              " 'Allonbachuth',\n",
              " 'Almighty',\n",
              " 'Almodad',\n",
              " 'Also',\n",
              " 'Alvah',\n",
              " 'Alvan',\n",
              " 'Am',\n",
              " 'Amal',\n",
              " 'Amalek',\n",
              " 'Amalekites',\n",
              " 'Ammon',\n",
              " 'Amorite',\n",
              " 'Amorites',\n",
              " 'Amraphel',\n",
              " 'An',\n",
              " 'Anah',\n",
              " 'Anamim',\n",
              " 'And',\n",
              " 'Aner',\n",
              " 'Angel',\n",
              " 'Appoint',\n",
              " 'Aram',\n",
              " 'Aran',\n",
              " 'Ararat',\n",
              " 'Arbah',\n",
              " 'Ard',\n",
              " 'Are',\n",
              " 'Areli',\n",
              " 'Arioch',\n",
              " 'Arise',\n",
              " 'Arkite',\n",
              " 'Arodi',\n",
              " 'Arphaxad',\n",
              " 'Art',\n",
              " 'Arvadite',\n",
              " 'As',\n",
              " 'Asenath',\n",
              " 'Ashbel',\n",
              " 'Asher',\n",
              " 'Ashkenaz',\n",
              " 'Ashteroth',\n",
              " 'Ask',\n",
              " 'Asshur',\n",
              " 'Asshurim',\n",
              " 'Assyr',\n",
              " 'Assyria',\n",
              " 'At',\n",
              " 'Atad',\n",
              " 'Avith',\n",
              " 'Baalhanan',\n",
              " 'Babel',\n",
              " 'Bashemath',\n",
              " 'Be',\n",
              " 'Because',\n",
              " 'Becher',\n",
              " 'Bedad',\n",
              " 'Beeri',\n",
              " 'Beerlahairoi',\n",
              " 'Beersheba',\n",
              " 'Behold',\n",
              " 'Bela',\n",
              " 'Belah',\n",
              " 'Benam',\n",
              " 'Benjamin',\n",
              " 'Beno',\n",
              " 'Beor',\n",
              " 'Bera',\n",
              " 'Bered',\n",
              " 'Beriah',\n",
              " 'Bethel',\n",
              " 'Bethlehem',\n",
              " 'Bethuel',\n",
              " 'Beware',\n",
              " 'Bilhah',\n",
              " 'Bilhan',\n",
              " 'Binding',\n",
              " 'Birsha',\n",
              " 'Bless',\n",
              " 'Blessed',\n",
              " 'Both',\n",
              " 'Bow',\n",
              " 'Bozrah',\n",
              " 'Bring',\n",
              " 'But',\n",
              " 'Buz',\n",
              " 'By',\n",
              " 'Cain',\n",
              " 'Cainan',\n",
              " 'Calah',\n",
              " 'Calneh',\n",
              " 'Can',\n",
              " 'Cana',\n",
              " 'Canaan',\n",
              " 'Canaanite',\n",
              " 'Canaanites',\n",
              " 'Canaanitish',\n",
              " 'Caphtorim',\n",
              " 'Carmi',\n",
              " 'Casluhim',\n",
              " 'Cast',\n",
              " 'Cause',\n",
              " 'Chaldees',\n",
              " 'Chedorlaomer',\n",
              " 'Cheran',\n",
              " 'Cherubims',\n",
              " 'Chesed',\n",
              " 'Chezib',\n",
              " 'Come',\n",
              " 'Cursed',\n",
              " 'Cush',\n",
              " 'Damascus',\n",
              " 'Dan',\n",
              " 'Day',\n",
              " 'Deborah',\n",
              " 'Dedan',\n",
              " 'Deliver',\n",
              " 'Diklah',\n",
              " 'Din',\n",
              " 'Dinah',\n",
              " 'Dinhabah',\n",
              " 'Discern',\n",
              " 'Dishan',\n",
              " 'Dishon',\n",
              " 'Do',\n",
              " 'Dodanim',\n",
              " 'Dothan',\n",
              " 'Drink',\n",
              " 'Duke',\n",
              " 'Dumah',\n",
              " 'Earth',\n",
              " 'Ebal',\n",
              " 'Eber',\n",
              " 'Edar',\n",
              " 'Eden',\n",
              " 'Edom',\n",
              " 'Edomites',\n",
              " 'Egy',\n",
              " 'Egypt',\n",
              " 'Egyptia',\n",
              " 'Egyptian',\n",
              " 'Egyptians',\n",
              " 'Ehi',\n",
              " 'Elah',\n",
              " 'Elam',\n",
              " 'Elbethel',\n",
              " 'Eldaah',\n",
              " 'EleloheIsrael',\n",
              " 'Eliezer',\n",
              " 'Eliphaz',\n",
              " 'Elishah',\n",
              " 'Ellasar',\n",
              " 'Elon',\n",
              " 'Elparan',\n",
              " 'Emins',\n",
              " 'En',\n",
              " 'Enmishpat',\n",
              " 'Eno',\n",
              " 'Enoch',\n",
              " 'Enos',\n",
              " 'Ephah',\n",
              " 'Epher',\n",
              " 'Ephra',\n",
              " 'Ephraim',\n",
              " 'Ephrath',\n",
              " 'Ephron',\n",
              " 'Er',\n",
              " 'Erech',\n",
              " 'Eri',\n",
              " 'Es',\n",
              " 'Esau',\n",
              " 'Escape',\n",
              " 'Esek',\n",
              " 'Eshban',\n",
              " 'Eshcol',\n",
              " 'Ethiopia',\n",
              " 'Euphrat',\n",
              " 'Euphrates',\n",
              " 'Eve',\n",
              " 'Even',\n",
              " 'Every',\n",
              " 'Except',\n",
              " 'Ezbon',\n",
              " 'Ezer',\n",
              " 'Fear',\n",
              " 'Feed',\n",
              " 'Fifteen',\n",
              " 'Fill',\n",
              " 'For',\n",
              " 'Forasmuch',\n",
              " 'Forgive',\n",
              " 'From',\n",
              " 'Fulfil',\n",
              " 'G',\n",
              " 'Gad',\n",
              " 'Gaham',\n",
              " 'Galeed',\n",
              " 'Gatam',\n",
              " 'Gather',\n",
              " 'Gaza',\n",
              " 'Gentiles',\n",
              " 'Gera',\n",
              " 'Gerar',\n",
              " 'Gershon',\n",
              " 'Get',\n",
              " 'Gether',\n",
              " 'Gihon',\n",
              " 'Gilead',\n",
              " 'Girgashites',\n",
              " 'Girgasite',\n",
              " 'Give',\n",
              " 'Go',\n",
              " 'God',\n",
              " 'Gomer',\n",
              " 'Gomorrah',\n",
              " 'Goshen',\n",
              " 'Guni',\n",
              " 'Hadad',\n",
              " 'Hadar',\n",
              " 'Hadoram',\n",
              " 'Hagar',\n",
              " 'Haggi',\n",
              " 'Hai',\n",
              " 'Ham',\n",
              " 'Hamathite',\n",
              " 'Hamor',\n",
              " 'Hamul',\n",
              " 'Hanoch',\n",
              " 'Happy',\n",
              " 'Haran',\n",
              " 'Hast',\n",
              " 'Haste',\n",
              " 'Have',\n",
              " 'Havilah',\n",
              " 'Hazarmaveth',\n",
              " 'Hazezontamar',\n",
              " 'Hazo',\n",
              " 'He',\n",
              " 'Hear',\n",
              " 'Heaven',\n",
              " 'Heber',\n",
              " 'Hebrew',\n",
              " 'Hebrews',\n",
              " 'Hebron',\n",
              " 'Hemam',\n",
              " 'Hemdan',\n",
              " 'Here',\n",
              " 'Hereby',\n",
              " 'Heth',\n",
              " 'Hezron',\n",
              " 'Hiddekel',\n",
              " 'Hinder',\n",
              " 'Hirah',\n",
              " 'His',\n",
              " 'Hitti',\n",
              " 'Hittite',\n",
              " 'Hittites',\n",
              " 'Hivite',\n",
              " 'Hobah',\n",
              " 'Hori',\n",
              " 'Horite',\n",
              " 'Horites',\n",
              " 'How',\n",
              " 'Hul',\n",
              " 'Huppim',\n",
              " 'Husham',\n",
              " 'Hushim',\n",
              " 'Huz',\n",
              " 'I',\n",
              " 'If',\n",
              " 'In',\n",
              " 'Irad',\n",
              " 'Iram',\n",
              " 'Is',\n",
              " 'Isa',\n",
              " 'Isaac',\n",
              " 'Iscah',\n",
              " 'Ishbak',\n",
              " 'Ishmael',\n",
              " 'Ishmeelites',\n",
              " 'Ishuah',\n",
              " 'Isra',\n",
              " 'Israel',\n",
              " 'Issachar',\n",
              " 'Isui',\n",
              " 'It',\n",
              " 'Ithran',\n",
              " 'Jaalam',\n",
              " 'Jabal',\n",
              " 'Jabbok',\n",
              " 'Jac',\n",
              " 'Jachin',\n",
              " 'Jacob',\n",
              " 'Jahleel',\n",
              " 'Jahzeel',\n",
              " 'Jamin',\n",
              " 'Japhe',\n",
              " 'Japheth',\n",
              " 'Jared',\n",
              " 'Javan',\n",
              " 'Jebusite',\n",
              " 'Jebusites',\n",
              " 'Jegarsahadutha',\n",
              " 'Jehovahjireh',\n",
              " 'Jemuel',\n",
              " 'Jerah',\n",
              " 'Jetheth',\n",
              " 'Jetur',\n",
              " 'Jeush',\n",
              " 'Jezer',\n",
              " 'Jidlaph',\n",
              " 'Jimnah',\n",
              " 'Job',\n",
              " 'Jobab',\n",
              " 'Jokshan',\n",
              " 'Joktan',\n",
              " 'Jordan',\n",
              " 'Joseph',\n",
              " 'Jubal',\n",
              " 'Judah',\n",
              " 'Judge',\n",
              " 'Judith',\n",
              " 'Kadesh',\n",
              " 'Kadmonites',\n",
              " 'Karnaim',\n",
              " 'Kedar',\n",
              " 'Kedemah',\n",
              " 'Kemuel',\n",
              " 'Kenaz',\n",
              " 'Kenites',\n",
              " 'Kenizzites',\n",
              " 'Keturah',\n",
              " 'Kiriathaim',\n",
              " 'Kirjatharba',\n",
              " 'Kittim',\n",
              " 'Know',\n",
              " 'Kohath',\n",
              " 'Kor',\n",
              " 'Korah',\n",
              " 'LO',\n",
              " 'LORD',\n",
              " 'Laban',\n",
              " 'Lahairoi',\n",
              " 'Lamech',\n",
              " 'Lasha',\n",
              " 'Lay',\n",
              " 'Leah',\n",
              " 'Lehabim',\n",
              " 'Lest',\n",
              " 'Let',\n",
              " 'Letushim',\n",
              " 'Leummim',\n",
              " 'Levi',\n",
              " 'Lie',\n",
              " 'Lift',\n",
              " 'Lo',\n",
              " 'Look',\n",
              " 'Lot',\n",
              " 'Lotan',\n",
              " 'Lud',\n",
              " 'Ludim',\n",
              " 'Luz',\n",
              " 'Maachah',\n",
              " 'Machir',\n",
              " 'Machpelah',\n",
              " 'Madai',\n",
              " 'Magdiel',\n",
              " 'Magog',\n",
              " 'Mahalaleel',\n",
              " 'Mahalath',\n",
              " 'Mahanaim',\n",
              " 'Make',\n",
              " 'Malchiel',\n",
              " 'Male',\n",
              " 'Mam',\n",
              " 'Mamre',\n",
              " 'Man',\n",
              " 'Manahath',\n",
              " 'Manass',\n",
              " 'Manasseh',\n",
              " 'Mash',\n",
              " 'Masrekah',\n",
              " 'Massa',\n",
              " 'Matred',\n",
              " 'Me',\n",
              " 'Medan',\n",
              " 'Mehetabel',\n",
              " 'Mehujael',\n",
              " 'Melchizedek',\n",
              " 'Merari',\n",
              " 'Mesha',\n",
              " 'Meshech',\n",
              " 'Mesopotamia',\n",
              " 'Methusa',\n",
              " 'Methusael',\n",
              " 'Methuselah',\n",
              " 'Mezahab',\n",
              " 'Mibsam',\n",
              " 'Mibzar',\n",
              " 'Midian',\n",
              " 'Midianites',\n",
              " 'Milcah',\n",
              " 'Mishma',\n",
              " 'Mizpah',\n",
              " 'Mizraim',\n",
              " 'Mizz',\n",
              " 'Moab',\n",
              " 'Moabites',\n",
              " 'Moreh',\n",
              " 'Moreover',\n",
              " 'Moriah',\n",
              " 'Muppim',\n",
              " 'My',\n",
              " 'Naamah',\n",
              " 'Naaman',\n",
              " 'Nahath',\n",
              " 'Nahor',\n",
              " 'Naphish',\n",
              " 'Naphtali',\n",
              " 'Naphtuhim',\n",
              " 'Nay',\n",
              " 'Nebajoth',\n",
              " 'Neither',\n",
              " 'Night',\n",
              " 'Nimrod',\n",
              " 'Nineveh',\n",
              " 'Noah',\n",
              " 'Nod',\n",
              " 'Not',\n",
              " 'Now',\n",
              " 'O',\n",
              " 'Obal',\n",
              " 'Of',\n",
              " 'Oh',\n",
              " 'Ohad',\n",
              " 'Omar',\n",
              " 'On',\n",
              " 'Onam',\n",
              " 'Onan',\n",
              " 'Only',\n",
              " 'Ophir',\n",
              " 'Our',\n",
              " 'Out',\n",
              " 'Padan',\n",
              " 'Padanaram',\n",
              " 'Paran',\n",
              " 'Pass',\n",
              " 'Pathrusim',\n",
              " 'Pau',\n",
              " 'Peace',\n",
              " 'Peleg',\n",
              " 'Peniel',\n",
              " 'Penuel',\n",
              " 'Peradventure',\n",
              " 'Perizzit',\n",
              " 'Perizzite',\n",
              " 'Perizzites',\n",
              " 'Phallu',\n",
              " 'Phara',\n",
              " 'Pharaoh',\n",
              " 'Pharez',\n",
              " 'Phichol',\n",
              " 'Philistim',\n",
              " 'Philistines',\n",
              " 'Phut',\n",
              " 'Phuvah',\n",
              " 'Pildash',\n",
              " 'Pinon',\n",
              " 'Pison',\n",
              " 'Potiphar',\n",
              " 'Potipherah',\n",
              " 'Put',\n",
              " 'Raamah',\n",
              " 'Rachel',\n",
              " 'Rameses',\n",
              " 'Rebek',\n",
              " 'Rebekah',\n",
              " 'Rehoboth',\n",
              " 'Remain',\n",
              " 'Rephaims',\n",
              " 'Resen',\n",
              " 'Return',\n",
              " 'Reu',\n",
              " 'Reub',\n",
              " 'Reuben',\n",
              " 'Reuel',\n",
              " 'Reumah',\n",
              " 'Riphath',\n",
              " 'Rosh',\n",
              " 'Sabtah',\n",
              " 'Sabtech',\n",
              " 'Said',\n",
              " 'Salah',\n",
              " 'Salem',\n",
              " 'Samlah',\n",
              " 'Sarah',\n",
              " 'Sarai',\n",
              " 'Saul',\n",
              " 'Save',\n",
              " 'Say',\n",
              " 'Se',\n",
              " 'Seba',\n",
              " 'See',\n",
              " 'Seeing',\n",
              " 'Seir',\n",
              " 'Sell',\n",
              " 'Send',\n",
              " 'Sephar',\n",
              " 'Serah',\n",
              " 'Sered',\n",
              " 'Serug',\n",
              " 'Set',\n",
              " 'Seth',\n",
              " 'Shalem',\n",
              " 'Shall',\n",
              " 'Shalt',\n",
              " 'Shammah',\n",
              " 'Shaul',\n",
              " 'Shaveh',\n",
              " 'She',\n",
              " 'Sheba',\n",
              " 'Shebah',\n",
              " 'Shechem',\n",
              " 'Shed',\n",
              " 'Shel',\n",
              " 'Shelah',\n",
              " 'Sheleph',\n",
              " 'Shem',\n",
              " 'Shemeber',\n",
              " 'Shepho',\n",
              " 'Shillem',\n",
              " 'Shiloh',\n",
              " 'Shimron',\n",
              " 'Shinab',\n",
              " 'Shinar',\n",
              " 'Shobal',\n",
              " 'Should',\n",
              " 'Shuah',\n",
              " 'Shuni',\n",
              " 'Shur',\n",
              " 'Sichem',\n",
              " 'Siddim',\n",
              " 'Sidon',\n",
              " 'Simeon',\n",
              " 'Sinite',\n",
              " 'Sitnah',\n",
              " 'Slay',\n",
              " 'So',\n",
              " 'Sod',\n",
              " 'Sodom',\n",
              " 'Sojourn',\n",
              " 'Some',\n",
              " 'Spake',\n",
              " 'Speak',\n",
              " 'Spirit',\n",
              " 'Stand',\n",
              " 'Succoth',\n",
              " 'Surely',\n",
              " 'Swear',\n",
              " 'Syrian',\n",
              " 'Take',\n",
              " 'Tamar',\n",
              " 'Tarshish',\n",
              " 'Tebah',\n",
              " 'Tell',\n",
              " 'Tema',\n",
              " 'Teman',\n",
              " 'Temani',\n",
              " 'Terah',\n",
              " 'Thahash',\n",
              " 'That',\n",
              " 'The',\n",
              " 'Then',\n",
              " 'There',\n",
              " 'Therefore',\n",
              " 'These',\n",
              " 'They',\n",
              " 'Thirty',\n",
              " 'This',\n",
              " 'Thorns',\n",
              " 'Thou',\n",
              " 'Thus',\n",
              " 'Thy',\n",
              " 'Tidal',\n",
              " 'Timna',\n",
              " 'Timnah',\n",
              " 'Timnath',\n",
              " 'Tiras',\n",
              " 'To',\n",
              " 'Togarmah',\n",
              " 'Tola',\n",
              " 'Tubal',\n",
              " 'Tubalcain',\n",
              " 'Twelve',\n",
              " 'Two',\n",
              " 'Unstable',\n",
              " 'Until',\n",
              " 'Unto',\n",
              " 'Up',\n",
              " 'Upon',\n",
              " 'Ur',\n",
              " 'Uz',\n",
              " 'Uzal',\n",
              " 'We',\n",
              " 'What',\n",
              " 'When',\n",
              " 'Whence',\n",
              " 'Where',\n",
              " 'Whereas',\n",
              " 'Wherefore',\n",
              " 'Which',\n",
              " 'While',\n",
              " 'Who',\n",
              " 'Whose',\n",
              " 'Whoso',\n",
              " 'Why',\n",
              " 'Wilt',\n",
              " 'With',\n",
              " 'Woman',\n",
              " 'Ye',\n",
              " 'Yea',\n",
              " 'Yet',\n",
              " 'Zaavan',\n",
              " 'Zaphnathpaaneah',\n",
              " 'Zar',\n",
              " 'Zarah',\n",
              " 'Zeboiim',\n",
              " 'Zeboim',\n",
              " 'Zebul',\n",
              " 'Zebulun',\n",
              " 'Zemarite',\n",
              " 'Zepho',\n",
              " 'Zerah',\n",
              " 'Zibeon',\n",
              " 'Zidon',\n",
              " 'Zillah',\n",
              " 'Zilpah',\n",
              " 'Zimran',\n",
              " 'Ziphion',\n",
              " 'Zo',\n",
              " 'Zoar',\n",
              " 'Zohar',\n",
              " 'Zuzims',\n",
              " 'a',\n",
              " 'abated',\n",
              " 'abide',\n",
              " 'able',\n",
              " 'abode',\n",
              " 'abomination',\n",
              " 'about',\n",
              " 'above',\n",
              " 'abroad',\n",
              " 'absent',\n",
              " 'abundantly',\n",
              " 'accept',\n",
              " 'accepted',\n",
              " 'according',\n",
              " 'acknowledged',\n",
              " 'activity',\n",
              " 'add',\n",
              " 'adder',\n",
              " 'afar',\n",
              " 'afflict',\n",
              " 'affliction',\n",
              " 'afraid',\n",
              " 'after',\n",
              " 'afterward',\n",
              " 'afterwards',\n",
              " 'aga',\n",
              " 'again',\n",
              " 'against',\n",
              " 'age',\n",
              " 'aileth',\n",
              " 'air',\n",
              " 'al',\n",
              " 'alive',\n",
              " 'all',\n",
              " 'almon',\n",
              " 'alo',\n",
              " 'alone',\n",
              " 'aloud',\n",
              " 'also',\n",
              " 'altar',\n",
              " 'altogether',\n",
              " 'always',\n",
              " 'am',\n",
              " 'among',\n",
              " 'amongst',\n",
              " 'an',\n",
              " 'and',\n",
              " 'angel',\n",
              " 'angels',\n",
              " 'anger',\n",
              " 'angry',\n",
              " 'anguish',\n",
              " 'anointedst',\n",
              " 'anoth',\n",
              " 'another',\n",
              " 'answer',\n",
              " 'answered',\n",
              " 'any',\n",
              " 'anything',\n",
              " 'appe',\n",
              " 'appear',\n",
              " 'appeared',\n",
              " 'appease',\n",
              " 'appoint',\n",
              " 'appointed',\n",
              " 'aprons',\n",
              " 'archer',\n",
              " 'archers',\n",
              " 'are',\n",
              " 'arise',\n",
              " 'ark',\n",
              " 'armed',\n",
              " 'arms',\n",
              " 'army',\n",
              " 'arose',\n",
              " 'arrayed',\n",
              " 'art',\n",
              " 'artificer',\n",
              " 'as',\n",
              " 'ascending',\n",
              " 'ash',\n",
              " 'ashamed',\n",
              " 'ask',\n",
              " 'asked',\n",
              " 'asketh',\n",
              " 'ass',\n",
              " 'assembly',\n",
              " 'asses',\n",
              " 'assigned',\n",
              " 'asswaged',\n",
              " 'at',\n",
              " 'attained',\n",
              " 'audience',\n",
              " 'avenged',\n",
              " 'aw',\n",
              " 'awaked',\n",
              " 'away',\n",
              " 'awoke',\n",
              " 'back',\n",
              " 'backward',\n",
              " 'bad',\n",
              " 'bade',\n",
              " 'badest',\n",
              " 'badne',\n",
              " 'bak',\n",
              " 'bake',\n",
              " 'bakemeats',\n",
              " 'baker',\n",
              " 'bakers',\n",
              " 'balm',\n",
              " 'bands',\n",
              " 'bank',\n",
              " 'bare',\n",
              " 'barr',\n",
              " 'barren',\n",
              " 'basket',\n",
              " 'baskets',\n",
              " 'battle',\n",
              " 'bdellium',\n",
              " 'be',\n",
              " 'bear',\n",
              " 'beari',\n",
              " 'bearing',\n",
              " 'beast',\n",
              " 'beasts',\n",
              " 'beautiful',\n",
              " 'became',\n",
              " 'because',\n",
              " 'become',\n",
              " 'bed',\n",
              " 'been',\n",
              " 'befall',\n",
              " 'befell',\n",
              " 'before',\n",
              " 'began',\n",
              " 'begat',\n",
              " 'beget',\n",
              " 'begettest',\n",
              " 'begin',\n",
              " 'beginning',\n",
              " 'begotten',\n",
              " 'beguiled',\n",
              " 'beheld',\n",
              " 'behind',\n",
              " 'behold',\n",
              " 'being',\n",
              " 'believed',\n",
              " 'belly',\n",
              " 'belong',\n",
              " 'beneath',\n",
              " 'bereaved',\n",
              " 'beside',\n",
              " 'besides',\n",
              " 'besought',\n",
              " 'best',\n",
              " 'betimes',\n",
              " 'better',\n",
              " 'between',\n",
              " 'betwixt',\n",
              " 'beyond',\n",
              " 'binding',\n",
              " 'bird',\n",
              " 'birds',\n",
              " 'birthday',\n",
              " 'birthright',\n",
              " 'biteth',\n",
              " 'bitter',\n",
              " 'blame',\n",
              " 'blameless',\n",
              " 'blasted',\n",
              " 'bless',\n",
              " 'blessed',\n",
              " 'blesseth',\n",
              " 'blessi',\n",
              " 'blessing',\n",
              " 'blessings',\n",
              " 'blindness',\n",
              " 'blood',\n",
              " 'blossoms',\n",
              " 'bodies',\n",
              " 'boldly',\n",
              " 'bondman',\n",
              " 'bondmen',\n",
              " 'bondwoman',\n",
              " 'bone',\n",
              " 'bones',\n",
              " 'book',\n",
              " 'booths',\n",
              " 'border',\n",
              " 'borders',\n",
              " 'born',\n",
              " 'bosom',\n",
              " 'both',\n",
              " 'bottle',\n",
              " 'bou',\n",
              " 'boug',\n",
              " 'bough',\n",
              " 'bought',\n",
              " 'bound',\n",
              " 'bow',\n",
              " 'bowed',\n",
              " 'bowels',\n",
              " 'bowing',\n",
              " 'boys',\n",
              " 'bracelets',\n",
              " 'branches',\n",
              " 'brass',\n",
              " 'bre',\n",
              " 'breach',\n",
              " 'bread',\n",
              " 'breadth',\n",
              " 'break',\n",
              " 'breaketh',\n",
              " 'breaking',\n",
              " 'breasts',\n",
              " 'breath',\n",
              " 'breathed',\n",
              " 'breed',\n",
              " 'brethren',\n",
              " 'brick',\n",
              " 'brimstone',\n",
              " 'bring',\n",
              " 'brink',\n",
              " 'broken',\n",
              " 'brook',\n",
              " 'broth',\n",
              " 'brother',\n",
              " 'brought',\n",
              " 'brown',\n",
              " 'bruise',\n",
              " 'budded',\n",
              " 'build',\n",
              " 'builded',\n",
              " 'built',\n",
              " 'bulls',\n",
              " 'bundle',\n",
              " 'bundles',\n",
              " 'burdens',\n",
              " 'buried',\n",
              " 'burn',\n",
              " 'burning',\n",
              " 'burnt',\n",
              " 'bury',\n",
              " 'buryingplace',\n",
              " 'business',\n",
              " 'but',\n",
              " 'butler',\n",
              " 'butlers',\n",
              " 'butlership',\n",
              " 'butter',\n",
              " 'buy',\n",
              " 'by',\n",
              " 'cakes',\n",
              " 'calf',\n",
              " 'call',\n",
              " 'called',\n",
              " 'came',\n",
              " 'camel',\n",
              " 'camels',\n",
              " 'camest',\n",
              " 'can',\n",
              " 'cannot',\n",
              " 'canst',\n",
              " 'captain',\n",
              " 'captive',\n",
              " 'captives',\n",
              " 'carcases',\n",
              " 'carried',\n",
              " 'carry',\n",
              " 'cast',\n",
              " 'castles',\n",
              " 'catt',\n",
              " 'cattle',\n",
              " 'caught',\n",
              " 'cause',\n",
              " 'caused',\n",
              " 'cave',\n",
              " 'cease',\n",
              " 'ceased',\n",
              " 'certain',\n",
              " 'certainly',\n",
              " 'chain',\n",
              " 'chamber',\n",
              " 'change',\n",
              " 'changed',\n",
              " 'changes',\n",
              " 'charge',\n",
              " 'charged',\n",
              " 'chariot',\n",
              " 'chariots',\n",
              " 'chesnut',\n",
              " 'chi',\n",
              " 'chief',\n",
              " 'child',\n",
              " 'childless',\n",
              " 'childr',\n",
              " 'children',\n",
              " 'chode',\n",
              " 'choice',\n",
              " 'chose',\n",
              " 'circumcis',\n",
              " 'circumcise',\n",
              " 'circumcised',\n",
              " 'citi',\n",
              " 'cities',\n",
              " 'city',\n",
              " 'clave',\n",
              " 'clean',\n",
              " 'clear',\n",
              " 'cleave',\n",
              " 'clo',\n",
              " 'closed',\n",
              " 'clothed',\n",
              " 'clothes',\n",
              " 'cloud',\n",
              " 'clusters',\n",
              " 'co',\n",
              " 'coat',\n",
              " 'coats',\n",
              " 'coffin',\n",
              " 'cold',\n",
              " ...]"
            ]
          },
          "metadata": {},
          "execution_count": 11
        }
      ]
    },
    {
      "cell_type": "code",
      "source": [
        "len(set(text3))"
      ],
      "metadata": {
        "colab": {
          "base_uri": "https://localhost:8080/"
        },
        "id": "kDcOXMZJ44SH",
        "outputId": "1e20d3e5-b75e-4eb8-bdc3-ecc2552dce4d"
      },
      "execution_count": 12,
      "outputs": [
        {
          "output_type": "execute_result",
          "data": {
            "text/plain": [
              "2789"
            ]
          },
          "metadata": {},
          "execution_count": 12
        }
      ]
    },
    {
      "cell_type": "code",
      "source": [
        "len(set(text3)) / len(text3)"
      ],
      "metadata": {
        "colab": {
          "base_uri": "https://localhost:8080/"
        },
        "id": "kdwTSXEV5Bvt",
        "outputId": "2bb3a271-e2a2-4a97-a035-b465db150fed"
      },
      "execution_count": 13,
      "outputs": [
        {
          "output_type": "execute_result",
          "data": {
            "text/plain": [
              "0.06230453042623537"
            ]
          },
          "metadata": {},
          "execution_count": 13
        }
      ]
    },
    {
      "cell_type": "code",
      "source": [
        "100 * text4.count('a') / len(text4)"
      ],
      "metadata": {
        "colab": {
          "base_uri": "https://localhost:8080/"
        },
        "id": "1kWZLKVF5D7N",
        "outputId": "233a79e2-7d5b-40c7-9c21-1078c298ee5e"
      },
      "execution_count": 14,
      "outputs": [
        {
          "output_type": "execute_result",
          "data": {
            "text/plain": [
              "1.4569256756756757"
            ]
          },
          "metadata": {},
          "execution_count": 14
        }
      ]
    },
    {
      "cell_type": "code",
      "source": [
        "text3.count(\"smote\")"
      ],
      "metadata": {
        "colab": {
          "base_uri": "https://localhost:8080/"
        },
        "id": "MSQF0n_G5Z5Q",
        "outputId": "6400e783-86d1-4233-ebb8-857679176c2a"
      },
      "execution_count": 15,
      "outputs": [
        {
          "output_type": "execute_result",
          "data": {
            "text/plain": [
              "5"
            ]
          },
          "metadata": {},
          "execution_count": 15
        }
      ]
    },
    {
      "cell_type": "code",
      "source": [
        "def lexical_diversity(text):\n",
        "  return len(set(text)) / len(text)"
      ],
      "metadata": {
        "id": "_CAlxHJa5f3l"
      },
      "execution_count": 16,
      "outputs": []
    },
    {
      "cell_type": "code",
      "source": [
        "def percentage(count, total):\n",
        "  return 100 * count / total"
      ],
      "metadata": {
        "id": "EynqHP_s_XYH"
      },
      "execution_count": 17,
      "outputs": []
    },
    {
      "cell_type": "code",
      "source": [
        "lexical_diversity(text3)"
      ],
      "metadata": {
        "colab": {
          "base_uri": "https://localhost:8080/"
        },
        "id": "lHmU9GXK_bDN",
        "outputId": "06d08e5c-b464-436c-e2b6-9fd7b1ce807b"
      },
      "execution_count": 18,
      "outputs": [
        {
          "output_type": "execute_result",
          "data": {
            "text/plain": [
              "0.06230453042623537"
            ]
          },
          "metadata": {},
          "execution_count": 18
        }
      ]
    },
    {
      "cell_type": "code",
      "source": [
        "lexical_diversity(text5)"
      ],
      "metadata": {
        "colab": {
          "base_uri": "https://localhost:8080/"
        },
        "id": "4Abq5oAM_czx",
        "outputId": "f2ae43f4-f6e0-4d86-da66-89c6e5f61229"
      },
      "execution_count": 19,
      "outputs": [
        {
          "output_type": "execute_result",
          "data": {
            "text/plain": [
              "0.13477005109975562"
            ]
          },
          "metadata": {},
          "execution_count": 19
        }
      ]
    },
    {
      "cell_type": "code",
      "source": [
        "percentage(4, 5)"
      ],
      "metadata": {
        "colab": {
          "base_uri": "https://localhost:8080/"
        },
        "id": "E_8NJZ___d6L",
        "outputId": "aead2364-d74e-4c9e-88b4-7e8e0993134d"
      },
      "execution_count": 20,
      "outputs": [
        {
          "output_type": "execute_result",
          "data": {
            "text/plain": [
              "80.0"
            ]
          },
          "metadata": {},
          "execution_count": 20
        }
      ]
    },
    {
      "cell_type": "code",
      "source": [
        "percentage(text4.count('a'), len(text4))"
      ],
      "metadata": {
        "colab": {
          "base_uri": "https://localhost:8080/"
        },
        "id": "i5d7xeDQ_fMs",
        "outputId": "8636fd6e-ee28-4321-c113-a368a6b519b9"
      },
      "execution_count": 21,
      "outputs": [
        {
          "output_type": "execute_result",
          "data": {
            "text/plain": [
              "1.4569256756756757"
            ]
          },
          "metadata": {},
          "execution_count": 21
        }
      ]
    },
    {
      "cell_type": "code",
      "source": [],
      "metadata": {
        "id": "SLESPNcJ_h2V"
      },
      "execution_count": 21,
      "outputs": []
    },
    {
      "cell_type": "markdown",
      "source": [
        "## A Closer Look at Python: Texts as Lists of Words\n"
      ],
      "metadata": {
        "id": "b4g8RqTYQrJb"
      }
    },
    {
      "cell_type": "markdown",
      "source": [
        "### List\n",
        "What is a text? At one level, it is a sequence of symbols on a page such as this one. At another level, it is a sequence of chapters, made up of a sequence of sections, where each section is a sequence of paragraphs, and so on. However, for our purposes, we will think of a text as nothing more than a sequence of words and punctuation. Here's how we represent text in Python, in this case the opening sentence of Moby Dick:"
      ],
      "metadata": {
        "id": "qVAY8acoROok"
      }
    },
    {
      "cell_type": "code",
      "source": [
        "sent1 = ['Call', 'me', 'Ishmael', '.']"
      ],
      "metadata": {
        "id": "uAyj-68HQsIH"
      },
      "execution_count": 22,
      "outputs": []
    },
    {
      "cell_type": "code",
      "source": [
        "len(sent1)"
      ],
      "metadata": {
        "colab": {
          "base_uri": "https://localhost:8080/"
        },
        "id": "0wMb4aK1Q2QM",
        "outputId": "d97a8d77-8c86-4503-89e8-e9764438ecee"
      },
      "execution_count": 23,
      "outputs": [
        {
          "output_type": "execute_result",
          "data": {
            "text/plain": [
              "4"
            ]
          },
          "metadata": {},
          "execution_count": 23
        }
      ]
    },
    {
      "cell_type": "code",
      "source": [
        "lexical_diversity(sent1)"
      ],
      "metadata": {
        "colab": {
          "base_uri": "https://localhost:8080/"
        },
        "id": "cSJRpwEFQ380",
        "outputId": "7a5174f4-2be1-4388-de58-f26877033a98"
      },
      "execution_count": 24,
      "outputs": [
        {
          "output_type": "execute_result",
          "data": {
            "text/plain": [
              "1.0"
            ]
          },
          "metadata": {},
          "execution_count": 24
        }
      ]
    },
    {
      "cell_type": "code",
      "source": [
        "sent2"
      ],
      "metadata": {
        "colab": {
          "base_uri": "https://localhost:8080/"
        },
        "id": "LNnNVJOeQ4_d",
        "outputId": "35321706-04f0-436d-8b95-ae911da1da13"
      },
      "execution_count": 25,
      "outputs": [
        {
          "output_type": "execute_result",
          "data": {
            "text/plain": [
              "['The',\n",
              " 'family',\n",
              " 'of',\n",
              " 'Dashwood',\n",
              " 'had',\n",
              " 'long',\n",
              " 'been',\n",
              " 'settled',\n",
              " 'in',\n",
              " 'Sussex',\n",
              " '.']"
            ]
          },
          "metadata": {},
          "execution_count": 25
        }
      ]
    },
    {
      "cell_type": "code",
      "source": [
        "sent3"
      ],
      "metadata": {
        "colab": {
          "base_uri": "https://localhost:8080/"
        },
        "id": "yEn9L5rIQ7P2",
        "outputId": "eb7d04aa-7055-4ace-92e8-fa5557aa289c"
      },
      "execution_count": 26,
      "outputs": [
        {
          "output_type": "execute_result",
          "data": {
            "text/plain": [
              "['In',\n",
              " 'the',\n",
              " 'beginning',\n",
              " 'God',\n",
              " 'created',\n",
              " 'the',\n",
              " 'heaven',\n",
              " 'and',\n",
              " 'the',\n",
              " 'earth',\n",
              " '.']"
            ]
          },
          "metadata": {},
          "execution_count": 26
        }
      ]
    },
    {
      "cell_type": "code",
      "source": [
        "['Monty', 'Python'] + ['and', 'the', 'Holy', 'Grail']"
      ],
      "metadata": {
        "colab": {
          "base_uri": "https://localhost:8080/"
        },
        "id": "Z9RzSQ0DQ7za",
        "outputId": "0ddf1eaf-30a1-49a5-d6a6-cff5d32cca85"
      },
      "execution_count": 27,
      "outputs": [
        {
          "output_type": "execute_result",
          "data": {
            "text/plain": [
              "['Monty', 'Python', 'and', 'the', 'Holy', 'Grail']"
            ]
          },
          "metadata": {},
          "execution_count": 27
        }
      ]
    },
    {
      "cell_type": "code",
      "source": [
        "sent4 + sent1"
      ],
      "metadata": {
        "colab": {
          "base_uri": "https://localhost:8080/"
        },
        "id": "0ypCXx9vQ-qd",
        "outputId": "a5496c1f-a453-403f-96d0-31bbd4fb9725"
      },
      "execution_count": 28,
      "outputs": [
        {
          "output_type": "execute_result",
          "data": {
            "text/plain": [
              "['Fellow',\n",
              " '-',\n",
              " 'Citizens',\n",
              " 'of',\n",
              " 'the',\n",
              " 'Senate',\n",
              " 'and',\n",
              " 'of',\n",
              " 'the',\n",
              " 'House',\n",
              " 'of',\n",
              " 'Representatives',\n",
              " ':',\n",
              " 'Call',\n",
              " 'me',\n",
              " 'Ishmael',\n",
              " '.']"
            ]
          },
          "metadata": {},
          "execution_count": 28
        }
      ]
    },
    {
      "cell_type": "code",
      "source": [
        "sent1.append(\"Some\")\n",
        "sent1"
      ],
      "metadata": {
        "colab": {
          "base_uri": "https://localhost:8080/"
        },
        "id": "8WH1hQaKRBCM",
        "outputId": "07e61a51-7b71-45a3-aba5-d09ebec0a3df"
      },
      "execution_count": 29,
      "outputs": [
        {
          "output_type": "execute_result",
          "data": {
            "text/plain": [
              "['Call', 'me', 'Ishmael', '.', 'Some']"
            ]
          },
          "metadata": {},
          "execution_count": 29
        }
      ]
    },
    {
      "cell_type": "markdown",
      "source": [
        "### Indexing Lists\n",
        "\n",
        "As we have seen, a text in Python is a list of words, represented using a combination of brackets and quotes. Just as with an ordinary page of text, we can count up the total number of words in text1 with len(text1), and count the occurrences in a text of a particular word — say, 'heaven' — using text1.count('heaven').\n",
        "\n",
        "With some patience, we can pick out the 1st, 173rd, or even 14,278th word in a printed text. Analogously, we can identify the elements of a Python list by their order of occurrence in the list. The number that represents this position is the item's index. We instruct Python to show us the item that occurs at an index such as 173 in a text by writing the name of the text followed by the index inside square brackets:"
      ],
      "metadata": {
        "id": "4carKBdZRUYy"
      }
    },
    {
      "cell_type": "code",
      "source": [
        "text4[173]"
      ],
      "metadata": {
        "colab": {
          "base_uri": "https://localhost:8080/",
          "height": 35
        },
        "id": "4-CNNN3KRE19",
        "outputId": "637085c8-4016-4783-960a-f79dc5446ddd"
      },
      "execution_count": 30,
      "outputs": [
        {
          "output_type": "execute_result",
          "data": {
            "text/plain": [
              "'awaken'"
            ],
            "application/vnd.google.colaboratory.intrinsic+json": {
              "type": "string"
            }
          },
          "metadata": {},
          "execution_count": 30
        }
      ]
    },
    {
      "cell_type": "code",
      "source": [
        "text4.index('awaken')"
      ],
      "metadata": {
        "colab": {
          "base_uri": "https://localhost:8080/"
        },
        "id": "eDL4scKyTapL",
        "outputId": "5c29a561-6973-41c0-f1ac-e91b23402f90"
      },
      "execution_count": 31,
      "outputs": [
        {
          "output_type": "execute_result",
          "data": {
            "text/plain": [
              "173"
            ]
          },
          "metadata": {},
          "execution_count": 31
        }
      ]
    },
    {
      "cell_type": "code",
      "source": [
        "text5[16715:16735]"
      ],
      "metadata": {
        "colab": {
          "base_uri": "https://localhost:8080/"
        },
        "id": "NdTCP7UvTceO",
        "outputId": "c8e555dc-04eb-40b9-d349-edad6de7c7f7"
      },
      "execution_count": 32,
      "outputs": [
        {
          "output_type": "execute_result",
          "data": {
            "text/plain": [
              "['U86',\n",
              " 'thats',\n",
              " 'why',\n",
              " 'something',\n",
              " 'like',\n",
              " 'gamefly',\n",
              " 'is',\n",
              " 'so',\n",
              " 'good',\n",
              " 'because',\n",
              " 'you',\n",
              " 'can',\n",
              " 'actually',\n",
              " 'play',\n",
              " 'a',\n",
              " 'full',\n",
              " 'game',\n",
              " 'without',\n",
              " 'buying',\n",
              " 'it']"
            ]
          },
          "metadata": {},
          "execution_count": 32
        }
      ]
    },
    {
      "cell_type": "code",
      "source": [
        "sent = ['word1', 'word2', 'word3', 'word4', 'word5','word6', 'word7', 'word8', 'word9', 'word10']\n",
        "sent[0]"
      ],
      "metadata": {
        "colab": {
          "base_uri": "https://localhost:8080/",
          "height": 35
        },
        "id": "3J6EJmFLTkD0",
        "outputId": "94f5a3bc-eb72-49eb-ae81-260196541817"
      },
      "execution_count": 33,
      "outputs": [
        {
          "output_type": "execute_result",
          "data": {
            "text/plain": [
              "'word1'"
            ],
            "application/vnd.google.colaboratory.intrinsic+json": {
              "type": "string"
            }
          },
          "metadata": {},
          "execution_count": 33
        }
      ]
    },
    {
      "cell_type": "code",
      "source": [
        "sent[9]"
      ],
      "metadata": {
        "colab": {
          "base_uri": "https://localhost:8080/",
          "height": 35
        },
        "id": "X8E8g6yYTpKI",
        "outputId": "43dc577a-00ee-4bee-ead0-07dfbbe0be45"
      },
      "execution_count": 34,
      "outputs": [
        {
          "output_type": "execute_result",
          "data": {
            "text/plain": [
              "'word10'"
            ],
            "application/vnd.google.colaboratory.intrinsic+json": {
              "type": "string"
            }
          },
          "metadata": {},
          "execution_count": 34
        }
      ]
    },
    {
      "cell_type": "code",
      "source": [
        "sent[10]"
      ],
      "metadata": {
        "colab": {
          "base_uri": "https://localhost:8080/",
          "height": 144
        },
        "id": "cLigj7N_Tp5Q",
        "outputId": "f7667b3e-e621-41e9-ea32-0282442b0e4c"
      },
      "execution_count": 35,
      "outputs": [
        {
          "output_type": "error",
          "ename": "IndexError",
          "evalue": "list index out of range",
          "traceback": [
            "\u001b[0;31m---------------------------------------------------------------------------\u001b[0m",
            "\u001b[0;31mIndexError\u001b[0m                                Traceback (most recent call last)",
            "\u001b[0;32m<ipython-input-35-baa8b4ccd19d>\u001b[0m in \u001b[0;36m<cell line: 0>\u001b[0;34m()\u001b[0m\n\u001b[0;32m----> 1\u001b[0;31m \u001b[0msent\u001b[0m\u001b[0;34m[\u001b[0m\u001b[0;36m10\u001b[0m\u001b[0;34m]\u001b[0m\u001b[0;34m\u001b[0m\u001b[0;34m\u001b[0m\u001b[0m\n\u001b[0m",
            "\u001b[0;31mIndexError\u001b[0m: list index out of range"
          ]
        }
      ]
    },
    {
      "cell_type": "code",
      "source": [
        "sent[5:7]"
      ],
      "metadata": {
        "id": "H-RQE6NETttr",
        "colab": {
          "base_uri": "https://localhost:8080/"
        },
        "outputId": "4fb7c75c-a1bf-4ebb-ff7c-619156d93c67"
      },
      "execution_count": 36,
      "outputs": [
        {
          "output_type": "execute_result",
          "data": {
            "text/plain": [
              "['word6', 'word7']"
            ]
          },
          "metadata": {},
          "execution_count": 36
        }
      ]
    },
    {
      "cell_type": "code",
      "source": [
        "sent[:3]"
      ],
      "metadata": {
        "id": "j4ONGxYrTxV3",
        "colab": {
          "base_uri": "https://localhost:8080/"
        },
        "outputId": "15dbfb45-c877-4992-83e2-48b854c02fd0"
      },
      "execution_count": 37,
      "outputs": [
        {
          "output_type": "execute_result",
          "data": {
            "text/plain": [
              "['word1', 'word2', 'word3']"
            ]
          },
          "metadata": {},
          "execution_count": 37
        }
      ]
    },
    {
      "cell_type": "markdown",
      "source": [
        "### Variables\n",
        "From the start of 1, you have had access to texts called text1, text2, and so on. It saved a lot of typing to be able to refer to a 250,000-word book with a short name like this! In general, we can make up names for anything we care to calculate. We did this ourselves in the previous sections, e.g., defining a variable sent1, as follows:"
      ],
      "metadata": {
        "id": "wr7uLkUfT7Ow"
      }
    },
    {
      "cell_type": "code",
      "source": [
        "sent1 = ['Call', 'me', 'Ishmael', '.']"
      ],
      "metadata": {
        "id": "yVRRzIbyT07h"
      },
      "execution_count": 38,
      "outputs": []
    },
    {
      "cell_type": "code",
      "source": [
        "my_sent = ['Bravely', 'bold', 'Sir', 'Robin', ',', 'rode',\n",
        "'forth', 'from', 'Camelot', '.']\n",
        "noun_phrase = my_sent[1:4]"
      ],
      "metadata": {
        "id": "4OoliUYJUBh3"
      },
      "execution_count": 39,
      "outputs": []
    },
    {
      "cell_type": "code",
      "source": [
        "noun_phrase"
      ],
      "metadata": {
        "id": "RyTxbciHUHXz",
        "colab": {
          "base_uri": "https://localhost:8080/"
        },
        "outputId": "637556e9-0472-4583-d607-34c01a6101f2"
      },
      "execution_count": 40,
      "outputs": [
        {
          "output_type": "execute_result",
          "data": {
            "text/plain": [
              "['bold', 'Sir', 'Robin']"
            ]
          },
          "metadata": {},
          "execution_count": 40
        }
      ]
    },
    {
      "cell_type": "code",
      "source": [
        "wOrDs = sorted(noun_phrase)\n",
        "wOrDs"
      ],
      "metadata": {
        "id": "k2QQtWKiUNwZ",
        "colab": {
          "base_uri": "https://localhost:8080/"
        },
        "outputId": "5b22d6eb-0f1d-44d4-b353-0855b63e1025"
      },
      "execution_count": 41,
      "outputs": [
        {
          "output_type": "execute_result",
          "data": {
            "text/plain": [
              "['Robin', 'Sir', 'bold']"
            ]
          },
          "metadata": {},
          "execution_count": 41
        }
      ]
    },
    {
      "cell_type": "code",
      "source": [
        "vocab = set(text1)\n",
        "vocab_size = len(vocab)\n",
        "vocab_size"
      ],
      "metadata": {
        "id": "X03lrjEoWoFJ",
        "colab": {
          "base_uri": "https://localhost:8080/"
        },
        "outputId": "8cbcd753-a1a6-4479-851e-f3c76be7ce6c"
      },
      "execution_count": 42,
      "outputs": [
        {
          "output_type": "execute_result",
          "data": {
            "text/plain": [
              "19317"
            ]
          },
          "metadata": {},
          "execution_count": 42
        }
      ]
    },
    {
      "cell_type": "markdown",
      "source": [
        "### Strings\n",
        "Some of the methods we used to access the elements of a list also work with individual words, or strings. For example, we can assign a string to a variable [1], index a string [2], and slice a string [3]:"
      ],
      "metadata": {
        "id": "J8wuaerLWxQq"
      }
    },
    {
      "cell_type": "code",
      "source": [
        "name = 'Monty'"
      ],
      "metadata": {
        "id": "vpdUyorJWtCj"
      },
      "execution_count": 43,
      "outputs": []
    },
    {
      "cell_type": "code",
      "source": [
        "name[0]"
      ],
      "metadata": {
        "id": "9FxIRBzzW3Mj",
        "colab": {
          "base_uri": "https://localhost:8080/",
          "height": 35
        },
        "outputId": "2627953e-87ff-4c9f-f2d2-24ca441fc1c0"
      },
      "execution_count": 44,
      "outputs": [
        {
          "output_type": "execute_result",
          "data": {
            "text/plain": [
              "'M'"
            ],
            "application/vnd.google.colaboratory.intrinsic+json": {
              "type": "string"
            }
          },
          "metadata": {},
          "execution_count": 44
        }
      ]
    },
    {
      "cell_type": "code",
      "source": [
        "name[:4]"
      ],
      "metadata": {
        "id": "WhWe3AXpW3-A",
        "colab": {
          "base_uri": "https://localhost:8080/",
          "height": 35
        },
        "outputId": "27e8345c-e23d-4a90-f9ae-9b47ef3055ba"
      },
      "execution_count": 45,
      "outputs": [
        {
          "output_type": "execute_result",
          "data": {
            "text/plain": [
              "'Mont'"
            ],
            "application/vnd.google.colaboratory.intrinsic+json": {
              "type": "string"
            }
          },
          "metadata": {},
          "execution_count": 45
        }
      ]
    },
    {
      "cell_type": "code",
      "source": [
        "' '.join(['Monty', 'Python'])"
      ],
      "metadata": {
        "id": "eCk4EzUFW466",
        "colab": {
          "base_uri": "https://localhost:8080/",
          "height": 35
        },
        "outputId": "08812eea-4c03-4a3b-9523-6ad4c061aecf"
      },
      "execution_count": 46,
      "outputs": [
        {
          "output_type": "execute_result",
          "data": {
            "text/plain": [
              "'Monty Python'"
            ],
            "application/vnd.google.colaboratory.intrinsic+json": {
              "type": "string"
            }
          },
          "metadata": {},
          "execution_count": 46
        }
      ]
    },
    {
      "cell_type": "code",
      "source": [
        "'Monty Python'.split()"
      ],
      "metadata": {
        "id": "zIpNEHUiW8TQ",
        "colab": {
          "base_uri": "https://localhost:8080/"
        },
        "outputId": "f13d3f6e-0103-4ceb-eeb0-e0238fee628f"
      },
      "execution_count": 47,
      "outputs": [
        {
          "output_type": "execute_result",
          "data": {
            "text/plain": [
              "['Monty', 'Python']"
            ]
          },
          "metadata": {},
          "execution_count": 47
        }
      ]
    },
    {
      "cell_type": "markdown",
      "source": [
        "## Computing with Language: Simple Statistics\n",
        "\n",
        "Let's return to our exploration of the ways we can bring our computational resources to bear on large quantities of text. We began this discussion in 1, and saw how to search for words in context, how to compile the vocabulary of a text, how to generate random text in the same style, and so on.\n",
        "\n",
        "In this section we pick up the question of what makes a text distinct, and use automatic methods to find characteristic words and expressions of a text. As in 1, you can try new features of the Python language by copying them into the interpreter, and you'll learn about these features systematically in the following section.\n",
        "\n",
        "Before continuing further, you might like to check your understanding of the last section by predicting the output of the following code. You can use the interpreter to check whether you got it right. If you're not sure how to do this task, it would be a good idea to review the previous section before continuing further."
      ],
      "metadata": {
        "id": "6kdvUhOeW9_x"
      }
    },
    {
      "cell_type": "markdown",
      "source": [
        "### Frequency Distributions\n",
        "How can we automatically identify the words of a text that are most informative about the topic and genre of the text? Imagine how you might go about finding the 50 most frequent words of a book. One method would be to keep a tally for each vocabulary item, like that shown in 3.1. The tally would need thousands of rows, and it would be an exceedingly laborious process — so laborious that we would rather assign the task to a machine."
      ],
      "metadata": {
        "id": "oHLXK57cDLJt"
      }
    },
    {
      "cell_type": "markdown",
      "source": [
        "The table in 3.1 is known as a frequency distribution, and it tells us the frequency of each vocabulary item in the text. (In general, it could count any kind of observable event.) It is a \"distribution\" because it tells us how the total number of word tokens in the text are distributed across the vocabulary items. Since we often need frequency distributions in language processing, NLTK provides built-in support for them. Let's use a FreqDist to find the 50 most frequent words of Moby Dick:"
      ],
      "metadata": {
        "id": "KcS2ZmzwDS9d"
      }
    },
    {
      "cell_type": "code",
      "source": [
        "fdist1 = FreqDist(text1)\n",
        "print(fdist1)"
      ],
      "metadata": {
        "id": "g7RMXw-tW9gq",
        "colab": {
          "base_uri": "https://localhost:8080/"
        },
        "outputId": "14cfec07-158f-48c1-e735-a8cdf572b19c"
      },
      "execution_count": 48,
      "outputs": [
        {
          "output_type": "stream",
          "name": "stdout",
          "text": [
            "<FreqDist with 19317 samples and 260819 outcomes>\n"
          ]
        }
      ]
    },
    {
      "cell_type": "code",
      "source": [
        "fdist1.most_common(50)"
      ],
      "metadata": {
        "id": "EkGuEdXbDdCC",
        "colab": {
          "base_uri": "https://localhost:8080/"
        },
        "outputId": "1d77d8d4-36b0-4d3c-e214-d01605197204"
      },
      "execution_count": 49,
      "outputs": [
        {
          "output_type": "execute_result",
          "data": {
            "text/plain": [
              "[(',', 18713),\n",
              " ('the', 13721),\n",
              " ('.', 6862),\n",
              " ('of', 6536),\n",
              " ('and', 6024),\n",
              " ('a', 4569),\n",
              " ('to', 4542),\n",
              " (';', 4072),\n",
              " ('in', 3916),\n",
              " ('that', 2982),\n",
              " (\"'\", 2684),\n",
              " ('-', 2552),\n",
              " ('his', 2459),\n",
              " ('it', 2209),\n",
              " ('I', 2124),\n",
              " ('s', 1739),\n",
              " ('is', 1695),\n",
              " ('he', 1661),\n",
              " ('with', 1659),\n",
              " ('was', 1632),\n",
              " ('as', 1620),\n",
              " ('\"', 1478),\n",
              " ('all', 1462),\n",
              " ('for', 1414),\n",
              " ('this', 1280),\n",
              " ('!', 1269),\n",
              " ('at', 1231),\n",
              " ('by', 1137),\n",
              " ('but', 1113),\n",
              " ('not', 1103),\n",
              " ('--', 1070),\n",
              " ('him', 1058),\n",
              " ('from', 1052),\n",
              " ('be', 1030),\n",
              " ('on', 1005),\n",
              " ('so', 918),\n",
              " ('whale', 906),\n",
              " ('one', 889),\n",
              " ('you', 841),\n",
              " ('had', 767),\n",
              " ('have', 760),\n",
              " ('there', 715),\n",
              " ('But', 705),\n",
              " ('or', 697),\n",
              " ('were', 680),\n",
              " ('now', 646),\n",
              " ('which', 640),\n",
              " ('?', 637),\n",
              " ('me', 627),\n",
              " ('like', 624)]"
            ]
          },
          "metadata": {},
          "execution_count": 49
        }
      ]
    },
    {
      "cell_type": "markdown",
      "source": [
        "When we first invoke FreqDist, we pass the name of the text as an argument [1]. We can inspect the total number of words (\"outcomes\") that have been counted up [2] — 260,819 in the case of Moby Dick. The expression most_common(50) gives us a list of the 50 most frequently occurring types in the text [3]."
      ],
      "metadata": {
        "id": "uyNzOx-bDlyp"
      }
    },
    {
      "cell_type": "code",
      "source": [
        "fdist1.plot(50, cumulative=True)"
      ],
      "metadata": {
        "id": "--FrJBEAD5BH",
        "colab": {
          "base_uri": "https://localhost:8080/",
          "height": 0
        },
        "outputId": "aa905a74-bb52-434e-dd89-056ded4d704f"
      },
      "execution_count": 50,
      "outputs": [
        {
          "output_type": "execute_result",
          "data": {
            "text/plain": [
              "<Axes: xlabel='Samples', ylabel='Cumulative Counts'>"
            ]
          },
          "metadata": {},
          "execution_count": 50
        },
        {
          "output_type": "display_data",
          "data": {
            "text/plain": [
              "<Figure size 640x480 with 1 Axes>"
            ],
            "image/png": "[encoded data removed]"
          },
          "metadata": {}
        }
      ]
    },
    {
      "cell_type": "markdown",
      "source": [
        "Do any words produced in the last example help us grasp the topic or genre of this text? Only one word, whale, is slightly informative! It occurs over 900 times. The rest of the words tell us nothing about the text; they're just English \"plumbing.\" What proportion of the text is taken up with such words? We can generate a cumulative frequency plot for these words, using fdist1.plot(50, cumulative=True), to produce the graph in 3.2. These 50 words account for nearly half the book!"
      ],
      "metadata": {
        "id": "ySZ-0IxLEGPd"
      }
    },
    {
      "cell_type": "code",
      "source": [
        "fdist1.hapaxes()[:10]"
      ],
      "metadata": {
        "id": "44_6E7r3EDlb",
        "colab": {
          "base_uri": "https://localhost:8080/"
        },
        "outputId": "7b1b2918-40ae-4475-bb28-49bd0171325d"
      },
      "execution_count": 51,
      "outputs": [
        {
          "output_type": "execute_result",
          "data": {
            "text/plain": [
              "['Herman',\n",
              " 'Melville',\n",
              " ']',\n",
              " 'ETYMOLOGY',\n",
              " 'Late',\n",
              " 'Consumptive',\n",
              " 'School',\n",
              " 'threadbare',\n",
              " 'lexicons',\n",
              " 'mockingly']"
            ]
          },
          "metadata": {},
          "execution_count": 51
        }
      ]
    },
    {
      "cell_type": "markdown",
      "source": [
        "If the frequent words don't help us, how about the words that occur once only, the so-called hapaxes. This list contains lexicographer, cetological, contraband, expostulations, and about 9,000 others. It seems that there are too many rare words, and without seeing the context we probably can't guess what half of the hapaxes mean in any case! Since neither frequent nor infrequent words help, we need to try something else."
      ],
      "metadata": {
        "id": "G8Vsxj8PEMzw"
      }
    },
    {
      "cell_type": "markdown",
      "source": [
        "### Fine-grained Selection of Words\n",
        "Next, let's look at the long words of a text; perhaps these will be more characteristic and informative. For this we adapt some notation from set theory. We would like to find the words from the vocabulary of the text that are more than 15 characters long. Let's call this property P, so that P(w) is true if and only if w is more than 15 characters long. Now we can express the words of interest using mathematical set notation as shown in (1a). This means \"the set of all w such that w is an element of V (the vocabulary) and w has property P\".\n",
        "\n",
        "(1)\n",
        "a.\t\t$$\\{w \\in V \\mid P(w)\\}$$\n",
        "\n",
        "b.\t\t$$[w \\text{ for } w \\in V \\text{ if } P(w)]$$\n",
        "\n",
        "\n",
        "The corresponding Python expression is given in (1b). (Note that it produces a list, not a set, which means that duplicates are possible.) Observe how similar the two notations are. Let's go one more step and write executable Python code:\n",
        "\n"
      ],
      "metadata": {
        "id": "k_AJzlp0EhFJ"
      }
    },
    {
      "cell_type": "code",
      "source": [
        "V = set(text1)\n",
        "long_words = [w for w in V if len(w) > 15]\n",
        "sorted(long_words)"
      ],
      "metadata": {
        "id": "50AaCzg_HDmS",
        "colab": {
          "base_uri": "https://localhost:8080/"
        },
        "outputId": "6e5c235f-9e03-4162-afa4-0c8401462138"
      },
      "execution_count": 52,
      "outputs": [
        {
          "output_type": "execute_result",
          "data": {
            "text/plain": [
              "['CIRCUMNAVIGATION',\n",
              " 'Physiognomically',\n",
              " 'apprehensiveness',\n",
              " 'cannibalistically',\n",
              " 'characteristically',\n",
              " 'circumnavigating',\n",
              " 'circumnavigation',\n",
              " 'circumnavigations',\n",
              " 'comprehensiveness',\n",
              " 'hermaphroditical',\n",
              " 'indiscriminately',\n",
              " 'indispensableness',\n",
              " 'irresistibleness',\n",
              " 'physiognomically',\n",
              " 'preternaturalness',\n",
              " 'responsibilities',\n",
              " 'simultaneousness',\n",
              " 'subterraneousness',\n",
              " 'supernaturalness',\n",
              " 'superstitiousness',\n",
              " 'uncomfortableness',\n",
              " 'uncompromisedness',\n",
              " 'undiscriminating',\n",
              " 'uninterpenetratingly']"
            ]
          },
          "metadata": {},
          "execution_count": 52
        }
      ]
    },
    {
      "cell_type": "markdown",
      "source": [
        "Let's return to our task of finding words that characterize a text. Notice that the long words in text4 reflect its national focus — constitutionally, transcontinental — whereas those in text5 reflect its informal content: boooooooooooglyyyyyy and yuuuuuuuuuuuummmmmmmmmmmm. Have we succeeded in automatically extracting words that typify a text? Well, these very long words are often hapaxes (i.e., unique) and perhaps it would be better to find frequently occurring long words. This seems promising since it eliminates frequent short words (e.g., the) and infrequent long words (e.g. antiphilosophists). Here are all words from the chat corpus that are longer than seven characters, that occur more than seven times:"
      ],
      "metadata": {
        "id": "rDIEnRH3HinO"
      }
    },
    {
      "cell_type": "code",
      "source": [
        "fdist5 = FreqDist(text5)\n",
        "sorted(w for w in set(text5) if len(w) > 7 and fdist5[w] > 7)"
      ],
      "metadata": {
        "id": "JiKxJn1jHka1",
        "colab": {
          "base_uri": "https://localhost:8080/"
        },
        "outputId": "6b2b3d03-f1d3-49f3-8656-bcd712ee30b0"
      },
      "execution_count": 53,
      "outputs": [
        {
          "output_type": "execute_result",
          "data": {
            "text/plain": [
              "['#14-19teens',\n",
              " '#talkcity_adults',\n",
              " '((((((((((',\n",
              " '........',\n",
              " 'Question',\n",
              " 'actually',\n",
              " 'anything',\n",
              " 'computer',\n",
              " 'cute.-ass',\n",
              " 'everyone',\n",
              " 'football',\n",
              " 'innocent',\n",
              " 'listening',\n",
              " 'remember',\n",
              " 'seriously',\n",
              " 'something',\n",
              " 'together',\n",
              " 'tomorrow',\n",
              " 'watching']"
            ]
          },
          "metadata": {},
          "execution_count": 53
        }
      ]
    },
    {
      "cell_type": "markdown",
      "source": [
        "Notice how we have used two conditions: len(w) > 7 ensures that the words are longer than seven letters, and fdist5[w] > 7 ensures that these words occur more than seven times. At last we have managed to automatically identify the frequently-occurring content-bearing words of the text. It is a modest but important milestone: a tiny piece of code, processing tens of thousands of words, produces some informative output."
      ],
      "metadata": {
        "id": "wjb-C7m1HqVd"
      }
    },
    {
      "cell_type": "markdown",
      "source": [
        "### Collocations and Bigrams\n",
        "\n",
        "A collocation is a sequence of words that occur together unusually often. Thus red wine is a collocation, whereas the wine is not. A characteristic of collocations is that they are resistant to substitution with words that have similar senses; for example, maroon wine sounds definitely odd.\n",
        "\n",
        "To get a handle on collocations, we start off by extracting from a text a list of word pairs, also known as bigrams. This is easily accomplished with the function bigrams():\n",
        "\n"
      ],
      "metadata": {
        "id": "ZhMu44MoIRsr"
      }
    },
    {
      "cell_type": "code",
      "source": [
        "list(bigrams(['more', 'is', 'said', 'than', 'done']))"
      ],
      "metadata": {
        "colab": {
          "base_uri": "https://localhost:8080/"
        },
        "id": "dk9nIVP3Zsb2",
        "outputId": "475fdb44-67f8-4e61-bd3a-efe604a993d5"
      },
      "execution_count": 54,
      "outputs": [
        {
          "output_type": "execute_result",
          "data": {
            "text/plain": [
              "[('more', 'is'), ('is', 'said'), ('said', 'than'), ('than', 'done')]"
            ]
          },
          "metadata": {},
          "execution_count": 54
        }
      ]
    },
    {
      "cell_type": "markdown",
      "source": [
        "Here we see that the pair of words than-done is a bigram, and we write it in Python as ('than', 'done'). Now, collocations are essentially just frequent bigrams, except that we want to pay more attention to the cases that involve rare words. In particular, we want to find bigrams that occur more often than we would expect based on the frequency of the individual words. The collocations() function does this for us. We will see how it works later."
      ],
      "metadata": {
        "id": "3VISKQgmZ1cI"
      }
    },
    {
      "cell_type": "code",
      "source": [
        "text4.collocations()"
      ],
      "metadata": {
        "colab": {
          "base_uri": "https://localhost:8080/"
        },
        "id": "t-pHnes0Z2Zl",
        "outputId": "0965fcdf-8136-47a7-d4e3-d54a0e161aaa"
      },
      "execution_count": 55,
      "outputs": [
        {
          "output_type": "stream",
          "name": "stdout",
          "text": [
            "United States; fellow citizens; years ago; four years; Federal\n",
            "Government; General Government; Vice President; American people; God\n",
            "bless; Chief Justice; one another; fellow Americans; Old World;\n",
            "Almighty God; Fellow citizens; Chief Magistrate; every citizen; Indian\n",
            "tribes; public debt; foreign nations\n"
          ]
        }
      ]
    },
    {
      "cell_type": "code",
      "source": [
        "text8.collocations()"
      ],
      "metadata": {
        "colab": {
          "base_uri": "https://localhost:8080/"
        },
        "id": "lBJSwKLUZ5eO",
        "outputId": "ce90868b-f12f-4ed1-d72c-72bf8a377617"
      },
      "execution_count": 56,
      "outputs": [
        {
          "output_type": "stream",
          "name": "stdout",
          "text": [
            "would like; medium build; social drinker; quiet nights; non smoker;\n",
            "long term; age open; Would like; easy going; financially secure; fun\n",
            "times; similar interests; Age open; weekends away; poss rship; well\n",
            "presented; never married; single mum; permanent relationship; slim\n",
            "build\n"
          ]
        }
      ]
    },
    {
      "cell_type": "markdown",
      "source": [
        "The collocations that emerge are very specific to the genre of the texts. In order to find red wine as a collocation, we would need to process a much larger body of text."
      ],
      "metadata": {
        "id": "KHemsvabaALI"
      }
    },
    {
      "cell_type": "markdown",
      "source": [
        "### Counting Other Things\n",
        "Counting words is useful, but we can count other things too. For example, we can look at the distribution of word lengths in a text, by creating a FreqDist out of a long list of numbers, where each number is the length of the corresponding word in the text:"
      ],
      "metadata": {
        "id": "VkJ9q403aEAr"
      }
    },
    {
      "cell_type": "code",
      "source": [
        "[len(w) for w in text1][:15]"
      ],
      "metadata": {
        "colab": {
          "base_uri": "https://localhost:8080/"
        },
        "id": "v_a4fDsCaI92",
        "outputId": "76e109bd-285c-48f7-ad2c-338711ea04d2"
      },
      "execution_count": 57,
      "outputs": [
        {
          "output_type": "execute_result",
          "data": {
            "text/plain": [
              "[1, 4, 4, 2, 6, 8, 4, 1, 9, 1, 1, 8, 2, 1, 4]"
            ]
          },
          "metadata": {},
          "execution_count": 57
        }
      ]
    },
    {
      "cell_type": "code",
      "source": [
        "fdist = FreqDist(len(w) for w in text1)\n",
        "print(fdist)"
      ],
      "metadata": {
        "colab": {
          "base_uri": "https://localhost:8080/"
        },
        "id": "ZpfaaQqBaSGO",
        "outputId": "8ff64649-81bc-450f-8867-5c4cd5cdf26e"
      },
      "execution_count": 58,
      "outputs": [
        {
          "output_type": "stream",
          "name": "stdout",
          "text": [
            "<FreqDist with 19 samples and 260819 outcomes>\n"
          ]
        }
      ]
    },
    {
      "cell_type": "code",
      "source": [
        "fdist"
      ],
      "metadata": {
        "colab": {
          "base_uri": "https://localhost:8080/"
        },
        "id": "HsjnoR0UadjC",
        "outputId": "88e69409-73bb-4727-aa48-98f279c11c37"
      },
      "execution_count": 59,
      "outputs": [
        {
          "output_type": "execute_result",
          "data": {
            "text/plain": [
              "FreqDist({3: 50223, 1: 47933, 4: 42345, 2: 38513, 5: 26597, 6: 17111, 7: 14399, 8: 9966, 9: 6428, 10: 3528, ...})"
            ]
          },
          "metadata": {},
          "execution_count": 59
        }
      ]
    },
    {
      "cell_type": "markdown",
      "source": [
        "We start by deriving a list of the lengths of words in text1 [1], and the FreqDist then counts the number of times each of these occurs [2]. The result [3] is a distribution containing a quarter of a million items, each of which is a number corresponding to a word token in the text. But there are at most only 20 distinct items being counted, the numbers 1 through 20, because there are only 20 different word lengths. I.e., there are words consisting of just one character, two characters, ..., twenty characters, but none with twenty one or more characters. One might wonder how frequent the different lengths of word are (e.g., how many words of length four appear in the text, are there more words of length five than length four, etc). We can do this as follows:"
      ],
      "metadata": {
        "id": "OJd-1b57aiDl"
      }
    },
    {
      "cell_type": "code",
      "source": [
        "fdist.most_common()"
      ],
      "metadata": {
        "colab": {
          "base_uri": "https://localhost:8080/"
        },
        "id": "RNY9MLemakXf",
        "outputId": "52d8af42-c071-4c19-8944-21c79e543ef9"
      },
      "execution_count": 60,
      "outputs": [
        {
          "output_type": "execute_result",
          "data": {
            "text/plain": [
              "[(3, 50223),\n",
              " (1, 47933),\n",
              " (4, 42345),\n",
              " (2, 38513),\n",
              " (5, 26597),\n",
              " (6, 17111),\n",
              " (7, 14399),\n",
              " (8, 9966),\n",
              " (9, 6428),\n",
              " (10, 3528),\n",
              " (11, 1873),\n",
              " (12, 1053),\n",
              " (13, 567),\n",
              " (14, 177),\n",
              " (15, 70),\n",
              " (16, 22),\n",
              " (17, 12),\n",
              " (18, 1),\n",
              " (20, 1)]"
            ]
          },
          "metadata": {},
          "execution_count": 60
        }
      ]
    },
    {
      "cell_type": "code",
      "source": [
        "fdist.max()"
      ],
      "metadata": {
        "colab": {
          "base_uri": "https://localhost:8080/"
        },
        "id": "axcCHUWCal1A",
        "outputId": "61a7be72-78b4-4238-be27-61f390ed16a6"
      },
      "execution_count": 61,
      "outputs": [
        {
          "output_type": "execute_result",
          "data": {
            "text/plain": [
              "3"
            ]
          },
          "metadata": {},
          "execution_count": 61
        }
      ]
    },
    {
      "cell_type": "code",
      "source": [
        "fdist[3]"
      ],
      "metadata": {
        "colab": {
          "base_uri": "https://localhost:8080/"
        },
        "id": "5z4kU6AqanuW",
        "outputId": "05166f2b-4120-4fdf-daa9-c9b775cf5e08"
      },
      "execution_count": 62,
      "outputs": [
        {
          "output_type": "execute_result",
          "data": {
            "text/plain": [
              "50223"
            ]
          },
          "metadata": {},
          "execution_count": 62
        }
      ]
    },
    {
      "cell_type": "code",
      "source": [
        "fdist.freq(3)"
      ],
      "metadata": {
        "colab": {
          "base_uri": "https://localhost:8080/"
        },
        "id": "TpEMKvAHaoTW",
        "outputId": "e71c2919-5384-4a3c-95b4-c85b5bb5a459"
      },
      "execution_count": 63,
      "outputs": [
        {
          "output_type": "execute_result",
          "data": {
            "text/plain": [
              "0.19255882431878046"
            ]
          },
          "metadata": {},
          "execution_count": 63
        }
      ]
    },
    {
      "cell_type": "markdown",
      "source": [
        "From this we see that the most frequent word length is 3, and that words of length 3 account for roughly 50,000 (or 20%) of the words making up the book. Although we will not pursue it here, further analysis of word length might help us understand differences between authors, genres, or languages."
      ],
      "metadata": {
        "id": "ibyHhC1gasOY"
      }
    },
    {
      "cell_type": "markdown",
      "source": [
        "| Fungsi                                 | Deskripsi                                                       |\n",
        "|----------------------------------------|-----------------------------------------------------------------|\n",
        "| `fdist = FreqDist(samples)`            | Bikin frequency distribution dari samples yang ada              |\n",
        "| `fdist[sample] += 1`                   | Nambah count buat sample tertentu                               |\n",
        "| `fdist['monstrous']`                   | Nampilin count berapa kali sample itu muncul                      |\n",
        "| `fdist.freq('monstrous')`              | Nampilin frequency (proporsi) sample tersebut                     |\n",
        "| `fdist.N()`                            | Total sample yang ada                                            |\n",
        "| `fdist.most_common(n)`                 | N most common samples beserta frekuensinya                        |\n",
        "| `for sample in fdist:`                 | Iterasi buat ngelewatin tiap sample                                |\n",
        "| `fdist.max()`                          | Sample dengan count tertinggi                                    |\n",
        "| `fdist.tabulate()`                     | Nampilin tabel frequency distribution                             |\n",
        "| `fdist.plot()`                         | Bikin grafik frequency distribution                              |\n",
        "| `fdist.plot(cumulative=True)`          | Bikin grafik kumulatif frequency distribution                      |\n",
        "| `fdist1 =fdist2`                     | Update fdist1 dengan count dari fdist2                              |\n",
        "| `fdist1 < fdist2`                      | Cek apakah sample di fdist1 muncul lebih sedikit dibanding fdist2   |"
      ],
      "metadata": {
        "id": "yvMUaHHpa42s"
      }
    },
    {
      "cell_type": "markdown",
      "source": [
        "## Back to Python: Making Decisions and Taking Control\n",
        "\n",
        "So far, our little programs have had some interesting qualities: the ability to work with language, and the potential to save human effort through automation. A key feature of programming is the ability of machines to make decisions on our behalf, executing instructions when certain conditions are met, or repeatedly looping through text data until some condition is satisfied. This feature is known as control, and is the focus of this section."
      ],
      "metadata": {
        "id": "8l-kyrQFbLPO"
      }
    },
    {
      "cell_type": "markdown",
      "source": [
        "### Conditionals\n",
        "Python supports a wide range of operators, such as < and >=, for testing the relationship between values. The full set of these relational operators is shown in 4.1.\n",
        "\n",
        "| Operator | Relationship                                         |\n",
        "|----------|------------------------------------------------------|\n",
        "| `<`      | less than                                            |\n",
        "| `<=`     | less than or equal to                                |\n",
        "| `==`     | equal to (note this is two \"=\" signs, not one)       |\n",
        "| `!=`     | not equal to                                         |\n",
        "| `>`      | greater than                                         |\n",
        "| `>=`     | greater than or equal to                             |\n",
        "\n",
        "\n",
        "\n",
        "We can use these to select different words from a sentence of news text. Here are some examples — only the operator is changed from one line to the next. They all use sent7, the first sentence from text7 (Wall Street Journal). As before, if you get an error saying that sent7 is undefined, you need to first type: from nltk.book import *\n",
        "\n"
      ],
      "metadata": {
        "id": "YGApJGMHbbCr"
      }
    },
    {
      "cell_type": "code",
      "source": [
        "sent7"
      ],
      "metadata": {
        "colab": {
          "base_uri": "https://localhost:8080/"
        },
        "id": "YzcxfeeebRpB",
        "outputId": "d30b9136-e677-4ba0-e5e8-60aa1d761c91"
      },
      "execution_count": 64,
      "outputs": [
        {
          "output_type": "execute_result",
          "data": {
            "text/plain": [
              "['Pierre',\n",
              " 'Vinken',\n",
              " ',',\n",
              " '61',\n",
              " 'years',\n",
              " 'old',\n",
              " ',',\n",
              " 'will',\n",
              " 'join',\n",
              " 'the',\n",
              " 'board',\n",
              " 'as',\n",
              " 'a',\n",
              " 'nonexecutive',\n",
              " 'director',\n",
              " 'Nov.',\n",
              " '29',\n",
              " '.']"
            ]
          },
          "metadata": {},
          "execution_count": 64
        }
      ]
    },
    {
      "cell_type": "code",
      "source": [
        "[w for w in sent7 if len(w) < 4]"
      ],
      "metadata": {
        "colab": {
          "base_uri": "https://localhost:8080/"
        },
        "id": "8mzclfi6iOok",
        "outputId": "f6788366-7f46-4bb2-91e2-acc6983594ca"
      },
      "execution_count": 65,
      "outputs": [
        {
          "output_type": "execute_result",
          "data": {
            "text/plain": [
              "[',', '61', 'old', ',', 'the', 'as', 'a', '29', '.']"
            ]
          },
          "metadata": {},
          "execution_count": 65
        }
      ]
    },
    {
      "cell_type": "code",
      "source": [
        "[w for w in sent7 if len(w) <= 4]"
      ],
      "metadata": {
        "colab": {
          "base_uri": "https://localhost:8080/"
        },
        "id": "0uTgzhppiSSi",
        "outputId": "fd191148-39ad-40fc-f1da-af506061a1fc"
      },
      "execution_count": 66,
      "outputs": [
        {
          "output_type": "execute_result",
          "data": {
            "text/plain": [
              "[',', '61', 'old', ',', 'will', 'join', 'the', 'as', 'a', 'Nov.', '29', '.']"
            ]
          },
          "metadata": {},
          "execution_count": 66
        }
      ]
    },
    {
      "cell_type": "code",
      "source": [
        "[w for w in sent7 if len(w) == 4]"
      ],
      "metadata": {
        "colab": {
          "base_uri": "https://localhost:8080/"
        },
        "id": "9VcjXuuviY0n",
        "outputId": "0ea9443e-c625-4cbd-f0af-ab99e5744ef2"
      },
      "execution_count": 67,
      "outputs": [
        {
          "output_type": "execute_result",
          "data": {
            "text/plain": [
              "['will', 'join', 'Nov.']"
            ]
          },
          "metadata": {},
          "execution_count": 67
        }
      ]
    },
    {
      "cell_type": "code",
      "source": [
        "[w for w in sent7 if len(w) != 4]"
      ],
      "metadata": {
        "colab": {
          "base_uri": "https://localhost:8080/"
        },
        "id": "bwiWa5F3iZ62",
        "outputId": "6f552be5-56fb-400b-cab6-780395ad646a"
      },
      "execution_count": 68,
      "outputs": [
        {
          "output_type": "execute_result",
          "data": {
            "text/plain": [
              "['Pierre',\n",
              " 'Vinken',\n",
              " ',',\n",
              " '61',\n",
              " 'years',\n",
              " 'old',\n",
              " ',',\n",
              " 'the',\n",
              " 'board',\n",
              " 'as',\n",
              " 'a',\n",
              " 'nonexecutive',\n",
              " 'director',\n",
              " '29',\n",
              " '.']"
            ]
          },
          "metadata": {},
          "execution_count": 68
        }
      ]
    },
    {
      "cell_type": "markdown",
      "source": [
        "There is a common pattern to all of these examples: [w for w in text if condition ], where condition is a Python \"test\" that yields either true or false. In the cases shown in the previous code example, the condition is always a numerical comparison. However, we can also test various properties of words, using the functions listed in 4.2.\n",
        "\n",
        "Table 4.2:\n",
        "\n",
        "Some Word Comparison Operators\n",
        "\n",
        "| Fungsi            | Makna                                                                                         |\n",
        "|-------------------|-----------------------------------------------------------------------------------------------|\n",
        "| s.startswith(t)   | Menguji apakah string s diawali oleh substring t                                              |\n",
        "| s.endswith(t)     | Menguji apakah string s diakhiri oleh substring t                                               |\n",
        "| t in s            | Menguji apakah substring t terdapat di dalam string s                                           |\n",
        "| s.islower()       | Menguji apakah s mengandung karakter yang memiliki huruf kecil secara menyeluruh                |\n",
        "| s.isupper()       | Menguji apakah s mengandung karakter yang memiliki huruf besar secara menyeluruh                 |\n",
        "| s.isalpha()       | Menguji apakah s tidak kosong dan semua karakternya merupakan huruf alfabet                     |\n",
        "| s.isalnum()       | Menguji apakah s tidak kosong dan semua karakternya merupakan huruf atau angka                  |\n",
        "| s.isdigit()       | Menguji apakah s tidak kosong dan semua karakternya merupakan angka                             |\n",
        "| s.istitle()       | Menguji apakah s mengandung karakter yang memiliki penulisan kapital pada setiap awal kata      |\n"
      ],
      "metadata": {
        "id": "0npuQX3Yio-v"
      }
    },
    {
      "cell_type": "code",
      "source": [
        "sorted(w for w in set(text1) if w.endswith('ableness'))"
      ],
      "metadata": {
        "colab": {
          "base_uri": "https://localhost:8080/"
        },
        "id": "hTZ7450QibMj",
        "outputId": "9f726182-363c-4d26-90c0-21318714ed7a"
      },
      "execution_count": 69,
      "outputs": [
        {
          "output_type": "execute_result",
          "data": {
            "text/plain": [
              "['comfortableness',\n",
              " 'honourableness',\n",
              " 'immutableness',\n",
              " 'indispensableness',\n",
              " 'indomitableness',\n",
              " 'intolerableness',\n",
              " 'palpableness',\n",
              " 'reasonableness',\n",
              " 'uncomfortableness']"
            ]
          },
          "metadata": {},
          "execution_count": 69
        }
      ]
    },
    {
      "cell_type": "code",
      "source": [
        "sorted(term for term in set(text4) if 'gnt' in term)"
      ],
      "metadata": {
        "colab": {
          "base_uri": "https://localhost:8080/"
        },
        "id": "OGMSuNSRjC5b",
        "outputId": "8c15517a-4a07-4561-f18a-cbb7b807d30f"
      },
      "execution_count": 70,
      "outputs": [
        {
          "output_type": "execute_result",
          "data": {
            "text/plain": [
              "['Sovereignty', 'sovereignties', 'sovereignty']"
            ]
          },
          "metadata": {},
          "execution_count": 70
        }
      ]
    },
    {
      "cell_type": "code",
      "source": [
        "sorted(item for item in set(text6) if item.istitle())"
      ],
      "metadata": {
        "colab": {
          "base_uri": "https://localhost:8080/"
        },
        "id": "EcVS3CzyjEBr",
        "outputId": "a5876067-c4a8-4a4d-9dc3-b05209894230"
      },
      "execution_count": 71,
      "outputs": [
        {
          "output_type": "execute_result",
          "data": {
            "text/plain": [
              "['A',\n",
              " 'Aaaaaaaaah',\n",
              " 'Aaaaaaaah',\n",
              " 'Aaaaaah',\n",
              " 'Aaaah',\n",
              " 'Aaaaugh',\n",
              " 'Aaagh',\n",
              " 'Aaah',\n",
              " 'Aaauggh',\n",
              " 'Aaaugh',\n",
              " 'Aaauugh',\n",
              " 'Aagh',\n",
              " 'Aah',\n",
              " 'Aauuggghhh',\n",
              " 'Aauuugh',\n",
              " 'Aauuuuugh',\n",
              " 'Aauuuves',\n",
              " 'Action',\n",
              " 'Actually',\n",
              " 'African',\n",
              " 'Ages',\n",
              " 'Aggh',\n",
              " 'Agh',\n",
              " 'Ah',\n",
              " 'Ahh',\n",
              " 'Alice',\n",
              " 'All',\n",
              " 'Allo',\n",
              " 'Almighty',\n",
              " 'Alright',\n",
              " 'Am',\n",
              " 'Amen',\n",
              " 'An',\n",
              " 'Anarcho',\n",
              " 'And',\n",
              " 'Angnor',\n",
              " 'Anthrax',\n",
              " 'Antioch',\n",
              " 'Anybody',\n",
              " 'Anyway',\n",
              " 'Apples',\n",
              " 'Aramaic',\n",
              " 'Are',\n",
              " 'Arimathea',\n",
              " 'Armaments',\n",
              " 'Arthur',\n",
              " 'As',\n",
              " 'Ask',\n",
              " 'Assyria',\n",
              " 'At',\n",
              " 'Attila',\n",
              " 'Augh',\n",
              " 'Autumn',\n",
              " 'Auuuuuuuugh',\n",
              " 'Away',\n",
              " 'Ay',\n",
              " 'Ayy',\n",
              " 'B',\n",
              " 'Back',\n",
              " 'Bad',\n",
              " 'Badon',\n",
              " 'Battle',\n",
              " 'Be',\n",
              " 'Beast',\n",
              " 'Bedevere',\n",
              " 'Bedwere',\n",
              " 'Behold',\n",
              " 'Between',\n",
              " 'Beyond',\n",
              " 'Black',\n",
              " 'Bloody',\n",
              " 'Blue',\n",
              " 'Bon',\n",
              " 'Bones',\n",
              " 'Book',\n",
              " 'Bors',\n",
              " 'Brave',\n",
              " 'Bravely',\n",
              " 'Bravest',\n",
              " 'Bread',\n",
              " 'Bridge',\n",
              " 'Bring',\n",
              " 'Bristol',\n",
              " 'Britain',\n",
              " 'Britons',\n",
              " 'Brother',\n",
              " 'Build',\n",
              " 'Burn',\n",
              " 'But',\n",
              " 'By',\n",
              " 'C',\n",
              " 'Caerbannog',\n",
              " 'Camaaaaaargue',\n",
              " 'Camelot',\n",
              " 'Castle',\n",
              " 'Chapter',\n",
              " 'Charge',\n",
              " 'Chaste',\n",
              " 'Cherries',\n",
              " 'Chicken',\n",
              " 'Chickennn',\n",
              " 'Chop',\n",
              " 'Christ',\n",
              " 'Churches',\n",
              " 'Cider',\n",
              " 'Clark',\n",
              " 'Clear',\n",
              " 'Come',\n",
              " 'Concorde',\n",
              " 'Consult',\n",
              " 'Cornwall',\n",
              " 'Could',\n",
              " 'Course',\n",
              " 'Court',\n",
              " 'Crapper',\n",
              " 'Cut',\n",
              " 'Dappy',\n",
              " 'Death',\n",
              " 'Defeat',\n",
              " 'Dennis',\n",
              " 'Did',\n",
              " 'Didn',\n",
              " 'Dingo',\n",
              " 'Dis',\n",
              " 'Divine',\n",
              " 'Do',\n",
              " 'Doctor',\n",
              " 'Does',\n",
              " 'Don',\n",
              " 'Dragon',\n",
              " 'Dramatically',\n",
              " 'Ecky',\n",
              " 'Ector',\n",
              " 'Eee',\n",
              " 'Eh',\n",
              " 'Enchanter',\n",
              " 'England',\n",
              " 'English',\n",
              " 'Erbert',\n",
              " 'Ere',\n",
              " 'Erm',\n",
              " 'Eternal',\n",
              " 'European',\n",
              " 'Even',\n",
              " 'Every',\n",
              " 'Everything',\n",
              " 'Ewing',\n",
              " 'Exactly',\n",
              " 'Excalibur',\n",
              " 'Excuse',\n",
              " 'Explain',\n",
              " 'Far',\n",
              " 'Farewell',\n",
              " 'Father',\n",
              " 'Fetchez',\n",
              " 'Fiends',\n",
              " 'Fine',\n",
              " 'First',\n",
              " 'Firstly',\n",
              " 'Five',\n",
              " 'Follow',\n",
              " 'For',\n",
              " 'Forgive',\n",
              " 'Forward',\n",
              " 'Found',\n",
              " 'Four',\n",
              " 'France',\n",
              " 'Frank',\n",
              " 'French',\n",
              " 'Gable',\n",
              " 'Galahad',\n",
              " 'Gallahad',\n",
              " 'Gawain',\n",
              " 'Get',\n",
              " 'Go',\n",
              " 'God',\n",
              " 'Good',\n",
              " 'Gorge',\n",
              " 'Grail',\n",
              " 'Great',\n",
              " 'Greetings',\n",
              " 'Grenade',\n",
              " 'Guards',\n",
              " 'Guy',\n",
              " 'Ha',\n",
              " 'Hah',\n",
              " 'Hallo',\n",
              " 'Halt',\n",
              " 'Hand',\n",
              " 'Hang',\n",
              " 'Have',\n",
              " 'Haw',\n",
              " 'He',\n",
              " 'Hee',\n",
              " 'Heee',\n",
              " 'Heh',\n",
              " 'Hello',\n",
              " 'Help',\n",
              " 'Herbert',\n",
              " 'Here',\n",
              " 'Hey',\n",
              " 'Hic',\n",
              " 'Hill',\n",
              " 'Himself',\n",
              " 'His',\n",
              " 'Hiyaah',\n",
              " 'Hiyah',\n",
              " 'Hiyya',\n",
              " 'Hm',\n",
              " 'Hmm',\n",
              " 'Ho',\n",
              " 'Hoa',\n",
              " 'Hold',\n",
              " 'Holy',\n",
              " 'Honestly',\n",
              " 'Hoo',\n",
              " 'Hooray',\n",
              " 'How',\n",
              " 'Huh',\n",
              " 'Hurry',\n",
              " 'Huy',\n",
              " 'Huyah',\n",
              " 'Hya',\n",
              " 'Hyy',\n",
              " 'I',\n",
              " 'Idiom',\n",
              " 'Iesu',\n",
              " 'If',\n",
              " 'Iiiiives',\n",
              " 'Iiiives',\n",
              " 'In',\n",
              " 'Is',\n",
              " 'Isn',\n",
              " 'It',\n",
              " 'Ives',\n",
              " 'Jesus',\n",
              " 'Joseph',\n",
              " 'Just',\n",
              " 'Keep',\n",
              " 'King',\n",
              " 'Knight',\n",
              " 'Knights',\n",
              " 'Lady',\n",
              " 'Lake',\n",
              " 'Lancelot',\n",
              " 'Launcelot',\n",
              " 'Lead',\n",
              " 'Leaving',\n",
              " 'Let',\n",
              " 'Lie',\n",
              " 'Like',\n",
              " 'Listen',\n",
              " 'Loimbard',\n",
              " 'Look',\n",
              " 'Looks',\n",
              " 'Lord',\n",
              " 'Lucky',\n",
              " 'Make',\n",
              " 'Man',\n",
              " 'May',\n",
              " 'Maynard',\n",
              " 'Meanwhile',\n",
              " 'Mercea',\n",
              " 'Message',\n",
              " 'Midget',\n",
              " 'Mind',\n",
              " 'Mine',\n",
              " 'Mmm',\n",
              " 'Monsieur',\n",
              " 'More',\n",
              " 'Morning',\n",
              " 'Most',\n",
              " 'Mother',\n",
              " 'Mud',\n",
              " 'Must',\n",
              " 'My',\n",
              " 'N',\n",
              " 'Nador',\n",
              " 'Nay',\n",
              " 'Neee',\n",
              " 'Never',\n",
              " 'Ni',\n",
              " 'Nine',\n",
              " 'Ninepence',\n",
              " 'No',\n",
              " 'None',\n",
              " 'Not',\n",
              " 'Nothing',\n",
              " 'Now',\n",
              " 'Nu',\n",
              " 'O',\n",
              " 'Of',\n",
              " 'Off',\n",
              " 'Oh',\n",
              " 'Ohh',\n",
              " 'Old',\n",
              " 'Olfin',\n",
              " 'On',\n",
              " 'Once',\n",
              " 'One',\n",
              " 'Ooh',\n",
              " 'Oooh',\n",
              " 'Oooo',\n",
              " 'Oooohoohohooo',\n",
              " 'Oooooooh',\n",
              " 'Open',\n",
              " 'Or',\n",
              " 'Order',\n",
              " 'Other',\n",
              " 'Oui',\n",
              " 'Our',\n",
              " 'Over',\n",
              " 'Ow',\n",
              " 'Packing',\n",
              " 'Patsy',\n",
              " 'Pendragon',\n",
              " 'Peng',\n",
              " 'Perhaps',\n",
              " 'Peril',\n",
              " 'Picture',\n",
              " 'Pie',\n",
              " 'Piglet',\n",
              " 'Pin',\n",
              " 'Please',\n",
              " 'Practice',\n",
              " 'Prepare',\n",
              " 'Prince',\n",
              " 'Princess',\n",
              " 'Providence',\n",
              " 'Psalms',\n",
              " 'Pull',\n",
              " 'Pure',\n",
              " 'Put',\n",
              " 'Quick',\n",
              " 'Quickly',\n",
              " 'Quiet',\n",
              " 'Quite',\n",
              " 'Quoi',\n",
              " 'Rather',\n",
              " 'Really',\n",
              " 'Recently',\n",
              " 'Remove',\n",
              " 'Rheged',\n",
              " 'Ridden',\n",
              " 'Right',\n",
              " 'Riiight',\n",
              " 'Robin',\n",
              " 'Robinson',\n",
              " 'Roger',\n",
              " 'Round',\n",
              " 'Run',\n",
              " 'Running',\n",
              " 'S',\n",
              " 'Said',\n",
              " 'Saint',\n",
              " 'Saxons',\n",
              " 'Say',\n",
              " 'Schools',\n",
              " 'See',\n",
              " 'Seek',\n",
              " 'Shall',\n",
              " 'She',\n",
              " 'Shh',\n",
              " 'Shrubber',\n",
              " 'Shrubberies',\n",
              " 'Shut',\n",
              " 'Silence',\n",
              " 'Silly',\n",
              " 'Since',\n",
              " 'Sir',\n",
              " 'Skip',\n",
              " 'So',\n",
              " 'Sorry',\n",
              " 'Speak',\n",
              " 'Splendid',\n",
              " 'Spring',\n",
              " 'Stand',\n",
              " 'Stay',\n",
              " 'Steady',\n",
              " 'Stop',\n",
              " 'Summer',\n",
              " 'Supposing',\n",
              " 'Supreme',\n",
              " 'Surely',\n",
              " 'Swamp',\n",
              " 'Table',\n",
              " 'Tale',\n",
              " 'Tall',\n",
              " 'Tell',\n",
              " 'Thank',\n",
              " 'That',\n",
              " 'The',\n",
              " 'Thee',\n",
              " 'Then',\n",
              " 'There',\n",
              " 'Therefore',\n",
              " 'They',\n",
              " 'This',\n",
              " 'Those',\n",
              " 'Thou',\n",
              " 'Thpppppt',\n",
              " 'Thppppt',\n",
              " 'Thpppt',\n",
              " 'Thppt',\n",
              " 'Three',\n",
              " 'Throw',\n",
              " 'Thsss',\n",
              " 'Thursday',\n",
              " 'Thy',\n",
              " 'Til',\n",
              " 'Tim',\n",
              " 'Tis',\n",
              " 'To',\n",
              " 'Today',\n",
              " 'Together',\n",
              " 'Too',\n",
              " 'Torment',\n",
              " 'Tower',\n",
              " 'True',\n",
              " 'Try',\n",
              " 'Twenty',\n",
              " 'Two',\n",
              " 'U',\n",
              " 'Uh',\n",
              " 'Uhh',\n",
              " 'Ulk',\n",
              " 'Um',\n",
              " 'Umhm',\n",
              " 'Umm',\n",
              " 'Un',\n",
              " 'Unfortunately',\n",
              " 'Until',\n",
              " 'Use',\n",
              " 'Uther',\n",
              " 'Uugh',\n",
              " 'Uuh',\n",
              " 'Very',\n",
              " 'Victory',\n",
              " 'W',\n",
              " 'Waa',\n",
              " 'Wait',\n",
              " 'Walk',\n",
              " 'Wayy',\n",
              " 'We',\n",
              " 'Welcome',\n",
              " 'Well',\n",
              " 'What',\n",
              " 'When',\n",
              " 'Where',\n",
              " 'Which',\n",
              " 'Who',\n",
              " 'Whoa',\n",
              " 'Why',\n",
              " 'Will',\n",
              " 'Winston',\n",
              " 'Winter',\n",
              " 'With',\n",
              " 'Woa',\n",
              " 'Wood',\n",
              " 'Would',\n",
              " 'Y',\n",
              " 'Yapping',\n",
              " 'Yay',\n",
              " 'Yeaaah',\n",
              " 'Yeaah',\n",
              " 'Yeah',\n",
              " 'Yes',\n",
              " 'You',\n",
              " 'Your',\n",
              " 'Yup',\n",
              " 'Zoot']"
            ]
          },
          "metadata": {},
          "execution_count": 71
        }
      ]
    },
    {
      "cell_type": "code",
      "source": [
        "sorted(item for item in set(sent7) if item.isdigit())"
      ],
      "metadata": {
        "colab": {
          "base_uri": "https://localhost:8080/"
        },
        "id": "H8pASynIjF1W",
        "outputId": "c9aa1333-7065-469a-aa55-7457eb3e5723"
      },
      "execution_count": 72,
      "outputs": [
        {
          "output_type": "execute_result",
          "data": {
            "text/plain": [
              "['29', '61']"
            ]
          },
          "metadata": {},
          "execution_count": 72
        }
      ]
    },
    {
      "cell_type": "markdown",
      "source": [
        "We can also create more complex conditions. If c is a condition, then not c is also a condition. If we have two conditions c1 and c2, then we can combine them to form a new condition using conjunction and disjunction: c1 and c2, c1 or c2."
      ],
      "metadata": {
        "id": "MJ3eSToGjNOT"
      }
    },
    {
      "cell_type": "code",
      "source": [
        "sorted(w for w in set(text7) if '-' in w and 'index' in w)"
      ],
      "metadata": {
        "colab": {
          "base_uri": "https://localhost:8080/"
        },
        "id": "idgyvJ1gjHyo",
        "outputId": "82498723-110c-4f0f-be50-2d50539c6642"
      },
      "execution_count": 73,
      "outputs": [
        {
          "output_type": "execute_result",
          "data": {
            "text/plain": [
              "['Stock-index',\n",
              " 'index-arbitrage',\n",
              " 'index-fund',\n",
              " 'index-options',\n",
              " 'index-related',\n",
              " 'stock-index']"
            ]
          },
          "metadata": {},
          "execution_count": 73
        }
      ]
    },
    {
      "cell_type": "code",
      "source": [
        "sorted(t for t in set(text2) if 'cie' in t or 'cei' in t)"
      ],
      "metadata": {
        "colab": {
          "base_uri": "https://localhost:8080/"
        },
        "id": "3ySgWbp5jLWb",
        "outputId": "9897b988-f6a8-4086-abb0-eb4644c9b6ca"
      },
      "execution_count": 74,
      "outputs": [
        {
          "output_type": "execute_result",
          "data": {
            "text/plain": [
              "['ancient',\n",
              " 'ceiling',\n",
              " 'conceit',\n",
              " 'conceited',\n",
              " 'conceive',\n",
              " 'conscience',\n",
              " 'conscientious',\n",
              " 'conscientiously',\n",
              " 'deceitful',\n",
              " 'deceive',\n",
              " 'deceived',\n",
              " 'deceiving',\n",
              " 'deficiencies',\n",
              " 'deficiency',\n",
              " 'deficient',\n",
              " 'delicacies',\n",
              " 'excellencies',\n",
              " 'fancied',\n",
              " 'insufficiency',\n",
              " 'insufficient',\n",
              " 'legacies',\n",
              " 'perceive',\n",
              " 'perceived',\n",
              " 'perceiving',\n",
              " 'prescience',\n",
              " 'prophecies',\n",
              " 'receipt',\n",
              " 'receive',\n",
              " 'received',\n",
              " 'receiving',\n",
              " 'society',\n",
              " 'species',\n",
              " 'sufficient',\n",
              " 'sufficiently',\n",
              " 'undeceive',\n",
              " 'undeceiving']"
            ]
          },
          "metadata": {},
          "execution_count": 74
        }
      ]
    },
    {
      "cell_type": "markdown",
      "source": [
        "### Operating on Every Element\n",
        "\n",
        "In 3, we saw some examples of counting items other than words. Let's take a closer look at the notation we used:"
      ],
      "metadata": {
        "id": "0IJHi-5-jQzM"
      }
    },
    {
      "cell_type": "code",
      "source": [
        "[len(w) for w in text1][:15]"
      ],
      "metadata": {
        "colab": {
          "base_uri": "https://localhost:8080/"
        },
        "id": "55l6FONEjPrM",
        "outputId": "31d03d54-d119-40dc-b800-f3cf9efa79d3"
      },
      "execution_count": 75,
      "outputs": [
        {
          "output_type": "execute_result",
          "data": {
            "text/plain": [
              "[1, 4, 4, 2, 6, 8, 4, 1, 9, 1, 1, 8, 2, 1, 4]"
            ]
          },
          "metadata": {},
          "execution_count": 75
        }
      ]
    },
    {
      "cell_type": "code",
      "source": [
        "[w.upper() for w in text1][:15]"
      ],
      "metadata": {
        "colab": {
          "base_uri": "https://localhost:8080/"
        },
        "id": "gkFl_A1HjoT3",
        "outputId": "8ff12b6b-8dfb-412a-f4d5-c806ba1b326a"
      },
      "execution_count": 76,
      "outputs": [
        {
          "output_type": "execute_result",
          "data": {
            "text/plain": [
              "['[',\n",
              " 'MOBY',\n",
              " 'DICK',\n",
              " 'BY',\n",
              " 'HERMAN',\n",
              " 'MELVILLE',\n",
              " '1851',\n",
              " ']',\n",
              " 'ETYMOLOGY',\n",
              " '.',\n",
              " '(',\n",
              " 'SUPPLIED',\n",
              " 'BY',\n",
              " 'A',\n",
              " 'LATE']"
            ]
          },
          "metadata": {},
          "execution_count": 76
        }
      ]
    },
    {
      "cell_type": "markdown",
      "source": [
        "These expressions have the form [f(w) for ...] or [w.f() for ...], where f is a function that operates on a word to compute its length, or to convert it to uppercase. For now, you don't need to understand the difference between the notations f(w) and w.f(). Instead, simply learn this Python idiom which performs the same operation on every element of a list. In the preceding examples, it goes through each word in text1, assigning each one in turn to the variable w and performing the specified operation on the variable."
      ],
      "metadata": {
        "id": "lKga4DbQj0B5"
      }
    },
    {
      "cell_type": "markdown",
      "source": [
        "<div style=\"background-color:#f0f8ff; border-left: 6px solid #007acc; padding: 15px; border-radius: 5px; margin: 20px 0;\">\n",
        "  <h2 style=\"color:#007acc;\">Note: List Comprehensions</h2>\n",
        "  <p style=\"font-size: 16px;\">\n",
        "    The notation just described is called a <strong>\"list comprehension\"</strong>. This is our first example of a Python idiom, a fixed notation that we use habitually without bothering to analyze each time.\n",
        "  </p>\n",
        "  <p style=\"font-size: 16px;\">\n",
        "    Mastering such idioms is an important part of becoming a fluent Python programmer. Feel free to experiment with them and see how they can make your code more concise and efficient!\n",
        "  </p>\n",
        "</div>\n"
      ],
      "metadata": {
        "id": "79eHe1DlkUi3"
      }
    },
    {
      "cell_type": "markdown",
      "source": [
        "Let's return to the question of vocabulary size, and apply the same idiom here:"
      ],
      "metadata": {
        "id": "QoKPyqn_kbGo"
      }
    },
    {
      "cell_type": "code",
      "source": [
        "len(text1)"
      ],
      "metadata": {
        "colab": {
          "base_uri": "https://localhost:8080/"
        },
        "id": "RY4VTD1cjs1S",
        "outputId": "957b81a2-a5bb-4e4e-c99a-92635dc28cd4"
      },
      "execution_count": 77,
      "outputs": [
        {
          "output_type": "execute_result",
          "data": {
            "text/plain": [
              "260819"
            ]
          },
          "metadata": {},
          "execution_count": 77
        }
      ]
    },
    {
      "cell_type": "code",
      "source": [
        "len(set(text1))"
      ],
      "metadata": {
        "colab": {
          "base_uri": "https://localhost:8080/"
        },
        "id": "Jf3_z4x5kccU",
        "outputId": "096f4f60-89f5-4aa6-a153-fc1391672f4a"
      },
      "execution_count": 78,
      "outputs": [
        {
          "output_type": "execute_result",
          "data": {
            "text/plain": [
              "19317"
            ]
          },
          "metadata": {},
          "execution_count": 78
        }
      ]
    },
    {
      "cell_type": "code",
      "source": [
        "len(set(word.lower() for word in text1))"
      ],
      "metadata": {
        "colab": {
          "base_uri": "https://localhost:8080/"
        },
        "id": "ZulSfVFZkeAY",
        "outputId": "51fffe63-e0af-4b83-9995-6daa011d2b5d"
      },
      "execution_count": 79,
      "outputs": [
        {
          "output_type": "execute_result",
          "data": {
            "text/plain": [
              "17231"
            ]
          },
          "metadata": {},
          "execution_count": 79
        }
      ]
    },
    {
      "cell_type": "markdown",
      "source": [
        "Now that we are not double-counting words like This and this, which differ only in capitalization, we've wiped 2,000 off the vocabulary count! We can go a step further and eliminate numbers and punctuation from the vocabulary count by filtering out any non-alphabetic items:"
      ],
      "metadata": {
        "id": "WlLHRNyakhSP"
      }
    },
    {
      "cell_type": "code",
      "source": [
        "len(set(word.lower() for word in text1 if word.isalpha()))"
      ],
      "metadata": {
        "colab": {
          "base_uri": "https://localhost:8080/"
        },
        "id": "b90XmYqLkfwn",
        "outputId": "d4be84c7-42e5-4cf0-c2f0-e99bde8896a2"
      },
      "execution_count": 80,
      "outputs": [
        {
          "output_type": "execute_result",
          "data": {
            "text/plain": [
              "16948"
            ]
          },
          "metadata": {},
          "execution_count": 80
        }
      ]
    },
    {
      "cell_type": "markdown",
      "source": [
        "This example is slightly complicated: it lowercases all the purely alphabetic items. Perhaps it would have been simpler just to count the lowercase-only items, but this gives the wrong answer (why?).\n",
        "\n",
        "Don't worry if you don't feel confident with list comprehensions yet, since you'll see many more examples along with explanations in the following chapters."
      ],
      "metadata": {
        "id": "MxSADpMckkkY"
      }
    },
    {
      "cell_type": "markdown",
      "source": [
        "### Nested Code Blocks\n",
        "\n",
        "Most programming languages permit us to execute a block of code when a conditional expression, or if statement, is satisfied. We already saw examples of conditional tests in code like [w for w in\n",
        "sent7 if len(w) < 4]. In the following program, we have created a variable called word containing the string value 'cat'. The if statement checks whether the test len(word) < 5 is true. It is, so the body of the if statement is invoked and the print statement is executed, displaying a message to the user. Remember to indent the print statement by typing four spaces."
      ],
      "metadata": {
        "id": "-QuPGOEJkltG"
      }
    },
    {
      "cell_type": "code",
      "source": [
        "word = 'cat'\n",
        "if len(word) < 5:\n",
        "  print('word lenght is less than 5')"
      ],
      "metadata": {
        "id": "AWLIYSvbki5_",
        "colab": {
          "base_uri": "https://localhost:8080/"
        },
        "outputId": "798e1df4-5bde-4cb7-e2c8-789c6c5feecf"
      },
      "execution_count": 81,
      "outputs": [
        {
          "output_type": "stream",
          "name": "stdout",
          "text": [
            "word lenght is less than 5\n"
          ]
        }
      ]
    },
    {
      "cell_type": "markdown",
      "source": [
        "If we change the conditional test to len(word) >= 5, to check that the length of word is greater than or equal to 5, then the test will no longer be true. This time, the body of the if statement will not be executed, and no message is shown to the user:"
      ],
      "metadata": {
        "id": "waNBEbVYoPM0"
      }
    },
    {
      "cell_type": "code",
      "source": [
        "if len(word) >= 5:\n",
        "  print('word length is greater than or equal to 5')"
      ],
      "metadata": {
        "id": "J6l646F3oLK-"
      },
      "execution_count": 82,
      "outputs": []
    },
    {
      "cell_type": "markdown",
      "source": [
        "An if statement is known as a control structure because it controls whether the code in the indented block will be run. Another control structure is the for loop. Try the following, and remember to include the colon and the four spaces:"
      ],
      "metadata": {
        "id": "4oTUl88IoUlq"
      }
    },
    {
      "cell_type": "code",
      "source": [
        "for word in ['Call', 'me', 'Ishmael', '.']:\n",
        "  print(word)"
      ],
      "metadata": {
        "colab": {
          "base_uri": "https://localhost:8080/"
        },
        "id": "KS7uD70foSg-",
        "outputId": "5988862f-0a82-4fa7-9104-0ef24bcbac26"
      },
      "execution_count": 83,
      "outputs": [
        {
          "output_type": "stream",
          "name": "stdout",
          "text": [
            "Call\n",
            "me\n",
            "Ishmael\n",
            ".\n"
          ]
        }
      ]
    },
    {
      "cell_type": "markdown",
      "source": [
        "This is called a loop because Python executes the code in circular fashion. It starts by performing the assignment word = 'Call', effectively using the word variable to name the first item of the list. Then, it displays the value of word to the user. Next, it goes back to the for statement, and performs the assignment word = 'me', before displaying this new value to the user, and so on. It continues in this fashion until every item of the list has been processed.\n",
        "\n"
      ],
      "metadata": {
        "id": "btrAXPuOoY33"
      }
    },
    {
      "cell_type": "markdown",
      "source": [
        "### Looping with Conditions\n",
        "\n",
        "Now we can combine the if and for statements. We will loop over every item of the list, and print the item only if it ends with the letter l. We'll pick another name for the variable to demonstrate that Python doesn't try to make sense of variable names."
      ],
      "metadata": {
        "id": "DHBtEYG9oaXa"
      }
    },
    {
      "cell_type": "code",
      "source": [
        "sent1 = ['Call', 'me', 'Ishmael', '.']\n",
        "for xyzzy in sent1:\n",
        "  if xyzzy.endswith('l'):\n",
        "    print(xyzzy)"
      ],
      "metadata": {
        "colab": {
          "base_uri": "https://localhost:8080/"
        },
        "id": "KgYFzzv0odo-",
        "outputId": "495058f2-7609-44af-d3be-c67d942f6dc7"
      },
      "execution_count": 84,
      "outputs": [
        {
          "output_type": "stream",
          "name": "stdout",
          "text": [
            "Call\n",
            "Ishmael\n"
          ]
        }
      ]
    },
    {
      "cell_type": "markdown",
      "source": [
        "You will notice that if and for statements have a colon at the end of the line, before the indentation begins. In fact, all Python control structures end with a colon. The colon indicates that the current statement relates to the indented block that follows.\n",
        "\n",
        "We can also specify an action to be taken if the condition of the if statement is not met. Here we see the elif (else if) statement, and the else statement. Notice that these also have colons before the indented code."
      ],
      "metadata": {
        "id": "N0GMuU9Mondt"
      }
    },
    {
      "cell_type": "code",
      "source": [
        "for token in sent1:\n",
        "  if token.islower():\n",
        "    print(token, 'is a lowercase word')\n",
        "  elif token.istitle():\n",
        "    print(token, 'is a titlecase word')\n",
        "  else:\n",
        "    print(token, 'is punctuation')"
      ],
      "metadata": {
        "colab": {
          "base_uri": "https://localhost:8080/"
        },
        "id": "yPrne8kRojCD",
        "outputId": "43355255-1f18-44ab-b76f-47ad03eed108"
      },
      "execution_count": 85,
      "outputs": [
        {
          "output_type": "stream",
          "name": "stdout",
          "text": [
            "Call is a titlecase word\n",
            "me is a lowercase word\n",
            "Ishmael is a titlecase word\n",
            ". is punctuation\n"
          ]
        }
      ]
    },
    {
      "cell_type": "markdown",
      "source": [
        "As you can see, even with this small amount of Python knowledge, you can start to build multiline Python programs. It's important to develop such programs in pieces, testing that each piece does what you expect before combining them into a program. This is why the Python interactive interpreter is so invaluable, and why you should get comfortable using it.\n",
        "\n",
        "Finally, let's combine the idioms we've been exploring. First, we create a list of cie and cei words, then we loop over each item and print it. Notice the extra information given in the print statement: end=' '. This tells Python to print a space (not the default newline) after each word."
      ],
      "metadata": {
        "id": "VbPLE3EVo7b1"
      }
    },
    {
      "cell_type": "code",
      "source": [
        "tricky = sorted(w for w in set(text2) if 'cie' in w or 'cei' in w)\n",
        "for word in tricky:\n",
        "  print(word, end=' ')"
      ],
      "metadata": {
        "colab": {
          "base_uri": "https://localhost:8080/"
        },
        "id": "wdSQCe_No3-K",
        "outputId": "bed74a0c-1bda-46af-f992-886d7cc824a2"
      },
      "execution_count": 86,
      "outputs": [
        {
          "output_type": "stream",
          "name": "stdout",
          "text": [
            "ancient ceiling conceit conceited conceive conscience conscientious conscientiously deceitful deceive deceived deceiving deficiencies deficiency deficient delicacies excellencies fancied insufficiency insufficient legacies perceive perceived perceiving prescience prophecies receipt receive received receiving society species sufficient sufficiently undeceive undeceiving "
          ]
        }
      ]
    },
    {
      "cell_type": "markdown",
      "source": [
        "## Automatic Natural Language Understanding\n",
        "\n",
        "We have been exploring language bottom-up, with the help of texts and the Python programming language. However, we're also interested in exploiting our knowledge of language and computation by building useful language technologies. We'll take the opportunity now to step back from the nitty-gritty of code in order to paint a bigger picture of natural language processing.\n",
        "\n",
        "At a purely practical level, we all need help to navigate the universe of information locked up in text on the Web. Search engines have been crucial to the growth and popularity of the Web, but have some shortcomings. It takes skill, knowledge, and some luck, to extract answers to such questions as: What tourist sites can I visit between Philadelphia and Pittsburgh on a limited budget? What do experts say about digital SLR cameras? What predictions about the steel market were made by credible commentators in the past week? Getting a computer to answer them automatically involves a range of language processing tasks, including information extraction, inference, and summarization, and would need to be carried out on a scale and with a level of robustness that is still beyond our current capabilities.\n",
        "\n",
        "On a more philosophical level, a long-standing challenge within artificial intelligence has been to build intelligent machines, and a major part of intelligent behaviour is understanding language. For many years this goal has been seen as too difficult. However, as NLP technologies become more mature, and robust methods for analyzing unrestricted text become more widespread, the prospect of natural language understanding has re-emerged as a plausible goal.\n",
        "\n",
        "In this section we describe some language understanding technologies, to give you a sense of the interesting challenges that are waiting for you."
      ],
      "metadata": {
        "id": "heF4WfSNpO7Q"
      }
    },
    {
      "cell_type": "markdown",
      "source": [
        "### Word Sense Disambiguation\n",
        "\n",
        "In word sense disambiguation we want to work out which sense of a word was intended in a given context. Consider the ambiguous words serve and dish:\n",
        "\n",
        "(2)\n",
        "a.\t\tserve: help with food or drink; hold an office; put ball into play\n",
        "\n",
        "b.\t\tdish: plate; course of a meal; communications device\n",
        "\n",
        "\n",
        "In a sentence containing the phrase: he served the dish, you can detect that both serve and dish are being used with their food meanings. It's unlikely that the topic of discussion shifted from sports to crockery in the space of three words. This would force you to invent bizarre images, like a tennis pro taking out his or her frustrations on a china tea-set laid out beside the court. In other words, we automatically disambiguate words using context, exploiting the simple fact that nearby words have closely related meanings. As another example of this contextual effect, consider the word by, which has several meanings, e.g.: the book by Chesterton (agentive — Chesterton was the author of the book); the cup by the stove (locative — the stove is where the cup is); and submit by Friday (temporal — Friday is the time of the submitting). Observe in (3c) that the meaning of the italicized word helps us interpret the meaning of by.\n",
        "\n",
        "(3)\n",
        "a.\t\tThe lost children were found by the searchers (agentive)\n",
        "\n",
        "b.\t\tThe lost children were found by the mountain (locative)\n",
        "\n",
        "c.\t\tThe lost children were found by the afternoon (temporal)\n",
        "\n"
      ],
      "metadata": {
        "id": "QBO5BWhJqvuE"
      }
    },
    {
      "cell_type": "markdown",
      "source": [
        "###Pronoun Resolution\n",
        "\n",
        "A deeper kind of language understanding is to work out \"who did what to whom\" — i.e., to detect the subjects and objects of verbs. You learnt to do this in elementary school, but it's harder than you might think. In the sentence the thieves stole the paintings it is easy to tell who performed the stealing action. Consider three possible following sentences in (4c), and try to determine what was sold, caught, and found (one case is ambiguous).\n",
        "\n",
        "(4)\n",
        "a.\t\tThe thieves stole the paintings. They were subsequently sold.\n",
        "\n",
        "b.\t\tThe thieves stole the paintings. They were subsequently caught.\n",
        "\n",
        "c.\t\tThe thieves stole the paintings. They were subsequently found.\n",
        "\n",
        "\n",
        "Answering this question involves finding the antecedent of the pronoun they, either thieves or paintings. Computational techniques for tackling this problem include anaphora resolution — identifying what a pronoun or noun phrase refers to — and semantic role labeling — identifying how a noun phrase relates to the verb (as agent, patient, instrument, and so on)."
      ],
      "metadata": {
        "id": "6-A5U_LHq4-c"
      }
    },
    {
      "cell_type": "markdown",
      "source": [
        "### Generating Language Output\n",
        "\n",
        "If we can automatically solve such problems of language understanding, we will be able to move on to tasks that involve generating language output, such as question answering and machine translation. In the first case, a machine should be able to answer a user's questions relating to collection of texts:\n",
        "\n",
        "(5)\n",
        "a.\t\tText: ... The thieves stole the paintings. They were subsequently sold. ...\n",
        "\n",
        "b.\t\tHuman: Who or what was sold?\n",
        "\n",
        "c.\t\tMachine: The paintings.\n",
        "\n",
        "\n",
        "The machine's answer demonstrates that it has correctly worked out that they refers to paintings and not to thieves. In the second case, the machine should be able to translate the text into another language, accurately conveying the meaning of the original text. In translating the example text into French, we are forced to choose the gender of the pronoun in the second sentence: ils (masculine) if the thieves are found, and elles (feminine) if the paintings are found. Correct translation actually depends on correct understanding of the pronoun.\n",
        "\n",
        "(6)\n",
        "a.\t\tThe thieves stole the paintings. They were subsequently found.\n",
        "\n",
        "b.\t\tLes voleurs ont volé les peintures. Ils ont été trouvés plus tard. (the thieves)\n",
        "\n",
        "c.\t\tLes voleurs ont volé les peintures. Elles ont été trouvées plus tard. (the paintings)\n",
        "\n",
        "\n",
        "In all of these examples, working out the sense of a word, the subject of a verb, and the antecedent of a pronoun are steps in establishing the meaning of a sentence, things we would expect a language understanding system to be able to do."
      ],
      "metadata": {
        "id": "RwyQTNy8rFQz"
      }
    },
    {
      "cell_type": "markdown",
      "source": [
        "### Machine Translation\n",
        "\n",
        "For a long time now, machine translation (MT) has been the holy grail of language understanding, ultimately seeking to provide high-quality, idiomatic translation between any pair of languages. Its roots go back to the early days of the Cold War, when the promise of automatic translation led to substantial government sponsorship, and with it, the genesis of NLP itself.\n",
        "\n",
        "Today, practical translation systems exist for particular pairs of languages, and some are integrated into web search engines. However, these systems have some serious shortcomings, which are starkly revealed by translating a sentence back and forth between a pair of languages until equilibrium is reached, e.g.:\n",
        "\n",
        "0> how long before the next flight to Alice Springs?\n",
        "1> wie lang vor dem folgenden Flug zu Alice Springs?\n",
        "2> how long before the following flight to Alice jump?\n",
        "3> wie lang vor dem folgenden Flug zu Alice springen Sie?\n",
        "4> how long before the following flight to Alice do you jump?\n",
        "5> wie lang, bevor der folgende Flug zu Alice tun, Sie springen?\n",
        "6> how long, before the following flight to Alice does, do you jump?\n",
        "7> wie lang bevor der folgende Flug zu Alice tut, tun Sie springen?\n",
        "8> how long before the following flight to Alice does, do you jump?\n",
        "9> wie lang, bevor der folgende Flug zu Alice tut, tun Sie springen?\n",
        "10> how long, before the following flight does to Alice, do do you jump?\n",
        "11> wie lang bevor der folgende Flug zu Alice tut, Sie tun Sprung?\n",
        "12> how long before the following flight does leap to Alice, does you?\n",
        "Observe that the system correctly translates Alice Springs from English to German (in the line starting 1>), but on the way back to English, this ends up as Alice jump (line 2). The preposition before is initially translated into the corresponding German preposition vor, but later into the conjunction bevor (line 5). After line 5 the sentences become nonsensical (but notice the various phrasings indicated by the commas, and the change from jump to leap). The translation system did not recognize when a word was part of a proper name, and it misinterpreted the grammatical structure.\n",
        "\n",
        "Machine translation is difficult because a given word could have several possible translations (depending on its meaning), and because word order must be changed in keeping with the grammatical structure of the target language. Today these difficulties are being faced by collecting massive quantities of parallel texts from news and government websites that publish documents in two or more languages. Given a document in German and English, and possibly a bilingual dictionary, we can automatically pair up the sentences, a process called text alignment. Once we have a million or more sentence pairs, we can detect corresponding words and phrases, and build a model that can be used for translating new text."
      ],
      "metadata": {
        "id": "okeoM8yjrfr-"
      }
    },
    {
      "cell_type": "markdown",
      "source": [
        "### Spoken Dialog Systems\n",
        "\n",
        "In the history of artificial intelligence, the chief measure of intelligence has been a linguistic one, namely the Turing Test: can a dialogue system, responding to a user's text input, perform so naturally that we cannot distinguish it from a human-generated response? In contrast, today's commercial dialogue systems are very limited, but still perform useful functions in narrowly-defined domains, as we see here:\n",
        "\n",
        "S: How may I help you?\n",
        "U: When is Saving Private Ryan playing?\n",
        "S: For what theater?\n",
        "U: The Paramount theater.\n",
        "S: Saving Private Ryan is not playing at the Paramount theater, but\n",
        "it's playing at the Madison theater at 3:00, 5:30, 8:00, and 10:30.\n",
        "You could not ask this system to provide driving instructions or details of nearby restaurants unless the required information had already been stored and suitable question-answer pairs had been incorporated into the language processing system.\n",
        "\n",
        "Observe that this system seems to understand the user's goals: the user asks when a movie is showing and the system correctly determines from this that the user wants to see the movie. This inference seems so obvious that you probably didn't notice it was made, yet a natural language system needs to be endowed with this capability in order to interact naturally. Without it, when asked Do you know when Saving Private Ryan is playing?, a system might unhelpfully respond with a cold Yes. However, the developers of commercial dialogue systems use contextual assumptions and business logic to ensure that the different ways in which a user might express requests or provide information are handled in a way that makes sense for the particular application. So, if you type When is ..., or I want to know when ..., or Can you tell me when ..., simple rules will always yield screening times. This is enough for the system to provide a useful service.\n",
        "\n",
        "Dialogue systems give us an opportunity to mention the commonly assumed pipeline for NLP. 5.1 shows the architecture of a simple dialogue system. Along the top of the diagram, moving from left to right, is a \"pipeline\" of some language understanding components. These map from speech input via syntactic parsing to some kind of meaning representation. Along the middle, moving from right to left, is the reverse pipeline of components for converting concepts to speech. These components make up the dynamic aspects of the system. At the bottom of the diagram are some representative bodies of static information: the repositories of language-related data that the processing components draw on to do their work."
      ],
      "metadata": {
        "id": "4xeX_T9tsCzY"
      }
    },
    {
      "cell_type": "markdown",
      "source": [
        "### Textual Entailment\n",
        "\n",
        "The challenge of language understanding has been brought into focus in recent years by a public \"shared task\" called Recognizing Textual Entailment (RTE). The basic scenario is simple. Suppose you want to find evidence to support the hypothesis: Sandra Goudie was defeated by Max Purnell, and that you have another short text that seems to be relevant, for example, Sandra Goudie was first elected to Parliament in the 2002 elections, narrowly winning the seat of Coromandel by defeating Labour candidate Max Purnell and pushing incumbent Green MP Jeanette Fitzsimons into third place. Does the text provide enough evidence for you to accept the hypothesis? In this particular case, the answer will be \"No.\" You can draw this conclusion easily, but it is very hard to come up with automated methods for making the right decision. The RTE Challenges provide data that allow competitors to develop their systems, but not enough data for \"brute force\" machine learning techniques (a topic we will cover in chap-data-intensive). Consequently, some linguistic analysis is crucial. In the previous example, it is important for the system to note that Sandra Goudie names the person being defeated in the hypothesis, not the person doing the defeating in the text. As another illustration of the difficulty of the task, consider the following text-hypothesis pair:\n",
        "\n",
        "(7)\n",
        "a.\t\tText: David Golinkin is the editor or author of eighteen books, and over 150 responsa, articles, sermons and books\n",
        "\n",
        "b.\t\tHypothesis: Golinkin has written eighteen books\n",
        "\n",
        "\n",
        "In order to determine whether the hypothesis is supported by the text, the system needs the following background knowledge: (i) if someone is an author of a book, then he/she has written that book; (ii) if someone is an editor of a book, then he/she has not written (all of) that book; (iii) if someone is editor or author of eighteen books, then one cannot conclude that he/she is"
      ],
      "metadata": {
        "id": "BJJ2hLQNsgzq"
      }
    },
    {
      "cell_type": "markdown",
      "source": [
        "### Limitations of NLP\n",
        "Despite the research-led advances in tasks like RTE, natural language systems that have been deployed for real-world applications still cannot perform common-sense reasoning or draw on world knowledge in a general and robust manner. We can wait for these difficult artificial intelligence problems to be solved, but in the meantime it is necessary to live with some severe limitations on the reasoning and knowledge capabilities of natural language systems. Accordingly, right from the beginning, an important goal of NLP research has been to make progress on the difficult task of building technologies that \"understand language,\" using superficial yet powerful techniques instead of unrestricted knowledge and reasoning capabilities. Indeed, this is one of the goals of this book, and we hope to equip you with the knowledge and skills to build useful NLP systems, and to contribute to the long-term aspiration of building intelligent machines."
      ],
      "metadata": {
        "id": "xnqc4SSQsl-b"
      }
    }
  ]
}