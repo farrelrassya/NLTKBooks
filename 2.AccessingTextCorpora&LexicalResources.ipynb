{
  "nbformat": 4,
  "nbformat_minor": 0,
  "metadata": {
    "colab": {
      "provenance": [],
      "authorship_tag": "ABX9TyNLiJykQdoaphD2DDxUJp3G",
      "include_colab_link": true
    },
    "kernelspec": {
      "name": "python3",
      "display_name": "Python 3"
    },
    "language_info": {
      "name": "python"
    }
  },
  "cells": [
    {
      "cell_type": "markdown",
      "metadata": {
        "id": "view-in-github",
        "colab_type": "text"
      },
      "source": [
        "<a href=\"https://colab.research.google.com/github/farrelrassya/NLTKBooks/blob/main/2.AccessingTextCorpora%26LexicalResources.ipynb\" target=\"_parent\"><img src=\"https://colab.research.google.com/assets/colab-badge.svg\" alt=\"Open In Colab\"/></a>"
      ]
    },
    {
      "cell_type": "markdown",
      "source": [
        "Practical work in Natural Language Processing typically uses large bodies of linguistic data, or corpora. The goal of this chapter is to answer the following questions:\n",
        "\n",
        "What are some useful text corpora and lexical resources, and how can we access them with Python?\n",
        "Which Python constructs are most helpful for this work?\n",
        "How do we avoid repeating ourselves when writing Python code?\n",
        "This chapter continues to present programming concepts by example, in the context of a linguistic processing task. We will wait until later before exploring each Python construct systematically. Don't worry if you see an example that contains something unfamiliar; simply try it out and see what it does, and — if you're game — modify it by substituting some part of the code with a different text or word. This way you will associate a task with a programming idiom, and learn the hows and whys later."
      ],
      "metadata": {
        "id": "rVOpJ25et_xi"
      }
    },
    {
      "cell_type": "markdown",
      "source": [
        "## Accessing Text Corpora\n",
        "As just mentioned, a text corpus is a large body of text. Many corpora are designed to contain a careful balance of material in one or more genres. We examined some small text collections in 1., such as the speeches known as the US Presidential Inaugural Addresses. This particular corpus actually contains dozens of individual texts — one per address — but for convenience we glued them end-to-end and treated them as a single text. 1. also used various pre-defined texts that we accessed by typing from nltk.book import *. However, since we want to be able to work with other texts, this section examines a variety of text corpora. We'll see how to select individual texts, and how to work with them.\n",
        "\n",
        "\n"
      ],
      "metadata": {
        "id": "ad438wEuuBaO"
      }
    },
    {
      "cell_type": "code",
      "source": [
        "import nltk"
      ],
      "metadata": {
        "id": "YQ43SpeFuarq"
      },
      "execution_count": 1,
      "outputs": []
    },
    {
      "cell_type": "code",
      "execution_count": 2,
      "metadata": {
        "colab": {
          "base_uri": "https://localhost:8080/"
        },
        "id": "Gi4Sh3Jzt9Az",
        "outputId": "8af834f1-7767-48e4-a27e-a7496c90e8a6"
      },
      "outputs": [
        {
          "output_type": "stream",
          "name": "stderr",
          "text": [
            "[nltk_data] Downloading package gutenberg to /root/nltk_data...\n",
            "[nltk_data]   Unzipping corpora/gutenberg.zip.\n"
          ]
        },
        {
          "output_type": "execute_result",
          "data": {
            "text/plain": [
              "True"
            ]
          },
          "metadata": {},
          "execution_count": 2
        }
      ],
      "source": [
        "import nltk\n",
        "nltk.download('gutenberg')"
      ]
    },
    {
      "cell_type": "markdown",
      "source": [
        "### Gutenberg Corpus\n",
        "\n",
        "NLTK includes a small selection of texts from the Project Gutenberg electronic text archive, which contains some 25,000 free electronic books, hosted at http://www.gutenberg.org/. We begin by getting the Python interpreter to load the NLTK package, then ask to see nltk.corpus.gutenberg.fileids(), the file identifiers in this corpus:"
      ],
      "metadata": {
        "id": "vhGjUHekuJij"
      }
    },
    {
      "cell_type": "code",
      "source": [
        "nltk.corpus.gutenberg.fileids()"
      ],
      "metadata": {
        "colab": {
          "base_uri": "https://localhost:8080/"
        },
        "id": "6ZmUJZXDuI7-",
        "outputId": "1beb149b-b914-4e8e-f6b8-dbcab2ae45b3"
      },
      "execution_count": 3,
      "outputs": [
        {
          "output_type": "execute_result",
          "data": {
            "text/plain": [
              "['austen-emma.txt',\n",
              " 'austen-persuasion.txt',\n",
              " 'austen-sense.txt',\n",
              " 'bible-kjv.txt',\n",
              " 'blake-poems.txt',\n",
              " 'bryant-stories.txt',\n",
              " 'burgess-busterbrown.txt',\n",
              " 'carroll-alice.txt',\n",
              " 'chesterton-ball.txt',\n",
              " 'chesterton-brown.txt',\n",
              " 'chesterton-thursday.txt',\n",
              " 'edgeworth-parents.txt',\n",
              " 'melville-moby_dick.txt',\n",
              " 'milton-paradise.txt',\n",
              " 'shakespeare-caesar.txt',\n",
              " 'shakespeare-hamlet.txt',\n",
              " 'shakespeare-macbeth.txt',\n",
              " 'whitman-leaves.txt']"
            ]
          },
          "metadata": {},
          "execution_count": 3
        }
      ]
    },
    {
      "cell_type": "markdown",
      "source": [
        "Let's pick out the first of these texts — Emma by Jane Austen — and give it a short name, emma, then find out how many words it contains:"
      ],
      "metadata": {
        "id": "5UBt35QBuom1"
      }
    },
    {
      "cell_type": "code",
      "source": [
        "emma = nltk.corpus.gutenberg.words('austen-emma.txt')\n",
        "len(emma)"
      ],
      "metadata": {
        "colab": {
          "base_uri": "https://localhost:8080/"
        },
        "id": "TO22G_AiumD9",
        "outputId": "5079957b-a696-4f70-a58e-fe54a7ae9a98"
      },
      "execution_count": 4,
      "outputs": [
        {
          "output_type": "execute_result",
          "data": {
            "text/plain": [
              "192427"
            ]
          },
          "metadata": {},
          "execution_count": 4
        }
      ]
    },
    {
      "cell_type": "markdown",
      "source": [
        "<div style=\"border: 1px solid #4285F4; background-color: #E8F0FE; padding: 10px; border-radius: 5px;\">\n",
        "  <b>💡 Note</b><br><br>\n",
        "  In 1, we showed how you could carry out concordancing of a text such as <code>text1</code> with the command <code>text1.concordance()</code>. However, this assumes that you are using one of the nine texts obtained as a result of doing <code>from nltk.book import *</code>. Now that you have started examining data from <code>nltk.corpus</code>, as in the previous example, you have to employ the following pair of statements to perform concordancing and other tasks from 1:<br><br>\n",
        "  \n",
        "  <pre style=\"background-color: #f8f9fa; padding: 10px; border-radius: 5px; border-left: 3px solid #4285F4;\">\n",
        "  >>> emma = nltk.Text(nltk.corpus.gutenberg.words('austen-emma.txt'))\n",
        "  >>> emma.concordance(\"surprize\")\n",
        "  </pre>\n",
        "</div>"
      ],
      "metadata": {
        "id": "x-W1JA56zD2k"
      }
    },
    {
      "cell_type": "markdown",
      "source": [
        "When we defined emma, we invoked the words() function of the gutenberg object in NLTK's corpus package. But since it is cumbersome to type such long names all the time, Python provides another version of the import statement, as follows:"
      ],
      "metadata": {
        "id": "OD4vG3vezHtJ"
      }
    },
    {
      "cell_type": "code",
      "source": [
        "from nltk.corpus import gutenberg\n",
        "gutenberg.fileids()"
      ],
      "metadata": {
        "colab": {
          "base_uri": "https://localhost:8080/"
        },
        "id": "9M3TfCHDurbH",
        "outputId": "ed59f718-eb12-4dc4-d10e-77da27a2ddf7"
      },
      "execution_count": 5,
      "outputs": [
        {
          "output_type": "execute_result",
          "data": {
            "text/plain": [
              "['austen-emma.txt',\n",
              " 'austen-persuasion.txt',\n",
              " 'austen-sense.txt',\n",
              " 'bible-kjv.txt',\n",
              " 'blake-poems.txt',\n",
              " 'bryant-stories.txt',\n",
              " 'burgess-busterbrown.txt',\n",
              " 'carroll-alice.txt',\n",
              " 'chesterton-ball.txt',\n",
              " 'chesterton-brown.txt',\n",
              " 'chesterton-thursday.txt',\n",
              " 'edgeworth-parents.txt',\n",
              " 'melville-moby_dick.txt',\n",
              " 'milton-paradise.txt',\n",
              " 'shakespeare-caesar.txt',\n",
              " 'shakespeare-hamlet.txt',\n",
              " 'shakespeare-macbeth.txt',\n",
              " 'whitman-leaves.txt']"
            ]
          },
          "metadata": {},
          "execution_count": 5
        }
      ]
    },
    {
      "cell_type": "markdown",
      "source": [
        "Let's write a short program to display other information about each text, by looping over all the values of fileid corresponding to the gutenberg file identifiers listed earlier and then computing statistics for each text. For a compact output display, we will round each number to the nearest integer, using round()."
      ],
      "metadata": {
        "id": "MQoxwSAAzQ3G"
      }
    },
    {
      "cell_type": "code",
      "source": [
        "nltk.download('punkt_tab')"
      ],
      "metadata": {
        "colab": {
          "base_uri": "https://localhost:8080/"
        },
        "id": "VgaAdEOWzmDp",
        "outputId": "1fdb3088-4091-4407-a566-6f9de019ddf7"
      },
      "execution_count": 6,
      "outputs": [
        {
          "output_type": "stream",
          "name": "stderr",
          "text": [
            "[nltk_data] Downloading package punkt_tab to /root/nltk_data...\n",
            "[nltk_data]   Unzipping tokenizers/punkt_tab.zip.\n"
          ]
        },
        {
          "output_type": "execute_result",
          "data": {
            "text/plain": [
              "True"
            ]
          },
          "metadata": {},
          "execution_count": 6
        }
      ]
    },
    {
      "cell_type": "code",
      "source": [
        "for fileid in gutenberg.fileids():\n",
        "  num_chars = len(gutenberg.raw(fileid))\n",
        "  num_words = len(gutenberg.words(fileid))\n",
        "  num_sents = len(gutenberg.sents(fileid))\n",
        "  num_vocab = len(set(w.lower() for w in gutenberg.words(fileid)))\n",
        "  print(round(num_chars/num_words), round(num_words/num_sents), round(num_words/num_vocab), fileid)"
      ],
      "metadata": {
        "colab": {
          "base_uri": "https://localhost:8080/"
        },
        "id": "2r9dx3bIzNWt",
        "outputId": "c4f9c5f7-8219-420c-f6f2-56ce8d3fcdff"
      },
      "execution_count": 7,
      "outputs": [
        {
          "output_type": "stream",
          "name": "stdout",
          "text": [
            "5 25 26 austen-emma.txt\n",
            "5 26 17 austen-persuasion.txt\n",
            "5 28 22 austen-sense.txt\n",
            "4 34 79 bible-kjv.txt\n",
            "5 19 5 blake-poems.txt\n",
            "4 19 14 bryant-stories.txt\n",
            "4 18 12 burgess-busterbrown.txt\n",
            "4 20 13 carroll-alice.txt\n",
            "5 20 12 chesterton-ball.txt\n",
            "5 23 11 chesterton-brown.txt\n",
            "5 18 11 chesterton-thursday.txt\n",
            "4 21 25 edgeworth-parents.txt\n",
            "5 26 15 melville-moby_dick.txt\n",
            "5 52 11 milton-paradise.txt\n",
            "4 12 9 shakespeare-caesar.txt\n",
            "4 12 8 shakespeare-hamlet.txt\n",
            "4 12 7 shakespeare-macbeth.txt\n",
            "5 36 12 whitman-leaves.txt\n"
          ]
        }
      ]
    },
    {
      "cell_type": "markdown",
      "source": [
        "This program displays three statistics for each text: average word length, average sentence length, and the number of times each vocabulary item appears in the text on average (our lexical diversity score). Observe that average word length appears to be a general property of English, since it has a recurrent value of 4. (In fact, the average word length is really 3 not 4, since the num_chars variable counts space characters.) By contrast average sentence length and lexical diversity appear to be characteristics of particular authors.\n",
        "\n",
        "The previous example also showed how we can access the \"raw\" text of the book [1], not split up into tokens. The raw() function gives us the contents of the file without any linguistic processing. So, for example, len(gutenberg.raw('blake-poems.txt')) tells us how many letters occur in the text, including the spaces between words. The sents() function divides the text up into its sentences, where each sentence is a list of words:"
      ],
      "metadata": {
        "id": "Btnr3zEOz2BU"
      }
    },
    {
      "cell_type": "code",
      "source": [
        "macbeth_sentences = gutenberg.sents('shakespeare-macbeth.txt')\n",
        "macbeth_sentences"
      ],
      "metadata": {
        "id": "ihC5CZdGzTJG",
        "colab": {
          "base_uri": "https://localhost:8080/"
        },
        "outputId": "3d638505-e501-4fcc-8e07-de0722685c97"
      },
      "execution_count": 8,
      "outputs": [
        {
          "output_type": "execute_result",
          "data": {
            "text/plain": [
              "[['[', 'The', 'Tragedie', 'of', 'Macbeth', 'by', 'William', 'Shakespeare', '1603', ']'], ['Actus', 'Primus', '.'], ...]"
            ]
          },
          "metadata": {},
          "execution_count": 8
        }
      ]
    },
    {
      "cell_type": "code",
      "source": [
        "macbeth_sentences[115]"
      ],
      "metadata": {
        "colab": {
          "base_uri": "https://localhost:8080/"
        },
        "id": "HOwVfVOibXpU",
        "outputId": "2bac4859-3200-45b1-8b2d-4edb2f43ae18"
      },
      "execution_count": 9,
      "outputs": [
        {
          "output_type": "execute_result",
          "data": {
            "text/plain": [
              "['All', 'haile', 'Macbeth', ',', 'that', 'shalt', 'be', 'King', 'hereafter']"
            ]
          },
          "metadata": {},
          "execution_count": 9
        }
      ]
    },
    {
      "cell_type": "code",
      "source": [
        "longest_len = max(len(s) for s in macbeth_sentences)\n",
        "[s for s in macbeth_sentences if len(s) == longest_len]"
      ],
      "metadata": {
        "colab": {
          "base_uri": "https://localhost:8080/"
        },
        "id": "WtsZPZ4rbaZ2",
        "outputId": "9fbcfd92-3df8-47b4-d733-6382251d904e"
      },
      "execution_count": 10,
      "outputs": [
        {
          "output_type": "execute_result",
          "data": {
            "text/plain": [
              "[['Doubtfull',\n",
              "  'it',\n",
              "  'stood',\n",
              "  ',',\n",
              "  'As',\n",
              "  'two',\n",
              "  'spent',\n",
              "  'Swimmers',\n",
              "  ',',\n",
              "  'that',\n",
              "  'doe',\n",
              "  'cling',\n",
              "  'together',\n",
              "  ',',\n",
              "  'And',\n",
              "  'choake',\n",
              "  'their',\n",
              "  'Art',\n",
              "  ':',\n",
              "  'The',\n",
              "  'mercilesse',\n",
              "  'Macdonwald',\n",
              "  '(',\n",
              "  'Worthie',\n",
              "  'to',\n",
              "  'be',\n",
              "  'a',\n",
              "  'Rebell',\n",
              "  ',',\n",
              "  'for',\n",
              "  'to',\n",
              "  'that',\n",
              "  'The',\n",
              "  'multiplying',\n",
              "  'Villanies',\n",
              "  'of',\n",
              "  'Nature',\n",
              "  'Doe',\n",
              "  'swarme',\n",
              "  'vpon',\n",
              "  'him',\n",
              "  ')',\n",
              "  'from',\n",
              "  'the',\n",
              "  'Westerne',\n",
              "  'Isles',\n",
              "  'Of',\n",
              "  'Kernes',\n",
              "  'and',\n",
              "  'Gallowgrosses',\n",
              "  'is',\n",
              "  'supply',\n",
              "  \"'\",\n",
              "  'd',\n",
              "  ',',\n",
              "  'And',\n",
              "  'Fortune',\n",
              "  'on',\n",
              "  'his',\n",
              "  'damned',\n",
              "  'Quarry',\n",
              "  'smiling',\n",
              "  ',',\n",
              "  'Shew',\n",
              "  \"'\",\n",
              "  'd',\n",
              "  'like',\n",
              "  'a',\n",
              "  'Rebells',\n",
              "  'Whore',\n",
              "  ':',\n",
              "  'but',\n",
              "  'all',\n",
              "  \"'\",\n",
              "  's',\n",
              "  'too',\n",
              "  'weake',\n",
              "  ':',\n",
              "  'For',\n",
              "  'braue',\n",
              "  'Macbeth',\n",
              "  '(',\n",
              "  'well',\n",
              "  'hee',\n",
              "  'deserues',\n",
              "  'that',\n",
              "  'Name',\n",
              "  ')',\n",
              "  'Disdayning',\n",
              "  'Fortune',\n",
              "  ',',\n",
              "  'with',\n",
              "  'his',\n",
              "  'brandisht',\n",
              "  'Steele',\n",
              "  ',',\n",
              "  'Which',\n",
              "  'smoak',\n",
              "  \"'\",\n",
              "  'd',\n",
              "  'with',\n",
              "  'bloody',\n",
              "  'execution',\n",
              "  '(',\n",
              "  'Like',\n",
              "  'Valours',\n",
              "  'Minion',\n",
              "  ')',\n",
              "  'caru',\n",
              "  \"'\",\n",
              "  'd',\n",
              "  'out',\n",
              "  'his',\n",
              "  'passage',\n",
              "  ',',\n",
              "  'Till',\n",
              "  'hee',\n",
              "  'fac',\n",
              "  \"'\",\n",
              "  'd',\n",
              "  'the',\n",
              "  'Slaue',\n",
              "  ':',\n",
              "  'Which',\n",
              "  'neu',\n",
              "  \"'\",\n",
              "  'r',\n",
              "  'shooke',\n",
              "  'hands',\n",
              "  ',',\n",
              "  'nor',\n",
              "  'bad',\n",
              "  'farwell',\n",
              "  'to',\n",
              "  'him',\n",
              "  ',',\n",
              "  'Till',\n",
              "  'he',\n",
              "  'vnseam',\n",
              "  \"'\",\n",
              "  'd',\n",
              "  'him',\n",
              "  'from',\n",
              "  'the',\n",
              "  'Naue',\n",
              "  'toth',\n",
              "  \"'\",\n",
              "  'Chops',\n",
              "  ',',\n",
              "  'And',\n",
              "  'fix',\n",
              "  \"'\",\n",
              "  'd',\n",
              "  'his',\n",
              "  'Head',\n",
              "  'vpon',\n",
              "  'our',\n",
              "  'Battlements']]"
            ]
          },
          "metadata": {},
          "execution_count": 10
        }
      ]
    },
    {
      "cell_type": "markdown",
      "source": [
        "### Web and Chat Text\n",
        "\n",
        "Although Project Gutenberg contains thousands of books, it represents established literature. It is important to consider less formal language as well. NLTK's small collection of web text includes content from a Firefox discussion forum, conversations overheard in New York, the movie script of Pirates of the Carribean, personal advertisements, and wine reviews:"
      ],
      "metadata": {
        "id": "mO5mZAvRblQk"
      }
    },
    {
      "cell_type": "code",
      "source": [
        "from nltk.corpus import webtext\n",
        "nltk.download('webtext')"
      ],
      "metadata": {
        "colab": {
          "base_uri": "https://localhost:8080/"
        },
        "id": "nHYMX4onbgxV",
        "outputId": "07c6042e-97af-4bce-e524-42307a6102dd"
      },
      "execution_count": 11,
      "outputs": [
        {
          "output_type": "stream",
          "name": "stderr",
          "text": [
            "[nltk_data] Downloading package webtext to /root/nltk_data...\n",
            "[nltk_data]   Unzipping corpora/webtext.zip.\n"
          ]
        },
        {
          "output_type": "execute_result",
          "data": {
            "text/plain": [
              "True"
            ]
          },
          "metadata": {},
          "execution_count": 11
        }
      ]
    },
    {
      "cell_type": "code",
      "source": [
        "for fileid in webtext.fileids():\n",
        "  print(fileid, webtext.raw(fileid)[:65], '...')"
      ],
      "metadata": {
        "colab": {
          "base_uri": "https://localhost:8080/"
        },
        "id": "eangdi9ubqLQ",
        "outputId": "8a0f44b8-34e7-4ac2-ee86-59ebbb78b170"
      },
      "execution_count": 12,
      "outputs": [
        {
          "output_type": "stream",
          "name": "stdout",
          "text": [
            "firefox.txt Cookie Manager: \"Don't allow sites that set removed cookies to se ...\n",
            "grail.txt SCENE 1: [wind] [clop clop clop] \n",
            "KING ARTHUR: Whoa there!  [clop ...\n",
            "overheard.txt White guy: So, do you have any plans for this evening?\n",
            "Asian girl ...\n",
            "pirates.txt PIRATES OF THE CARRIBEAN: DEAD MAN'S CHEST, by Ted Elliott & Terr ...\n",
            "singles.txt 25 SEXY MALE, seeks attrac older single lady, for discreet encoun ...\n",
            "wine.txt Lovely delicate, fragrant Rhone wine. Polished leather and strawb ...\n"
          ]
        }
      ]
    },
    {
      "cell_type": "markdown",
      "source": [
        "There is also a corpus of instant messaging chat sessions, originally collected by the Naval Postgraduate School for research on automatic detection of Internet predators. The corpus contains over 10,000 posts, anonymized by replacing usernames with generic names of the form \"UserNNN\", and manually edited to remove any other identifying information. The corpus is organized into 15 files, where each file contains several hundred posts collected on a given date, for an age-specific chatroom (teens, 20s, 30s, 40s, plus a generic adults chatroom). The filename contains the date, chatroom, and number of posts; e.g., 10-19-20s_706posts.xml contains 706 posts gathered from the 20s chat room on 10/19/2006."
      ],
      "metadata": {
        "id": "cl_QCWSsb5pf"
      }
    },
    {
      "cell_type": "code",
      "source": [
        "from nltk.corpus import nps_chat\n",
        "nltk.download('nps_chat')\n",
        "chatroom = nps_chat.posts('10-19-20s_706posts.xml')\n",
        "chatroom[123]"
      ],
      "metadata": {
        "colab": {
          "base_uri": "https://localhost:8080/"
        },
        "id": "IX7LKo_fbsXn",
        "outputId": "a6c24dee-ee1b-4721-d5d8-56a0a138650c"
      },
      "execution_count": 13,
      "outputs": [
        {
          "output_type": "stream",
          "name": "stderr",
          "text": [
            "[nltk_data] Downloading package nps_chat to /root/nltk_data...\n",
            "[nltk_data]   Unzipping corpora/nps_chat.zip.\n"
          ]
        },
        {
          "output_type": "execute_result",
          "data": {
            "text/plain": [
              "['i',\n",
              " 'do',\n",
              " \"n't\",\n",
              " 'want',\n",
              " 'hot',\n",
              " 'pics',\n",
              " 'of',\n",
              " 'a',\n",
              " 'female',\n",
              " ',',\n",
              " 'I',\n",
              " 'can',\n",
              " 'look',\n",
              " 'in',\n",
              " 'a',\n",
              " 'mirror',\n",
              " '.']"
            ]
          },
          "metadata": {},
          "execution_count": 13
        }
      ]
    },
    {
      "cell_type": "markdown",
      "source": [
        "### Brown Corpus\n",
        "\n",
        "The Brown Corpus was the first million-word electronic corpus of English, created in 1961 at Brown University. This corpus contains text from 500 sources, and the sources have been categorized by genre, such as news, editorial, and so on. 1.1 gives an example of each genre (for a complete list, see http://icame.uib.no/brown/bcm-los.html)."
      ],
      "metadata": {
        "id": "JMyINHfgcHKG"
      }
    },
    {
      "cell_type": "markdown",
      "source": [
        "| ID  | File | Genre             | Description                                                         |\n",
        "|-----|------|-------------------|---------------------------------------------------------------------|\n",
        "| A16 | ca16 | news              | Chicago Tribune: Society Reportage                                  |\n",
        "| B02 | cb02 | editorial         | Christian Science Monitor: Editorials                               |\n",
        "| C17 | cc17 | reviews           | Time Magazine: Reviews                                              |\n",
        "| D12 | cd12 | religion          | Underwood: Probing the Ethics of Realtors                           |\n",
        "| E36 | ce36 | hobbies           | Norling: Renting a Car in Europe                                    |\n",
        "| F25 | cf25 | lore              | Boroff: Jewish Teenage Culture                                       |\n",
        "| G22 | cg22 | belles-lettres    | Reiner: Coping with Runaway Technology                               |\n",
        "| H15 | ch15 | government        | US Office of Civil and Defence Mobilization: The Family Fallout Shelter |\n",
        "| J17 | cj19 | learned           | Mosteller: Probability with Statistical Applications                 |\n",
        "| K04 | ck04 | fiction           | W.E.B. Du Bois: Worlds of Color                                      |\n",
        "| L13 | cl13 | mystery           | Hitchens: Footsteps in the Night                                     |\n",
        "| M01 | cm01 | science fiction   | Heinlein: Stranger in a Strange Land                                 |\n",
        "| N14 | cn15 | adventure         | Field: Rattlesnake Ridge                                             |\n",
        "| P12 | cp12 | romance           | Callaghan: A Passion in Rome                                           |\n",
        "| R06 | cr06 | humor             | Thurber: The Future, If Any, of Comedy                                 |\n"
      ],
      "metadata": {
        "id": "DeRdKgFCcYJT"
      }
    },
    {
      "cell_type": "markdown",
      "source": [
        "We can access the corpus as a list of words, or a list of sentences (where each sentence is itself just a list of words). We can optionally specify particular categories or files to read:"
      ],
      "metadata": {
        "id": "KT0hDyIrcTOg"
      }
    },
    {
      "cell_type": "code",
      "source": [
        "from nltk.corpus import brown\n",
        "nltk.download('brown')\n",
        "brown.categories()"
      ],
      "metadata": {
        "colab": {
          "base_uri": "https://localhost:8080/"
        },
        "id": "sZTa8mpFb8o4",
        "outputId": "eca68c21-c76c-409d-a51e-1c306c303424"
      },
      "execution_count": 14,
      "outputs": [
        {
          "output_type": "stream",
          "name": "stderr",
          "text": [
            "[nltk_data] Downloading package brown to /root/nltk_data...\n",
            "[nltk_data]   Unzipping corpora/brown.zip.\n"
          ]
        },
        {
          "output_type": "execute_result",
          "data": {
            "text/plain": [
              "['adventure',\n",
              " 'belles_lettres',\n",
              " 'editorial',\n",
              " 'fiction',\n",
              " 'government',\n",
              " 'hobbies',\n",
              " 'humor',\n",
              " 'learned',\n",
              " 'lore',\n",
              " 'mystery',\n",
              " 'news',\n",
              " 'religion',\n",
              " 'reviews',\n",
              " 'romance',\n",
              " 'science_fiction']"
            ]
          },
          "metadata": {},
          "execution_count": 14
        }
      ]
    },
    {
      "cell_type": "code",
      "source": [
        "brown.words(categories='news')"
      ],
      "metadata": {
        "colab": {
          "base_uri": "https://localhost:8080/"
        },
        "id": "Q_OdTJUFcWfc",
        "outputId": "24696796-da44-4b95-d34b-04174e4d1ff9"
      },
      "execution_count": 15,
      "outputs": [
        {
          "output_type": "execute_result",
          "data": {
            "text/plain": [
              "['The', 'Fulton', 'County', 'Grand', 'Jury', 'said', ...]"
            ]
          },
          "metadata": {},
          "execution_count": 15
        }
      ]
    },
    {
      "cell_type": "code",
      "source": [
        "brown.words(fileids=['cg22'])"
      ],
      "metadata": {
        "colab": {
          "base_uri": "https://localhost:8080/"
        },
        "id": "lQsu5bgrccaL",
        "outputId": "f8d2c278-2efb-4338-81d3-5949d858d9f9"
      },
      "execution_count": 16,
      "outputs": [
        {
          "output_type": "execute_result",
          "data": {
            "text/plain": [
              "['Does', 'our', 'society', 'have', 'a', 'runaway', ',', ...]"
            ]
          },
          "metadata": {},
          "execution_count": 16
        }
      ]
    },
    {
      "cell_type": "code",
      "source": [
        "brown.sents(categories=['news', 'editorial', 'reviews'])"
      ],
      "metadata": {
        "colab": {
          "base_uri": "https://localhost:8080/"
        },
        "id": "-THeQ6DHceED",
        "outputId": "06376e08-76df-4016-edbc-0ee654033d94"
      },
      "execution_count": 17,
      "outputs": [
        {
          "output_type": "execute_result",
          "data": {
            "text/plain": [
              "[['The', 'Fulton', 'County', 'Grand', 'Jury', 'said', 'Friday', 'an', 'investigation', 'of', \"Atlanta's\", 'recent', 'primary', 'election', 'produced', '``', 'no', 'evidence', \"''\", 'that', 'any', 'irregularities', 'took', 'place', '.'], ['The', 'jury', 'further', 'said', 'in', 'term-end', 'presentments', 'that', 'the', 'City', 'Executive', 'Committee', ',', 'which', 'had', 'over-all', 'charge', 'of', 'the', 'election', ',', '``', 'deserves', 'the', 'praise', 'and', 'thanks', 'of', 'the', 'City', 'of', 'Atlanta', \"''\", 'for', 'the', 'manner', 'in', 'which', 'the', 'election', 'was', 'conducted', '.'], ...]"
            ]
          },
          "metadata": {},
          "execution_count": 17
        }
      ]
    },
    {
      "cell_type": "markdown",
      "source": [
        "The Brown Corpus is a convenient resource for studying systematic differences between genres, a kind of linguistic inquiry known as stylistics. Let's compare genres in their usage of modal verbs. The first step is to produce the counts for a particular genre. Remember to import nltk before doing the following:"
      ],
      "metadata": {
        "id": "NcoDrS4ScmV5"
      }
    },
    {
      "cell_type": "code",
      "source": [
        "news_text = brown.words(categories='news')\n",
        "fdist = nltk.FreqDist(w.lower() for w in news_text)"
      ],
      "metadata": {
        "id": "iovbPQOscgAg"
      },
      "execution_count": 18,
      "outputs": []
    },
    {
      "cell_type": "code",
      "source": [
        "modal = ['can', 'could', 'may', 'might', 'must', 'will']\n",
        "for m in modal:\n",
        "  print(m + ':', fdist[m], end=' ')"
      ],
      "metadata": {
        "colab": {
          "base_uri": "https://localhost:8080/"
        },
        "id": "wz6p-u1Mcq9T",
        "outputId": "8fc1c792-a231-4bac-edc8-e28f8d97acde"
      },
      "execution_count": 19,
      "outputs": [
        {
          "output_type": "stream",
          "name": "stdout",
          "text": [
            "can: 94 could: 87 may: 93 might: 38 must: 53 will: 389 "
          ]
        }
      ]
    },
    {
      "cell_type": "code",
      "source": [
        "cfd = nltk.ConditionalFreqDist(\n",
        "    (genre, word)\n",
        "    for genre in brown.categories()\n",
        "    for word in brown.words(categories=genre)\n",
        ")\n",
        "genres = ['news', 'religion', 'hobbies', 'science_fiction', 'romance', 'humor']\n",
        "modals = ['can', 'could', 'may', 'might', 'must', 'will']\n",
        "cfd.tabulate(conditions=genres, samples=modals)"
      ],
      "metadata": {
        "colab": {
          "base_uri": "https://localhost:8080/"
        },
        "id": "8Gda-nzHcw3t",
        "outputId": "63650d9c-c9e5-417b-d11f-9daf063b0505"
      },
      "execution_count": 20,
      "outputs": [
        {
          "output_type": "stream",
          "name": "stdout",
          "text": [
            "                  can could   may might  must  will \n",
            "           news    93    86    66    38    50   389 \n",
            "       religion    82    59    78    12    54    71 \n",
            "        hobbies   268    58   131    22    83   264 \n",
            "science_fiction    16    49     4    12     8    16 \n",
            "        romance    74   193    11    51    45    43 \n",
            "          humor    16    30     8     8     9    13 \n"
          ]
        }
      ]
    },
    {
      "cell_type": "markdown",
      "source": [
        "Observe that the most frequent modal in the news genre is will, while the most frequent modal in the romance genre is could. Would you have predicted this? The idea that word counts might distinguish genres will be taken up again in chap-data-intensive."
      ],
      "metadata": {
        "id": "0mDgyMG2vhT2"
      }
    },
    {
      "cell_type": "markdown",
      "source": [
        "### Reuters Corpus\n",
        "\n",
        "The Reuters Corpus contains 10,788 news documents totaling 1.3 million words. The documents have been classified into 90 topics, and grouped into two sets, called \"training\" and \"test\"; thus, the text with fileid 'test/14826' is a document drawn from the test set. This split is for training and testing algorithms that automatically detect the topic of a document, as we will see in chap-data-intensive."
      ],
      "metadata": {
        "id": "DiQyg-RDvjRo"
      }
    },
    {
      "cell_type": "code",
      "source": [
        "from nltk.corpus import reuters\n",
        "nltk.download('reuters')"
      ],
      "metadata": {
        "colab": {
          "base_uri": "https://localhost:8080/"
        },
        "id": "A5bdttt8vB23",
        "outputId": "ec52fbc9-b6e6-41d0-df87-61bcf5819f35"
      },
      "execution_count": 21,
      "outputs": [
        {
          "output_type": "stream",
          "name": "stderr",
          "text": [
            "[nltk_data] Downloading package reuters to /root/nltk_data...\n"
          ]
        },
        {
          "output_type": "execute_result",
          "data": {
            "text/plain": [
              "True"
            ]
          },
          "metadata": {},
          "execution_count": 21
        }
      ]
    },
    {
      "cell_type": "code",
      "source": [
        "print(reuters.fileids()[:10])\n",
        "print(reuters.categories()[:10])"
      ],
      "metadata": {
        "colab": {
          "base_uri": "https://localhost:8080/"
        },
        "id": "K6ylC6J-vwXi",
        "outputId": "296ec719-031e-4515-8594-7ec7c655ff39"
      },
      "execution_count": 22,
      "outputs": [
        {
          "output_type": "stream",
          "name": "stdout",
          "text": [
            "['test/14826', 'test/14828', 'test/14829', 'test/14832', 'test/14833', 'test/14839', 'test/14840', 'test/14841', 'test/14842', 'test/14843']\n",
            "['acq', 'alum', 'barley', 'bop', 'carcass', 'castor-oil', 'cocoa', 'coconut', 'coconut-oil', 'coffee']\n"
          ]
        }
      ]
    },
    {
      "cell_type": "markdown",
      "source": [
        "Unlike the Brown Corpus, categories in the Reuters corpus overlap with each other, simply because a news story often covers multiple topics. We can ask for the topics covered by one or more documents, or for the documents included in one or more categories. For convenience, the corpus methods accept a single fileid or a list of fileids."
      ],
      "metadata": {
        "id": "Ytl5q-DmwDyk"
      }
    },
    {
      "cell_type": "code",
      "source": [
        "reuters.categories('training/9865')"
      ],
      "metadata": {
        "colab": {
          "base_uri": "https://localhost:8080/"
        },
        "id": "NRJ-3VATvyml",
        "outputId": "4642a084-baa0-4155-e3b7-7b45187e9c3e"
      },
      "execution_count": 23,
      "outputs": [
        {
          "output_type": "execute_result",
          "data": {
            "text/plain": [
              "['barley', 'corn', 'grain', 'wheat']"
            ]
          },
          "metadata": {},
          "execution_count": 23
        }
      ]
    },
    {
      "cell_type": "code",
      "source": [
        "reuters.categories(['training/9865', 'training/9880'])"
      ],
      "metadata": {
        "colab": {
          "base_uri": "https://localhost:8080/"
        },
        "id": "4sJHSB2owF1U",
        "outputId": "a4109a7e-9953-4247-ab78-14d6915b365b"
      },
      "execution_count": 24,
      "outputs": [
        {
          "output_type": "execute_result",
          "data": {
            "text/plain": [
              "['barley', 'corn', 'grain', 'money-fx', 'wheat']"
            ]
          },
          "metadata": {},
          "execution_count": 24
        }
      ]
    },
    {
      "cell_type": "code",
      "source": [
        "print(reuters.fileids('barley')[:10])"
      ],
      "metadata": {
        "colab": {
          "base_uri": "https://localhost:8080/"
        },
        "id": "2ADesuAczAdx",
        "outputId": "21c44969-f7ee-4804-a851-c17cc6136c08"
      },
      "execution_count": 25,
      "outputs": [
        {
          "output_type": "stream",
          "name": "stdout",
          "text": [
            "['test/15618', 'test/15649', 'test/15676', 'test/15728', 'test/15871', 'test/15875', 'test/15952', 'test/17767', 'test/17769', 'test/18024']\n"
          ]
        }
      ]
    },
    {
      "cell_type": "code",
      "source": [
        "print(reuters.fileids(['barley', 'corn'])[:10])"
      ],
      "metadata": {
        "colab": {
          "base_uri": "https://localhost:8080/"
        },
        "id": "dKbYzwh-zDDL",
        "outputId": "61bf898c-3090-468d-df66-ebcfc70cac30"
      },
      "execution_count": 26,
      "outputs": [
        {
          "output_type": "stream",
          "name": "stdout",
          "text": [
            "['test/14832', 'test/14858', 'test/15033', 'test/15043', 'test/15106', 'test/15287', 'test/15341', 'test/15618', 'test/15648', 'test/15649']\n"
          ]
        }
      ]
    },
    {
      "cell_type": "markdown",
      "source": [
        "Similarly, we can specify the words or sentences we want in terms of files or categories. The first handful of words in each of these texts are the titles, which by convention are stored as upper case."
      ],
      "metadata": {
        "id": "2FVc_V4gzYKb"
      }
    },
    {
      "cell_type": "code",
      "source": [
        "print(reuters.words('training/9865')[:14])"
      ],
      "metadata": {
        "colab": {
          "base_uri": "https://localhost:8080/"
        },
        "id": "77zJAyPEzJ7L",
        "outputId": "08b88670-ef63-4423-a403-3ff8a511cfdd"
      },
      "execution_count": 27,
      "outputs": [
        {
          "output_type": "stream",
          "name": "stdout",
          "text": [
            "['FRENCH', 'FREE', 'MARKET', 'CEREAL', 'EXPORT', 'BIDS', 'DETAILED', 'French', 'operators', 'have', 'requested', 'licences', 'to', 'export']\n"
          ]
        }
      ]
    },
    {
      "cell_type": "code",
      "source": [
        "reuters.words(['training/9865', 'training/9880'])"
      ],
      "metadata": {
        "colab": {
          "base_uri": "https://localhost:8080/"
        },
        "id": "pd_Or-pizZxl",
        "outputId": "46bedfbd-8fe4-4dd3-b369-94545483dff5"
      },
      "execution_count": 28,
      "outputs": [
        {
          "output_type": "execute_result",
          "data": {
            "text/plain": [
              "['FRENCH', 'FREE', 'MARKET', 'CEREAL', 'EXPORT', ...]"
            ]
          },
          "metadata": {},
          "execution_count": 28
        }
      ]
    },
    {
      "cell_type": "code",
      "source": [
        "reuters.words(categories='barley')"
      ],
      "metadata": {
        "colab": {
          "base_uri": "https://localhost:8080/"
        },
        "id": "9CHYFSMpzexp",
        "outputId": "f2c7d85d-8d6f-4940-ebb8-1a06f7d18350"
      },
      "execution_count": 29,
      "outputs": [
        {
          "output_type": "execute_result",
          "data": {
            "text/plain": [
              "['FRENCH', 'FREE', 'MARKET', 'CEREAL', 'EXPORT', ...]"
            ]
          },
          "metadata": {},
          "execution_count": 29
        }
      ]
    },
    {
      "cell_type": "code",
      "source": [
        "reuters.words(categories=['barley', 'corn'])"
      ],
      "metadata": {
        "colab": {
          "base_uri": "https://localhost:8080/"
        },
        "id": "TxnzIZ2uzgvG",
        "outputId": "dcfbaf0d-5040-4344-9f7c-a9e5d0524fbf"
      },
      "execution_count": 30,
      "outputs": [
        {
          "output_type": "execute_result",
          "data": {
            "text/plain": [
              "['THAI', 'TRADE', 'DEFICIT', 'WIDENS', 'IN', 'FIRST', ...]"
            ]
          },
          "metadata": {},
          "execution_count": 30
        }
      ]
    },
    {
      "cell_type": "markdown",
      "source": [
        "### Inaugural Address Corpus\n",
        "\n",
        "In 1, we looked at the Inaugural Address Corpus, but treated it as a single text. The graph in fig-inaugural used \"word offset\" as one of the axes; this is the numerical index of the word in the corpus, counting from the first word of the first address. However, the corpus is actually a collection of 55 texts, one for each presidential address. An interesting property of this collection is its time dimension:\n",
        "\n"
      ],
      "metadata": {
        "id": "Zng74Y0wznxH"
      }
    },
    {
      "cell_type": "code",
      "source": [
        "from nltk.corpus import inaugural\n",
        "nltk.download('inaugural')\n",
        "print(inaugural.fileids()[:10])\n",
        "print([fileid[:4] for fileid in inaugural.fileids()])"
      ],
      "metadata": {
        "colab": {
          "base_uri": "https://localhost:8080/"
        },
        "id": "Md-bmAazziIH",
        "outputId": "17199c56-e2df-4e1d-bf65-658885de5549"
      },
      "execution_count": 31,
      "outputs": [
        {
          "output_type": "stream",
          "name": "stdout",
          "text": [
            "['1789-Washington.txt', '1793-Washington.txt', '1797-Adams.txt', '1801-Jefferson.txt', '1805-Jefferson.txt', '1809-Madison.txt', '1813-Madison.txt', '1817-Monroe.txt', '1821-Monroe.txt', '1825-Adams.txt']\n",
            "['1789', '1793', '1797', '1801', '1805', '1809', '1813', '1817', '1821', '1825', '1829', '1833', '1837', '1841', '1845', '1849', '1853', '1857', '1861', '1865', '1869', '1873', '1877', '1881', '1885', '1889', '1893', '1897', '1901', '1905', '1909', '1913', '1917', '1921', '1925', '1929', '1933', '1937', '1941', '1945', '1949', '1953', '1957', '1961', '1965', '1969', '1973', '1977', '1981', '1985', '1989', '1993', '1997', '2001', '2005', '2009', '2013', '2017', '2021', '2025']\n"
          ]
        },
        {
          "output_type": "stream",
          "name": "stderr",
          "text": [
            "[nltk_data] Downloading package inaugural to /root/nltk_data...\n",
            "[nltk_data]   Unzipping corpora/inaugural.zip.\n"
          ]
        }
      ]
    },
    {
      "cell_type": "markdown",
      "source": [
        "Notice that the year of each text appears in its filename. To get the year out of the filename, we extracted the first four characters, using fileid[:4].\n",
        "\n",
        "Let's look at how the words America and citizen are used over time. The following code converts the words in the Inaugural corpus to lowercase using w.lower() [1], then checks if they start with either of the \"targets\" america or citizen using startswith() [1]. Thus it will count words like American's and Citizens. We'll learn about conditional frequency distributions in 2; for now just consider the output, shown in 1.1."
      ],
      "metadata": {
        "id": "bh4KofwE0BiF"
      }
    },
    {
      "cell_type": "code",
      "source": [
        "import matplotlib.pyplot as plt\n",
        "cfd = nltk.ConditionalFreqDist(\n",
        "    (target, fileid[:4])\n",
        "    for fileid in inaugural.fileids()\n",
        "    for w in inaugural.words(fileid)\n",
        "    for target in ['america', 'citizen']\n",
        "    if w.lower().startswith(target)\n",
        ")\n",
        "\n",
        "plt.figure(figsize=(12, 6))\n",
        "cfd.plot()\n",
        "plt.show()"
      ],
      "metadata": {
        "colab": {
          "base_uri": "https://localhost:8080/",
          "height": 406
        },
        "id": "gSuZPmUCzve7",
        "outputId": "6bca0df8-fe0b-45e6-b8c8-d56058af0a74"
      },
      "execution_count": 32,
      "outputs": [
        {
          "output_type": "display_data",
          "data": {
            "text/plain": [
              "<Figure size 1200x600 with 1 Axes>"
            ],
            "image/png": "[encoded data removed]"
          },
          "metadata": {}
        }
      ]
    },
    {
      "cell_type": "markdown",
      "source": [
        "### Annotated Text Corpora\n",
        "\n",
        "Many text corpora contain linguistic annotations, representing POS tags, named entities, syntactic structures, semantic roles, and so forth. NLTK provides convenient ways to access several of these corpora, and has data packages containing corpora and corpus samples, freely downloadable for use in teaching and research. 1.2 lists some of the corpora. For information about downloading them, see http://nltk.org/data. For more examples of how to access NLTK corpora, please consult the Corpus HOWTO at http://nltk.org/howto."
      ],
      "metadata": {
        "id": "IrLfBi6u0isb"
      }
    },
    {
      "cell_type": "markdown",
      "source": [
        "| Corpus                              | Compiler                      | Contents                                                       |\n",
        "|-------------------------------------|-------------------------------|----------------------------------------------------------------|\n",
        "| Brown Corpus                        | Francis, Kucera               | 15 genres, 1.15M words, tagged, categorized                      |\n",
        "| CESS Treebanks                      | CLiC-UB                       | 1M words, tagged and parsed (Catalan, Spanish)                  |\n",
        "| Chat-80 Data Files                  | Pereira & Warren              | World Geographic Database                                      |\n",
        "| CMU Pronouncing Dictionary          | CMU                           | 127k entries                                                   |\n",
        "| CoNLL 2000 Chunking Data            | CoNLL                         | 270k words, tagged and chunked                                  |\n",
        "| CoNLL 2002 Named Entity             | CoNLL                         | 700k words, pos- and named-entity-tagged (Dutch, Spanish)         |\n",
        "| CoNLL 2007 Dependency Treebanks (sel)| CoNLL                         | 150k words, dependency parsed (Basque, Catalan)                 |\n",
        "| Dependency Treebank                 | Narad                         | Dependency parsed version of Penn Treebank sample               |\n",
        "| FrameNet                            | Fillmore, Baker et al         | 10k word senses, 170k manually annotated sentences               |\n",
        "| Floresta Treebank                   | Diana Santos et al            | 9k sentences, tagged and parsed (Portuguese)                     |\n",
        "| Gazetteer Lists                     | Various                       | Lists of cities and countries                                  |\n",
        "| Genesis Corpus                      | Misc web sources              | 6 texts, 200k words, 6 languages                                 |\n",
        "| Gutenberg (selections)              | Hart, Newby, et al            | 18 texts, 2M words                                               |\n",
        "| Inaugural Address Corpus            | CSpan                         | US Presidential Inaugural Addresses (1789-present)               |\n",
        "| Indian POS-Tagged Corpus            | Kumaran et al                 | 60k words, tagged (Bangla, Hindi, Marathi, Telugu)               |\n",
        "| MacMorpho Corpus                    | NILC, USP, Brazil             | 1M words, tagged (Brazilian Portuguese)                          |\n",
        "| Movie Reviews                       | Pang, Lee                     | 2k movie reviews with sentiment polarity classification          |\n",
        "| Names Corpus                        | Kantrowitz, Ross              | 8k male and female names                                         |\n",
        "| NIST 1999 Info Extr (selections)    | Garofolo                     | 63k words, newswire and named-entity SGML markup                 |\n",
        "| Nombank                             | Meyers                        | 115k propositions, 1400 noun frames                              |\n",
        "| NPS Chat Corpus                     | Forsyth, Martell              | 10k IM chat posts, POS-tagged and dialogue-act tagged              |\n",
        "| Open Multilingual WordNet           | Bond et al                    | 15 languages, aligned to English WordNet                         |\n",
        "| PP Attachment Corpus                | Ratnaparkhi                   | 28k prepositional phrases, tagged as noun or verb modifiers        |\n",
        "| Proposition Bank                    | Palmer                        | 113k propositions, 3300 verb frames                              |\n",
        "| Question Classification             | Li, Roth                      | 6k questions, categorized                                        |\n",
        "| Reuters Corpus                      | Reuters                       | 1.3M words, 10k news documents, categorized                      |\n",
        "| Roget's Thesaurus                   | Project Gutenberg             | 200k words, formatted text                                       |\n",
        "| RTE Textual Entailment              | Dagan et al                   | 8k sentence pairs, categorized                                   |\n",
        "| SEMCOR                              | Rus, Mihalcea                 | 880k words, part-of-speech and sense tagged                      |\n",
        "| Senseval 2 Corpus                   | Pedersen                      | 600k words, part-of-speech and sense tagged                      |\n",
        "| SentiWordNet                        | Esuli, Sebastiani             | sentiment scores for 145k WordNet synonym sets                   |\n",
        "| Shakespeare texts (selections)      | Bosak                         | 8 books in XML format                                            |\n",
        "| State of the Union Corpus           | CSPAN                         | 485k words, formatted text                                       |\n",
        "| Stopwords Corpus                    | Porter et al                  | 2,400 stopwords for 11 languages                                 |\n",
        "| Swadesh Corpus                      | Wiktionary                    | comparative wordlists in 24 languages                            |\n",
        "| Switchboard Corpus (selections)     | LDC                           | 36 phonecalls, transcribed, parsed                               |\n",
        "| Univ Decl of Human Rights           | United Nations                | 480k words, 300+ languages                                       |\n",
        "| Penn Treebank (selections)          | LDC                           | 40k words, tagged and parsed                                     |\n",
        "| TIMIT Corpus (selections)           | NIST/LDC                      | audio files and transcripts for 16 speakers                      |\n",
        "| VerbNet 2.1                         | Palmer et al                  | 5k verbs, hierarchically organized, linked to WordNet              |\n",
        "| Wordlist Corpus                     | OpenOffice.org et al          | 960k words and 20k affixes for 8 languages                         |\n",
        "| WordNet 3.0 (English)               | Miller, Fellbaum              | 145k synonym sets                                                |\n"
      ],
      "metadata": {
        "id": "Cqeb0Ieg1Au1"
      }
    },
    {
      "cell_type": "markdown",
      "source": [
        "### Corpora in Other Languages\n",
        "NLTK comes with corpora for many languages, though in some cases you will need to learn how to manipulate character encodings in Python before using these corpora (see 3.3)."
      ],
      "metadata": {
        "id": "04QjWpxD1-eF"
      }
    },
    {
      "cell_type": "code",
      "source": [
        "nltk.download('cess_esp')\n",
        "nltk.download('floresta')\n",
        "nltk.download('indian')\n",
        "nltk.download('udhr')\n",
        "nltk.download('Javanese-Latin1')"
      ],
      "metadata": {
        "colab": {
          "base_uri": "https://localhost:8080/"
        },
        "id": "8uHOGgl42gGJ",
        "outputId": "c3388136-b437-432a-94b0-c9979639bc6e"
      },
      "execution_count": 33,
      "outputs": [
        {
          "output_type": "stream",
          "name": "stderr",
          "text": [
            "[nltk_data] Downloading package cess_esp to /root/nltk_data...\n",
            "[nltk_data]   Unzipping corpora/cess_esp.zip.\n",
            "[nltk_data] Downloading package floresta to /root/nltk_data...\n",
            "[nltk_data]   Unzipping corpora/floresta.zip.\n",
            "[nltk_data] Downloading package indian to /root/nltk_data...\n",
            "[nltk_data]   Unzipping corpora/indian.zip.\n",
            "[nltk_data] Downloading package udhr to /root/nltk_data...\n",
            "[nltk_data]   Unzipping corpora/udhr.zip.\n",
            "[nltk_data] Error loading Javanese-Latin1: Package 'Javanese-Latin1'\n",
            "[nltk_data]     not found in index\n"
          ]
        },
        {
          "output_type": "execute_result",
          "data": {
            "text/plain": [
              "False"
            ]
          },
          "metadata": {},
          "execution_count": 33
        }
      ]
    },
    {
      "cell_type": "code",
      "source": [
        "nltk.corpus.cess_esp.words()"
      ],
      "metadata": {
        "colab": {
          "base_uri": "https://localhost:8080/"
        },
        "id": "2WNMVZYy0JYF",
        "outputId": "b4c716ac-a874-4d96-8792-b0994f458978"
      },
      "execution_count": 34,
      "outputs": [
        {
          "output_type": "execute_result",
          "data": {
            "text/plain": [
              "['El', 'grupo', 'estatal', 'Electricité_de_France', ...]"
            ]
          },
          "metadata": {},
          "execution_count": 34
        }
      ]
    },
    {
      "cell_type": "code",
      "source": [
        "nltk.corpus.floresta.words()"
      ],
      "metadata": {
        "colab": {
          "base_uri": "https://localhost:8080/"
        },
        "id": "nOomX02t2BpB",
        "outputId": "2f347d0d-46a3-4019-aa19-c8cdbb0cc52a"
      },
      "execution_count": 35,
      "outputs": [
        {
          "output_type": "execute_result",
          "data": {
            "text/plain": [
              "['Um', 'revivalismo', 'refrescante', 'O', '7_e_Meio', ...]"
            ]
          },
          "metadata": {},
          "execution_count": 35
        }
      ]
    },
    {
      "cell_type": "code",
      "source": [
        "nltk.corpus.indian.words('hindi.pos')"
      ],
      "metadata": {
        "colab": {
          "base_uri": "https://localhost:8080/"
        },
        "id": "i91QF4x82QEP",
        "outputId": "d21bc759-ac22-4c40-a202-c90365567435"
      },
      "execution_count": 36,
      "outputs": [
        {
          "output_type": "execute_result",
          "data": {
            "text/plain": [
              "['पूर्ण', 'प्रतिबंध', 'हटाओ', ':', 'इराक', 'संयुक्त', ...]"
            ]
          },
          "metadata": {},
          "execution_count": 36
        }
      ]
    },
    {
      "cell_type": "code",
      "source": [
        "print(nltk.corpus.udhr.fileids()[:5])"
      ],
      "metadata": {
        "colab": {
          "base_uri": "https://localhost:8080/"
        },
        "id": "rbOaoMFV2lXY",
        "outputId": "a6736e2e-d5ee-4691-cc1f-6ee9d6c80e48"
      },
      "execution_count": 37,
      "outputs": [
        {
          "output_type": "stream",
          "name": "stdout",
          "text": [
            "['Abkhaz-Cyrillic+Abkh', 'Abkhaz-UTF8', 'Achehnese-Latin1', 'Achuar-Shiwiar-Latin1', 'Adja-UTF8']\n"
          ]
        }
      ]
    },
    {
      "cell_type": "code",
      "source": [
        "nltk.corpus.udhr.words('Javanese-Latin1')[10:]"
      ],
      "metadata": {
        "colab": {
          "base_uri": "https://localhost:8080/"
        },
        "id": "5pjQtjDi2zXk",
        "outputId": "a18ef9fa-b164-4ba8-e687-ae05f02801f1"
      },
      "execution_count": 38,
      "outputs": [
        {
          "output_type": "execute_result",
          "data": {
            "text/plain": [
              "['MANUNGSA', 'Saben', 'umat', 'manungsa', 'lair', ...]"
            ]
          },
          "metadata": {},
          "execution_count": 38
        }
      ]
    },
    {
      "cell_type": "markdown",
      "source": [
        "The last of these corpora, udhr, contains the Universal Declaration of Human Rights in over 300 languages. The fileids for this corpus include information about the character encoding used in the file, such as UTF8 or Latin1. Let's use a conditional frequency distribution to examine the differences in word lengths for a selection of languages included in the udhr corpus. The output is shown in 1.2 (run the program yourself to see a color plot). Note that True and False are Python's built-in boolean values."
      ],
      "metadata": {
        "id": "UFcy4Ddo3Kpt"
      }
    },
    {
      "cell_type": "code",
      "source": [
        "from nltk.corpus import udhr\n",
        "languages = ['Chickasaw', 'English', 'German_Deutsch',\n",
        "             'Greenlandic_Inuktikut', 'Hungarian_Magyar', 'Ibibio_Efik']\n",
        "\n",
        "# Buat ConditionalFreqDist: tiap bahasa, hitung panjang tiap kata\n",
        "cfd = nltk.ConditionalFreqDist(\n",
        "    (lang, len(word))\n",
        "    for lang in languages\n",
        "    for word in udhr.words(lang + '-Latin1')\n",
        ")\n",
        "\n",
        "# Plot grafiknya dengan opsi kumulatif\n",
        "\n",
        "plt.figure(figsize=(12, 6))\n",
        "cfd.plot(cumulative=True)\n",
        "plt.show()\n",
        "\n",
        "\"Figure 1.2: Cumulative Word Length Distributions: Six translations of the Universal Declaration of Human Rights are processed; this graph shows that words having 5 or fewer letters account for about 80% of Ibibio text, 60% of German text, and 25% of Inuktitut text.\""
      ],
      "metadata": {
        "colab": {
          "base_uri": "https://localhost:8080/",
          "height": 459
        },
        "id": "2DpKBLh721Ky",
        "outputId": "19f55f3c-e8fe-4cb4-ba99-cddf11a8bed2"
      },
      "execution_count": 39,
      "outputs": [
        {
          "output_type": "display_data",
          "data": {
            "text/plain": [
              "<Figure size 1200x600 with 1 Axes>"
            ],
            "image/png": "[encoded data removed]"
          },
          "metadata": {}
        },
        {
          "output_type": "execute_result",
          "data": {
            "text/plain": [
              "'Figure 1.2: Cumulative Word Length Distributions: Six translations of the Universal Declaration of Human Rights are processed; this graph shows that words having 5 or fewer letters account for about 80% of Ibibio text, 60% of German text, and 25% of Inuktitut text.'"
            ],
            "application/vnd.google.colaboratory.intrinsic+json": {
              "type": "string"
            }
          },
          "metadata": {},
          "execution_count": 39
        }
      ]
    },
    {
      "cell_type": "markdown",
      "source": [
        "Unfortunately, for many languages, substantial corpora are not yet available. Often there is insufficient government or industrial support for developing language resources, and individual efforts are piecemeal and hard to discover or re-use. Some languages have no established writing system, or are endangered. (See 7 for suggestions on how to locate language resources.)\n",
        "\n"
      ],
      "metadata": {
        "id": "Lm5GJziS39_v"
      }
    },
    {
      "cell_type": "markdown",
      "source": [
        "### Text Corpus Structure\n",
        "We have seen a variety of corpus structures so far; these are summarized in 1.3. The simplest kind lacks any structure: it is just a collection of texts. Often, texts are grouped into categories that might correspond to genre, source, author, language, etc. Sometimes these categories overlap, notably in the case of topical categories as a text can be relevant to more than one topic. Occasionally, text collections have temporal structure, news collections being the most common example."
      ],
      "metadata": {
        "id": "9k5wEq-46x91"
      }
    },
    {
      "cell_type": "markdown",
      "source": [
        "![Gambar Figure 1.3](https://raw.githubusercontent.com/farrelrassya/NLTKBooks/main/Figure%201.3.png)"
      ],
      "metadata": {
        "id": "wQOWD9Mb7PdE"
      }
    },
    {
      "cell_type": "markdown",
      "source": [
        "Table 1.3:\n",
        "\n",
        "Basic Corpus Functionality defined in NLTK: more documentation can be found using help(nltk.corpus.reader) and by reading the online Corpus HOWTO at http://nltk.org/howto.\n",
        "\n",
        "| Example                     | Description                                                      |\n",
        "|-----------------------------|------------------------------------------------------------------|\n",
        "| `fileids()`                 | the files of the corpus                                          |\n",
        "| `fileids([categories])`     | the files of the corpus corresponding to these categories        |\n",
        "| `categories()`              | the categories of the corpus                                     |\n",
        "| `categories([fileids])`     | the categories of the corpus corresponding to these files        |\n",
        "| `raw()`                     | the raw content of the corpus                                    |\n",
        "| `raw(fileids=[f1,f2,f3])`     | the raw content of the specified files                           |\n",
        "| `raw(categories=[c1,c2])`     | the raw content of the specified categories                      |\n",
        "| `words()`                   | the words of the whole corpus                                    |\n",
        "| `words(fileids=[f1,f2,f3])`   | the words of the specified fileids                               |\n",
        "| `words(categories=[c1,c2])`   | the words of the specified categories                            |\n",
        "| `sents()`                   | the sentences of the whole corpus                                |\n",
        "| `sents(fileids=[f1,f2,f3])`   | the sentences of the specified fileids                           |\n",
        "| `sents(categories=[c1,c2])`   | the sentences of the specified categories                        |\n",
        "| `abspath(fileid)`           | the location of the given file on disk                           |\n",
        "| `encoding(fileid)`          | the encoding of the file (if known)                              |\n",
        "| `open(fileid)`              | open a stream for reading the given corpus file                  |\n",
        "| `root`                      | if the path to the root of locally installed corpus              |\n",
        "| `readme()`                  | the contents of the README file of the corpus                    |\n"
      ],
      "metadata": {
        "id": "kXdJwcYg7rA6"
      }
    },
    {
      "cell_type": "code",
      "source": [
        "raw = gutenberg.raw(\"burgess-busterbrown.txt\")\n",
        "raw[1:20]"
      ],
      "metadata": {
        "colab": {
          "base_uri": "https://localhost:8080/",
          "height": 35
        },
        "id": "Q9np8kOh3Yxx",
        "outputId": "4176e22e-62bf-47de-ba14-db4db083b027"
      },
      "execution_count": 40,
      "outputs": [
        {
          "output_type": "execute_result",
          "data": {
            "text/plain": [
              "'The Adventures of B'"
            ],
            "application/vnd.google.colaboratory.intrinsic+json": {
              "type": "string"
            }
          },
          "metadata": {},
          "execution_count": 40
        }
      ]
    },
    {
      "cell_type": "code",
      "source": [
        "words = gutenberg.words(\"burgess-busterbrown.txt\")\n",
        "print(words[1:20])"
      ],
      "metadata": {
        "colab": {
          "base_uri": "https://localhost:8080/"
        },
        "id": "wsSgUIsl7m-M",
        "outputId": "10414c40-6040-4407-822e-bab1ed6bd7f0"
      },
      "execution_count": 41,
      "outputs": [
        {
          "output_type": "stream",
          "name": "stdout",
          "text": [
            "['The', 'Adventures', 'of', 'Buster', 'Bear', 'by', 'Thornton', 'W', '.', 'Burgess', '1920', ']', 'I', 'BUSTER', 'BEAR', 'GOES', 'FISHING', 'Buster', 'Bear']\n"
          ]
        }
      ]
    },
    {
      "cell_type": "code",
      "source": [
        "sents = gutenberg.sents(\"burgess-busterbrown.txt\")\n",
        "print(sents[1:10])"
      ],
      "metadata": {
        "colab": {
          "base_uri": "https://localhost:8080/"
        },
        "id": "2sAd2tkJ7uwo",
        "outputId": "80c3c198-3ae3-4121-92c9-7ff06f13e94c"
      },
      "execution_count": 42,
      "outputs": [
        {
          "output_type": "stream",
          "name": "stdout",
          "text": [
            "[['I'], ['BUSTER', 'BEAR', 'GOES', 'FISHING'], ['Buster', 'Bear', 'yawned', 'as', 'he', 'lay', 'on', 'his', 'comfortable', 'bed', 'of', 'leaves', 'and', 'watched', 'the', 'first', 'early', 'morning', 'sunbeams', 'creeping', 'through', 'the', 'Green', 'Forest', 'to', 'chase', 'out', 'the', 'Black', 'Shadows', '.'], ['Once', 'more', 'he', 'yawned', ',', 'and', 'slowly', 'got', 'to', 'his', 'feet', 'and', 'shook', 'himself', '.'], ['Then', 'he', 'walked', 'over', 'to', 'a', 'big', 'pine', '-', 'tree', ',', 'stood', 'up', 'on', 'his', 'hind', 'legs', ',', 'reached', 'as', 'high', 'up', 'on', 'the', 'trunk', 'of', 'the', 'tree', 'as', 'he', 'could', ',', 'and', 'scratched', 'the', 'bark', 'with', 'his', 'great', 'claws', '.'], ['After', 'that', 'he', 'yawned', 'until', 'it', 'seemed', 'as', 'if', 'his', 'jaws', 'would', 'crack', ',', 'and', 'then', 'sat', 'down', 'to', 'think', 'what', 'he', 'wanted', 'for', 'breakfast', '.'], ['While', 'he', 'sat', 'there', ',', 'trying', 'to', 'make', 'up', 'his', 'mind', 'what', 'would', 'taste', 'best', ',', 'he', 'was', 'listening', 'to', 'the', 'sounds', 'that', 'told', 'of', 'the', 'waking', 'of', 'all', 'the', 'little', 'people', 'who', 'live', 'in', 'the', 'Green', 'Forest', '.'], ['He', 'heard', 'Sammy', 'Jay', 'way', 'off', 'in', 'the', 'distance', 'screaming', ',', '\"', 'Thief', '!'], ['Thief', '!\"']]\n"
          ]
        }
      ]
    },
    {
      "cell_type": "markdown",
      "source": [
        "### Loading your own Corpus\n",
        "If you have your own collection of text files that you would like to access using the above methods, you can easily load them with the help of NLTK's PlaintextCorpusReader. Check the location of your files on your file system; in the following example, we have taken this to be the directory /usr/share/dict. Whatever the location, set this to be the value of corpus_root [1]. The second parameter of the PlaintextCorpusReader initializer [2] can be a list of fileids, like ['a.txt', 'test/b.txt'], or a pattern that matches all fileids, like '[abc]/.*\\.txt' (see 3.4 for information about regular expressions)."
      ],
      "metadata": {
        "id": "lmxm173K8AAc"
      }
    },
    {
      "cell_type": "code",
      "source": [
        "from nltk.corpus import PlaintextCorpusReader\n",
        "\n",
        "#corpus_root = '/usr/share/dict'\n",
        "#wordlists = PlaintextCorpusReader(corpus_root, '.*')\n",
        "#print(wordlists.fileids())"
      ],
      "metadata": {
        "id": "pELnebh271Mp"
      },
      "execution_count": 43,
      "outputs": []
    },
    {
      "cell_type": "code",
      "source": [
        "# from nltk.corpus import BracketParseCorpusReader\n",
        "\n",
        "# corpus_root = r\"C:\\corpora\\penntreebank\\parsed\\mrg\\wsj\"\n",
        "# file_pattern = r\".*/wsj_.*\\.mrg\"\n",
        "# ptb = BracketParseCorpusReader(corpus_root, file_pattern)\n",
        "\n",
        "# print(ptb.fileids())\n",
        "# print(len(ptb.sents()))\n",
        "# print(ptb.sents(fileids='20/wsj_2013.mrg')[19])"
      ],
      "metadata": {
        "id": "i3BH15mP8DYu"
      },
      "execution_count": 44,
      "outputs": []
    },
    {
      "cell_type": "markdown",
      "source": [
        "## Conditional Frequency Distributions\n",
        "\n",
        "We introduced frequency distributions in 3. We saw that given some list mylist of words or other items, FreqDist(mylist) would compute the number of occurrences of each item in the list. Here we will generalize this idea.\n",
        "\n",
        "When the texts of a corpus are divided into several categories, by genre, topic, author, etc, we can maintain separate frequency distributions for each category. This will allow us to study systematic differences between the categories. In the previous section we achieved this using NLTK's ConditionalFreqDist data type. A conditional frequency distribution is a collection of frequency distributions, each one for a different \"condition\". The condition will often be the category of the text. 2.1 depicts a fragment of a conditional frequency distribution having just two conditions, one for news text and one for romance text."
      ],
      "metadata": {
        "id": "_i_CImI8-KKd"
      }
    },
    {
      "cell_type": "markdown",
      "source": [
        "### Conditions and Events\n",
        "A frequency distribution counts observable events, such as the appearance of words in a text. A conditional frequency distribution needs to pair each event with a condition. So instead of processing a sequence of words [1], we have to process a sequence of pairs [2]:"
      ],
      "metadata": {
        "id": "s6ACjoAu-OCJ"
      }
    },
    {
      "cell_type": "code",
      "source": [
        "text = ['The', 'Fulton', 'County', 'Grand', 'Jury', 'said', ...]\n",
        "pairs = [('news', 'The'), ('news', 'Fulton'), ('news', 'County'), ...]"
      ],
      "metadata": {
        "id": "EVb_shvL-Rmh"
      },
      "execution_count": 45,
      "outputs": []
    },
    {
      "cell_type": "markdown",
      "source": [
        "Each pair has the form (condition, event). If we were processing the entire Brown Corpus by genre there would be 15 conditions (one per genre), and 1,161,192 events (one per word)."
      ],
      "metadata": {
        "id": "aC6nk0uK-VKn"
      }
    },
    {
      "cell_type": "markdown",
      "source": [
        "### Counting Words by Genre\n",
        "In 1 we saw a conditional frequency distribution where the condition was the section of the Brown Corpus, and for each condition we counted words. Whereas FreqDist() takes a simple list as input, ConditionalFreqDist() takes a list of pairs."
      ],
      "metadata": {
        "id": "F3YOzJZM-Vyf"
      }
    },
    {
      "cell_type": "code",
      "source": [
        "from nltk.corpus import brown\n",
        "\n",
        "cfd = nltk.ConditionalFreqDist(\n",
        "    (genre, word)\n",
        "    for genre in brown.categories()\n",
        "    for word in brown.words(categories=genre)\n",
        ")\n",
        "\n",
        "print(cfd)"
      ],
      "metadata": {
        "colab": {
          "base_uri": "https://localhost:8080/"
        },
        "id": "ahUEKIR7-fZV",
        "outputId": "74a3ae1c-d60b-4792-dd21-a0d320569c55"
      },
      "execution_count": 46,
      "outputs": [
        {
          "output_type": "stream",
          "name": "stdout",
          "text": [
            "<ConditionalFreqDist with 15 conditions>\n"
          ]
        }
      ]
    },
    {
      "cell_type": "markdown",
      "source": [
        "Let's break this down, and look at just two genres, news and romance. For each genre [2], we loop over every word in the genre [3], producing pairs consisting of the genre and the word [1]:"
      ],
      "metadata": {
        "id": "Z24XrJa0-h-d"
      }
    },
    {
      "cell_type": "code",
      "source": [
        "genre_word = [(genre, word)\n",
        "              for genre in ['news', 'romance']\n",
        "              for word in brown.words(categories=genre)]\n",
        "print(len(genre_word))"
      ],
      "metadata": {
        "colab": {
          "base_uri": "https://localhost:8080/"
        },
        "id": "O7n-ezM5-qUl",
        "outputId": "6dcf2a62-a1d1-42fd-abd8-4e4c92991131"
      },
      "execution_count": 47,
      "outputs": [
        {
          "output_type": "stream",
          "name": "stdout",
          "text": [
            "170576\n"
          ]
        }
      ]
    },
    {
      "cell_type": "markdown",
      "source": [
        "So, as we can see below, pairs at the beginning of the list genre_word will be of the form ('news', word) [1], while those at the end will be of the form ('romance', word)"
      ],
      "metadata": {
        "id": "YbhEGnyN-s-m"
      }
    },
    {
      "cell_type": "code",
      "source": [
        "genre_word[:4]\n",
        "genre_word[-4:]"
      ],
      "metadata": {
        "colab": {
          "base_uri": "https://localhost:8080/"
        },
        "id": "9RG8jezB-u2J",
        "outputId": "02ba3e7c-f161-4af8-ff1e-fa31255a46d0"
      },
      "execution_count": 48,
      "outputs": [
        {
          "output_type": "execute_result",
          "data": {
            "text/plain": [
              "[('romance', 'afraid'),\n",
              " ('romance', 'not'),\n",
              " ('romance', \"''\"),\n",
              " ('romance', '.')]"
            ]
          },
          "metadata": {},
          "execution_count": 48
        }
      ]
    },
    {
      "cell_type": "code",
      "source": [
        "genre_word = [(genre, word)\n",
        "              for genre in ['news', 'romance']\n",
        "              for word in brown.words(categories=genre)]\n",
        "\n",
        "cfd = nltk.ConditionalFreqDist(genre_word)\n",
        "\n",
        "print(cfd)\n",
        "print(cfd.conditions())"
      ],
      "metadata": {
        "colab": {
          "base_uri": "https://localhost:8080/"
        },
        "id": "VBIBbp3h-5w3",
        "outputId": "9c04a1d6-87ec-4b4c-c7a6-2379dd13e1e2"
      },
      "execution_count": 49,
      "outputs": [
        {
          "output_type": "stream",
          "name": "stdout",
          "text": [
            "<ConditionalFreqDist with 2 conditions>\n",
            "['news', 'romance']\n"
          ]
        }
      ]
    },
    {
      "cell_type": "code",
      "source": [
        "# Bikin list pasangan genre dan word buat 'news' sama 'romance'\n",
        "genre_word = [(genre, word)\n",
        "              for genre in ['news', 'romance']\n",
        "              for word in brown.words(categories=genre)]\n",
        "\n",
        "# Bikin Conditional Frequency Distribution\n",
        "cfd = nltk.ConditionalFreqDist(genre_word)\n",
        "\n",
        "# Nge-print hasilnya\n",
        "print(cfd['news'])\n",
        "print(cfd['romance'])\n",
        "print(cfd['romance'].most_common(20))\n",
        "print(cfd['romance']['could'])"
      ],
      "metadata": {
        "colab": {
          "base_uri": "https://localhost:8080/"
        },
        "id": "eye6tbHs_CCb",
        "outputId": "7c5d3f1a-6b67-4857-e097-af663389c0fc"
      },
      "execution_count": 50,
      "outputs": [
        {
          "output_type": "stream",
          "name": "stdout",
          "text": [
            "<FreqDist with 14394 samples and 100554 outcomes>\n",
            "<FreqDist with 8452 samples and 70022 outcomes>\n",
            "[(',', 3899), ('.', 3736), ('the', 2758), ('and', 1776), ('to', 1502), ('a', 1335), ('of', 1186), ('``', 1045), (\"''\", 1044), ('was', 993), ('I', 951), ('in', 875), ('he', 702), ('had', 692), ('?', 690), ('her', 651), ('that', 583), ('it', 573), ('his', 559), ('she', 496)]\n",
            "193\n"
          ]
        }
      ]
    },
    {
      "cell_type": "markdown",
      "source": [
        "### Plotting and Tabulating Distributions\n",
        "Apart from combining two or more frequency distributions, and being easy to initialize, a ConditionalFreqDist provides some useful methods for tabulation and plotting.\n",
        "\n",
        "The plot in 1.1 was based on a conditional frequency distribution reproduced in the code below. The condition is either of the words america or citizen [2], and the counts being plotted are the number of times the word occured in a particular speech. It exploits the fact that the filename for each speech, e.g., 1865-Lincoln.txt contains the year as the first four characters [1]. This code generates the pair ('america', '1865') for every instance of a word whose lowercased form starts with america — such as Americans — in the file 1865-Lincoln.txt."
      ],
      "metadata": {
        "id": "0dk0ORF53hMb"
      }
    },
    {
      "cell_type": "code",
      "source": [
        "cfd = nltk.ConditionalFreqDist(\n",
        "    (target, fileid[:4])\n",
        "    for fileid in inaugural.fileids()\n",
        "    for w in inaugural.words(fileid)\n",
        "    for target in ['america', 'citizen']\n",
        "    if w.lower().startswith(target)\n",
        ")"
      ],
      "metadata": {
        "id": "Tm-sDUIM3saN"
      },
      "execution_count": 51,
      "outputs": []
    },
    {
      "cell_type": "markdown",
      "source": [
        "The plot in 1.2 was also based on a conditional frequency distribution, reproduced below. This time, the condition is the name of the language and the counts being plotted are derived from word lengths [1]. It exploits the fact that the filename for each language is the language name followed by '-Latin1' (the character encoding)."
      ],
      "metadata": {
        "id": "2BoFteCr3vo_"
      }
    },
    {
      "cell_type": "code",
      "source": [
        "languages = ['Chickasaw', 'English', 'German_Deutsch',\n",
        "    'Greenlandic_Inuktikut', 'Hungarian_Magyar', 'Ibibio_Efik']\n",
        "\n",
        "cfd = nltk.ConditionalFreqDist(\n",
        "    (lang, len(word))\n",
        "    for lang in languages\n",
        "    for word in udhr.words(lang + '-Latin1')\n",
        ")"
      ],
      "metadata": {
        "id": "8X4M1WSs3wSX"
      },
      "execution_count": 52,
      "outputs": []
    },
    {
      "cell_type": "markdown",
      "source": [
        "In the plot() and tabulate() methods, we can optionally specify which conditions to display with a conditions= parameter. When we omit it, we get all the conditions. Similarly, we can limit the samples to display with a samples= parameter. This makes it possible to load a large quantity of data into a conditional frequency distribution, and then to explore it by plotting or tabulating selected conditions and samples. It also gives us full control over the order of conditions and samples in any displays. For example, we can tabulate the cumulative frequency data just for two languages, and for words less than 10 characters long, as shown below. We interpret the last cell on the top row to mean that 1,638 words of the English text have 9 or fewer letters."
      ],
      "metadata": {
        "id": "Aw5vWouk329f"
      }
    },
    {
      "cell_type": "code",
      "source": [
        "cfd.tabulate(conditions=['English', 'German_Deutsch'], samples = range(10), cumulative=True)"
      ],
      "metadata": {
        "colab": {
          "base_uri": "https://localhost:8080/"
        },
        "id": "7uHZKiuQ33tn",
        "outputId": "08d01e63-d924-4c07-ec03-a94903929386"
      },
      "execution_count": 53,
      "outputs": [
        {
          "output_type": "stream",
          "name": "stdout",
          "text": [
            "                  0    1    2    3    4    5    6    7    8    9 \n",
            "       English    0  185  525  883  997 1166 1283 1440 1558 1638 \n",
            "German_Deutsch    0  171  263  614  717  894 1013 1110 1213 1275 \n"
          ]
        }
      ]
    },
    {
      "cell_type": "markdown",
      "source": [
        "You may have noticed that the multi-line expressions we have been using with conditional frequency distributions look like list comprehensions, but without the brackets. In general, when we use a list comprehension as a parameter to a function, like set([w.lower() for w in t]), we are permitted to omit the square brackets and just write: set(w.lower() for w in t). (See the discussion of \"generator expressions\" in 4.2 for more about this.)"
      ],
      "metadata": {
        "id": "GT6eQ8U73_F0"
      }
    },
    {
      "cell_type": "markdown",
      "source": [
        "### Generating Random Text with Bigrams\n",
        "We can use a conditional frequency distribution to create a table of bigrams (word pairs). (We introducted bigrams in 3.) The bigrams() function takes a list of words and builds a list of consecutive word pairs. Remember that, in order to see the result and not a cryptic \"generator object\", we need to use the list() function:"
      ],
      "metadata": {
        "id": "NJ-AdY884DL-"
      }
    },
    {
      "cell_type": "code",
      "source": [
        "sent = ['In', 'the', 'beginning', 'God', 'created', 'the', 'heaven','and', 'the', 'earth', '.']"
      ],
      "metadata": {
        "id": "spVeTN3s4F-G"
      },
      "execution_count": 54,
      "outputs": []
    },
    {
      "cell_type": "code",
      "source": [
        "list(nltk.bigrams(sent))"
      ],
      "metadata": {
        "colab": {
          "base_uri": "https://localhost:8080/"
        },
        "id": "pOQotOaM4I1_",
        "outputId": "1dda9084-b2cb-4d1d-e99d-529e9e1de536"
      },
      "execution_count": 55,
      "outputs": [
        {
          "output_type": "execute_result",
          "data": {
            "text/plain": [
              "[('In', 'the'),\n",
              " ('the', 'beginning'),\n",
              " ('beginning', 'God'),\n",
              " ('God', 'created'),\n",
              " ('created', 'the'),\n",
              " ('the', 'heaven'),\n",
              " ('heaven', 'and'),\n",
              " ('and', 'the'),\n",
              " ('the', 'earth'),\n",
              " ('earth', '.')]"
            ]
          },
          "metadata": {},
          "execution_count": 55
        }
      ]
    },
    {
      "cell_type": "markdown",
      "source": [
        "In 2.2, we treat each word as a condition, and for each one we effectively create a frequency distribution over the following words. The function generate_model() contains a simple loop to generate text. When we call the function, we choose a word (such as 'living') as our initial context, then once inside the loop, we print the current value of the variable word, and reset word to be the most likely token in that context (using max()); next time through the loop, we use that word as our new context. As you can see by inspecting the output, this simple approach to text generation tends to get stuck in loops; another method would be to randomly choose the next word from among the available words."
      ],
      "metadata": {
        "id": "fiuV--3b4Mpi"
      }
    },
    {
      "cell_type": "code",
      "source": [
        "def generate_model(cfdist, word, num=15):\n",
        "    for i in range(num):\n",
        "        print(word, end=' ')\n",
        "        word = cfdist[word].max()"
      ],
      "metadata": {
        "id": "MDEmyHuX4Ol9"
      },
      "execution_count": 56,
      "outputs": []
    },
    {
      "cell_type": "code",
      "source": [
        "nltk.download('genesis')\n",
        "text = nltk.corpus.genesis.words('english-kjv.txt')\n",
        "bigrams = nltk.bigrams(text)\n",
        "cfd = nltk.ConditionalFreqDist(bigrams)"
      ],
      "metadata": {
        "colab": {
          "base_uri": "https://localhost:8080/"
        },
        "id": "w0VQP9Eh4Qt2",
        "outputId": "64a37164-d92d-473e-a00c-a1fdef072f93"
      },
      "execution_count": 57,
      "outputs": [
        {
          "output_type": "stream",
          "name": "stderr",
          "text": [
            "[nltk_data] Downloading package genesis to /root/nltk_data...\n",
            "[nltk_data]   Unzipping corpora/genesis.zip.\n"
          ]
        }
      ]
    },
    {
      "cell_type": "code",
      "source": [
        "cfd['living']"
      ],
      "metadata": {
        "colab": {
          "base_uri": "https://localhost:8080/"
        },
        "id": "Q2JLT_LC4aZm",
        "outputId": "240d98b3-80c1-443d-efaa-99dfd9a33f2a"
      },
      "execution_count": 58,
      "outputs": [
        {
          "output_type": "execute_result",
          "data": {
            "text/plain": [
              "FreqDist({'creature': 7, 'thing': 4, 'substance': 2, 'soul': 1, '.': 1, ',': 1})"
            ]
          },
          "metadata": {},
          "execution_count": 58
        }
      ]
    },
    {
      "cell_type": "code",
      "source": [
        "generate_model(cfd, 'living')"
      ],
      "metadata": {
        "colab": {
          "base_uri": "https://localhost:8080/"
        },
        "id": "dQUiJSf04cbj",
        "outputId": "54f483a8-fadc-4d91-81f8-f469c1a5de75"
      },
      "execution_count": 59,
      "outputs": [
        {
          "output_type": "stream",
          "name": "stdout",
          "text": [
            "living creature that he said , and the land of the land of the land "
          ]
        }
      ]
    },
    {
      "cell_type": "markdown",
      "source": [
        "Conditional frequency distributions are a useful data structure for many NLP tasks. Their commonly-used methods are summarized in 2.1."
      ],
      "metadata": {
        "id": "zoEixvI14uLk"
      }
    },
    {
      "cell_type": "markdown",
      "source": [
        "| Example                                   | Description                                                                |\n",
        "|-------------------------------------------|----------------------------------------------------------------------------|\n",
        "| cfdist = ConditionalFreqDist(pairs)       | create a conditional frequency distribution from a list of pairs           |\n",
        "| cfdist.conditions()                        | the conditions                                                             |\n",
        "| cfdist[condition]                          | the frequency distribution for this condition                              |\n",
        "| cfdist[condition][sample]                  | frequency for the given sample for this condition                          |\n",
        "| cfdist.tabulate()                          | tabulate the conditional frequency distribution                            |\n",
        "| cfdist.tabulate(samples, conditions)       | tabulation limited to the specified samples and conditions                 |\n",
        "| cfdist.plot()                              | graphical plot of the conditional frequency distribution                   |\n",
        "| cfdist.plot(samples, conditions)           | graphical plot limited to the specified samples and conditions             |\n",
        "| cfdist1 < cfdist2                          | test if samples in cfdist1 occur less frequently than in cfdist2             |\n"
      ],
      "metadata": {
        "id": "rve4KYSI4q2j"
      }
    },
    {
      "cell_type": "markdown",
      "source": [
        "## Lexical Resources\n",
        "A lexicon, or lexical resource, is a collection of words and/or phrases along with associated information such as part of speech and sense definitions. Lexical resources are secondary to texts, and are usually created and enriched with the help of texts. For example, if we have defined a text my_text, then vocab = sorted(set(my_text)) builds the vocabulary of my_text, while word_freq = FreqDist(my_text) counts the frequency of each word in the text. Both of vocab and word_freq are simple lexical resources. Similarly, a concordance like the one we saw in 1 gives us information about word usage that might help in the preparation of a dictionary. Standard terminology for lexicons is illustrated in 4.1. A lexical entry consists of a headword (also known as a lemma) along with additional information such as the part of speech and the sense definition. Two distinct words having the same spelling are called homonyms."
      ],
      "metadata": {
        "id": "KCL2klMm45RM"
      }
    },
    {
      "cell_type": "markdown",
      "source": [
        "![Gambar](https://raw.githubusercontent.com/farrelrassya/NLTKBooks/main/Figure%204.1.png)"
      ],
      "metadata": {
        "id": "ZjIwZyjHSQPi"
      }
    },
    {
      "cell_type": "markdown",
      "source": [
        "The simplest kind of lexicon is nothing more than a sorted list of words. Sophisticated lexicons include complex structure within and across the individual entries. In this section we'll look at some lexical resources included with NLTK."
      ],
      "metadata": {
        "id": "nZGOwbIvSaFY"
      }
    },
    {
      "cell_type": "markdown",
      "source": [
        "### Wordlist Corpora\n",
        "NLTK includes some corpora that are nothing more than wordlists. The Words Corpus is the /usr/share/dict/words file from Unix, used by some spell checkers. We can use it to find unusual or mis-spelt words in a text corpus, as shown in 4.2."
      ],
      "metadata": {
        "id": "EjpNoYR0Sa7D"
      }
    },
    {
      "cell_type": "code",
      "source": [
        "nltk.download('words')\n",
        "nltk.download('stopwords')\n",
        "from nltk.corpus import names\n",
        "nltk.download('names')"
      ],
      "metadata": {
        "colab": {
          "base_uri": "https://localhost:8080/"
        },
        "id": "DjbBqXSISpMB",
        "outputId": "87d0fc55-0b77-4d4f-cd6e-e2492f6a7594"
      },
      "execution_count": 60,
      "outputs": [
        {
          "output_type": "stream",
          "name": "stderr",
          "text": [
            "[nltk_data] Downloading package words to /root/nltk_data...\n",
            "[nltk_data]   Unzipping corpora/words.zip.\n",
            "[nltk_data] Downloading package stopwords to /root/nltk_data...\n",
            "[nltk_data]   Unzipping corpora/stopwords.zip.\n",
            "[nltk_data] Downloading package names to /root/nltk_data...\n",
            "[nltk_data]   Unzipping corpora/names.zip.\n"
          ]
        },
        {
          "output_type": "execute_result",
          "data": {
            "text/plain": [
              "True"
            ]
          },
          "metadata": {},
          "execution_count": 60
        }
      ]
    },
    {
      "cell_type": "code",
      "source": [
        "def unusual_words(text):\n",
        "    text_vocab = set(w.lower() for w in text if w.isalpha())\n",
        "    english_vocab = set(w.lower() for w in nltk.corpus.words.words())\n",
        "    unusual = text_vocab - english_vocab\n",
        "    return sorted(unusual)"
      ],
      "metadata": {
        "id": "uGqKsk4J49YT"
      },
      "execution_count": 61,
      "outputs": []
    },
    {
      "cell_type": "code",
      "source": [
        "nltk.corpus.gutenberg.words('austen-sense.txt')"
      ],
      "metadata": {
        "colab": {
          "base_uri": "https://localhost:8080/"
        },
        "id": "O67DqbddSf37",
        "outputId": "cdb0aa54-df22-4816-913a-2dd1f9ab89aa"
      },
      "execution_count": 62,
      "outputs": [
        {
          "output_type": "execute_result",
          "data": {
            "text/plain": [
              "['[', 'Sense', 'and', 'Sensibility', 'by', 'Jane', ...]"
            ]
          },
          "metadata": {},
          "execution_count": 62
        }
      ]
    },
    {
      "cell_type": "code",
      "source": [
        "print(unusual_words(nltk.corpus.gutenberg.words('austen-sense.txt'))[:10])"
      ],
      "metadata": {
        "colab": {
          "base_uri": "https://localhost:8080/"
        },
        "id": "rph1COtkSjCe",
        "outputId": "b80b74ad-c0b0-4acd-e44a-bca13e07ee70"
      },
      "execution_count": 63,
      "outputs": [
        {
          "output_type": "stream",
          "name": "stdout",
          "text": [
            "['abbeyland', 'abhorred', 'abilities', 'abounded', 'abridgement', 'abused', 'abuses', 'accents', 'accepting', 'accommodations']\n"
          ]
        }
      ]
    },
    {
      "cell_type": "code",
      "source": [
        "print(unusual_words(nltk.corpus.nps_chat.words())[:10])"
      ],
      "metadata": {
        "colab": {
          "base_uri": "https://localhost:8080/"
        },
        "id": "aRo-mvyfSnVF",
        "outputId": "47b1dd30-785e-4e36-a63a-32db7e32c9dd"
      },
      "execution_count": 64,
      "outputs": [
        {
          "output_type": "stream",
          "name": "stdout",
          "text": [
            "['aaaaaaaaaaaaaaaaa', 'aaahhhh', 'abortions', 'abou', 'abourted', 'abs', 'ack', 'acros', 'actualy', 'adams']\n"
          ]
        }
      ]
    },
    {
      "cell_type": "markdown",
      "source": [
        "There is also a corpus of stopwords, that is, high-frequency words like the, to and also that we sometimes want to filter out of a document before further processing. Stopwords usually have little lexical content, and their presence in a text fails to distinguish it from other texts."
      ],
      "metadata": {
        "id": "ezyQcFqYTA0i"
      }
    },
    {
      "cell_type": "code",
      "source": [
        "from nltk.corpus import stopwords\n",
        "print(stopwords.words('english')[:25])"
      ],
      "metadata": {
        "colab": {
          "base_uri": "https://localhost:8080/"
        },
        "id": "TlOQAJ_US5li",
        "outputId": "535d054b-1a4b-411c-88b4-ee02a61925aa"
      },
      "execution_count": 65,
      "outputs": [
        {
          "output_type": "stream",
          "name": "stdout",
          "text": [
            "['a', 'about', 'above', 'after', 'again', 'against', 'ain', 'all', 'am', 'an', 'and', 'any', 'are', 'aren', \"aren't\", 'as', 'at', 'be', 'because', 'been', 'before', 'being', 'below', 'between', 'both']\n"
          ]
        }
      ]
    },
    {
      "cell_type": "code",
      "source": [
        "def content_fraction(text):\n",
        "  stopwords = nltk.corpus.stopwords.words('english')\n",
        "  content = [w for w in text if w.lower() not in stopwords]\n",
        "  return len(content) / len(text)"
      ],
      "metadata": {
        "id": "Y5gyBFeSTJFD"
      },
      "execution_count": 66,
      "outputs": []
    },
    {
      "cell_type": "code",
      "source": [
        "content_fraction(nltk.corpus.reuters.words())"
      ],
      "metadata": {
        "colab": {
          "base_uri": "https://localhost:8080/"
        },
        "id": "b9XYmqqhWUIY",
        "outputId": "381766d6-b44c-405a-fdda-b68d700812b2"
      },
      "execution_count": 67,
      "outputs": [
        {
          "output_type": "execute_result",
          "data": {
            "text/plain": [
              "0.735240435097661"
            ]
          },
          "metadata": {},
          "execution_count": 67
        }
      ]
    },
    {
      "cell_type": "markdown",
      "source": [
        "Thus, with the help of stopwords we filter out over a quarter of the words of the text. Notice that we've combined two different kinds of corpus here, using a lexical resource to filter the content of a text corpus."
      ],
      "metadata": {
        "id": "_eUpwaHtWghn"
      }
    },
    {
      "cell_type": "markdown",
      "source": [
        "![Gambar4.3](https://raw.githubusercontent.com/farrelrassya/NLTKBooks/main/Figure%204.3.png)"
      ],
      "metadata": {
        "id": "PWM3SKh8XaY9"
      }
    },
    {
      "cell_type": "markdown",
      "source": [
        "A wordlist is useful for solving word puzzles, such as the one in 4.3. Our program iterates through every word and, for each one, checks whether it meets the conditions. It is easy to check obligatory letter [2] and length constraints [1] (and we'll only look for words with six or more letters here). It is trickier to check that candidate solutions only use combinations of the supplied letters, especially since some of the supplied letters appear twice (here, the letter v). The FreqDist comparison method [3] permits us to check that the frequency of each letter in the candidate word is less than or equal to the frequency of the corresponding letter in the puzzle."
      ],
      "metadata": {
        "id": "rvFM7OjpX78F"
      }
    },
    {
      "cell_type": "code",
      "source": [
        "puzzle_letters = nltk.FreqDist('egivrvonl')\n",
        "obligatory = 'r'\n",
        "wordlist = nltk.corpus.words.words()"
      ],
      "metadata": {
        "id": "qgJZqAAOWbyL"
      },
      "execution_count": 68,
      "outputs": []
    },
    {
      "cell_type": "code",
      "source": [
        "result = [w for w in wordlist\n",
        "          if len(w) >= 6\n",
        "          and obligatory in w\n",
        "          and not (nltk.FreqDist(w) - puzzle_letters)]\n",
        "\n",
        "print(result)"
      ],
      "metadata": {
        "colab": {
          "base_uri": "https://localhost:8080/"
        },
        "id": "wh0451t2YF2O",
        "outputId": "c218e463-6f4d-4590-ec46-f0bbc5a895aa"
      },
      "execution_count": 69,
      "outputs": [
        {
          "output_type": "stream",
          "name": "stdout",
          "text": [
            "['glover', 'gorlin', 'govern', 'grovel', 'ignore', 'involver', 'lienor', 'linger', 'longer', 'lovering', 'noiler', 'overling', 'region', 'renvoi', 'revolving', 'ringle', 'roving', 'violer', 'virole']\n"
          ]
        }
      ]
    },
    {
      "cell_type": "markdown",
      "source": [
        "One more wordlist corpus is the Names corpus, containing 8,000 first names categorized by gender. The male and female names are stored in separate files. Let's find names which appear in both files, i.e. names that are ambiguous for gender:"
      ],
      "metadata": {
        "id": "dS2YlnnDYJ6m"
      }
    },
    {
      "cell_type": "code",
      "source": [
        "male_names = names.words('male.txt')\n",
        "female_names = names.words('female.txt')\n",
        "\n",
        "# Pakai set intersection buat dapetin nama yang ada di kedua list\n",
        "both_names = sorted(set(male_names) & set(female_names))\n",
        "print(both_names)"
      ],
      "metadata": {
        "colab": {
          "base_uri": "https://localhost:8080/"
        },
        "id": "1sGuKcV2YHkl",
        "outputId": "eb41fe2c-1757-46e9-d61f-1faa23349c5b"
      },
      "execution_count": 70,
      "outputs": [
        {
          "output_type": "stream",
          "name": "stdout",
          "text": [
            "['Abbey', 'Abbie', 'Abby', 'Addie', 'Adrian', 'Adrien', 'Ajay', 'Alex', 'Alexis', 'Alfie', 'Ali', 'Alix', 'Allie', 'Allyn', 'Andie', 'Andrea', 'Andy', 'Angel', 'Angie', 'Ariel', 'Ashley', 'Aubrey', 'Augustine', 'Austin', 'Averil', 'Barrie', 'Barry', 'Beau', 'Bennie', 'Benny', 'Bernie', 'Bert', 'Bertie', 'Bill', 'Billie', 'Billy', 'Blair', 'Blake', 'Bo', 'Bobbie', 'Bobby', 'Brandy', 'Brett', 'Britt', 'Brook', 'Brooke', 'Brooks', 'Bryn', 'Cal', 'Cam', 'Cammy', 'Carey', 'Carlie', 'Carlin', 'Carmine', 'Carroll', 'Cary', 'Caryl', 'Casey', 'Cass', 'Cat', 'Cecil', 'Chad', 'Chris', 'Chrissy', 'Christian', 'Christie', 'Christy', 'Clair', 'Claire', 'Clare', 'Claude', 'Clem', 'Clemmie', 'Cody', 'Connie', 'Constantine', 'Corey', 'Corrie', 'Cory', 'Courtney', 'Cris', 'Daffy', 'Dale', 'Dallas', 'Dana', 'Dani', 'Daniel', 'Dannie', 'Danny', 'Darby', 'Darcy', 'Darryl', 'Daryl', 'Deane', 'Del', 'Dell', 'Demetris', 'Dennie', 'Denny', 'Devin', 'Devon', 'Dion', 'Dionis', 'Dominique', 'Donnie', 'Donny', 'Dorian', 'Dory', 'Drew', 'Eddie', 'Eddy', 'Edie', 'Elisha', 'Emmy', 'Erin', 'Esme', 'Evelyn', 'Felice', 'Fran', 'Francis', 'Frank', 'Frankie', 'Franky', 'Fred', 'Freddie', 'Freddy', 'Gabriel', 'Gabriell', 'Gail', 'Gale', 'Gay', 'Gayle', 'Gene', 'George', 'Georgia', 'Georgie', 'Geri', 'Germaine', 'Gerri', 'Gerry', 'Gill', 'Ginger', 'Glen', 'Glenn', 'Grace', 'Gretchen', 'Gus', 'Haleigh', 'Haley', 'Hannibal', 'Harley', 'Hazel', 'Heath', 'Henrie', 'Hilary', 'Hillary', 'Holly', 'Ike', 'Ikey', 'Ira', 'Isa', 'Isador', 'Isadore', 'Jackie', 'Jaime', 'Jamie', 'Jan', 'Jean', 'Jere', 'Jermaine', 'Jerrie', 'Jerry', 'Jess', 'Jesse', 'Jessie', 'Jo', 'Jodi', 'Jodie', 'Jody', 'Joey', 'Jordan', 'Juanita', 'Jude', 'Judith', 'Judy', 'Julie', 'Justin', 'Karel', 'Kellen', 'Kelley', 'Kelly', 'Kelsey', 'Kerry', 'Kim', 'Kip', 'Kirby', 'Kit', 'Kris', 'Kyle', 'Lane', 'Lanny', 'Lauren', 'Laurie', 'Lee', 'Leigh', 'Leland', 'Lesley', 'Leslie', 'Lin', 'Lind', 'Lindsay', 'Lindsey', 'Lindy', 'Lonnie', 'Loren', 'Lorne', 'Lorrie', 'Lou', 'Luce', 'Lyn', 'Lynn', 'Maddie', 'Maddy', 'Marietta', 'Marion', 'Marlo', 'Martie', 'Marty', 'Mattie', 'Matty', 'Maurise', 'Max', 'Maxie', 'Mead', 'Meade', 'Mel', 'Meredith', 'Merle', 'Merrill', 'Merry', 'Meryl', 'Michal', 'Michel', 'Michele', 'Mickie', 'Micky', 'Millicent', 'Morgan', 'Morlee', 'Muffin', 'Nat', 'Nichole', 'Nickie', 'Nicky', 'Niki', 'Nikki', 'Noel', 'Ollie', 'Page', 'Paige', 'Pat', 'Patrice', 'Patsy', 'Pattie', 'Patty', 'Pen', 'Pennie', 'Penny', 'Perry', 'Phil', 'Pooh', 'Quentin', 'Quinn', 'Randi', 'Randie', 'Randy', 'Ray', 'Regan', 'Reggie', 'Rene', 'Rey', 'Ricki', 'Rickie', 'Ricky', 'Rikki', 'Robbie', 'Robin', 'Ronnie', 'Ronny', 'Rory', 'Ruby', 'Sal', 'Sam', 'Sammy', 'Sandy', 'Sascha', 'Sasha', 'Saundra', 'Sayre', 'Scotty', 'Sean', 'Shaine', 'Shane', 'Shannon', 'Shaun', 'Shawn', 'Shay', 'Shayne', 'Shea', 'Shelby', 'Shell', 'Shelley', 'Sibyl', 'Simone', 'Sonnie', 'Sonny', 'Stacy', 'Sunny', 'Sydney', 'Tabbie', 'Tabby', 'Tallie', 'Tally', 'Tammie', 'Tammy', 'Tate', 'Ted', 'Teddie', 'Teddy', 'Terri', 'Terry', 'Theo', 'Tim', 'Timmie', 'Timmy', 'Tobe', 'Tobie', 'Toby', 'Tommie', 'Tommy', 'Tony', 'Torey', 'Trace', 'Tracey', 'Tracie', 'Tracy', 'Val', 'Vale', 'Valentine', 'Van', 'Vin', 'Vinnie', 'Vinny', 'Virgie', 'Wallie', 'Wallis', 'Wally', 'Whitney', 'Willi', 'Willie', 'Willy', 'Winnie', 'Winny', 'Wynn']\n"
          ]
        }
      ]
    },
    {
      "cell_type": "markdown",
      "source": [
        "It is well known that names ending in the letter a are almost always female. We can see this and some other patterns in the graph in 4.4, produced by the following code. Remember that name[-1] is the last letter of name."
      ],
      "metadata": {
        "id": "wg5bcW-1YYJh"
      }
    },
    {
      "cell_type": "code",
      "source": [
        "cfd = nltk.ConditionalFreqDist(\n",
        "    (fileid, name[-1])\n",
        "    for fileid in names.fileids()\n",
        "    for name in names.words(fileid)\n",
        ")\n",
        "%matplotlib inline\n",
        "plt.figure(figsize=(12, 6))\n",
        "cfd.plot()\n",
        "plt.show()\n",
        "\n",
        "\"Figure 4.4: Conditional Frequency Distribution: this plot shows the number of female and male names ending with each letter of the alphabet; most names ending with a, e or i are female; names ending in h and l are equally likely to be male or female; names ending in k, o, r, s, and t are likely to be male.\""
      ],
      "metadata": {
        "colab": {
          "base_uri": "https://localhost:8080/",
          "height": 456
        },
        "id": "LC6wndMJYQy9",
        "outputId": "5f4e2b85-25c6-434c-8d86-ab7e6edf8fd9"
      },
      "execution_count": 71,
      "outputs": [
        {
          "output_type": "display_data",
          "data": {
            "text/plain": [
              "<Figure size 1200x600 with 1 Axes>"
            ],
            "image/png": "[encoded data removed]"
          },
          "metadata": {}
        },
        {
          "output_type": "execute_result",
          "data": {
            "text/plain": [
              "'Figure 4.4: Conditional Frequency Distribution: this plot shows the number of female and male names ending with each letter of the alphabet; most names ending with a, e or i are female; names ending in h and l are equally likely to be male or female; names ending in k, o, r, s, and t are likely to be male.'"
            ],
            "application/vnd.google.colaboratory.intrinsic+json": {
              "type": "string"
            }
          },
          "metadata": {},
          "execution_count": 71
        }
      ]
    },
    {
      "cell_type": "markdown",
      "source": [
        "### A Pronouncing Dictionary\n",
        "A slightly richer kind of lexical resource is a table (or spreadsheet), containing a word plus some properties in each row. NLTK includes the CMU Pronouncing Dictionary for US English, which was designed for use by speech synthesizers."
      ],
      "metadata": {
        "id": "KvXzLtjtY4ph"
      }
    },
    {
      "cell_type": "code",
      "source": [
        "nltk.download('cmudict')"
      ],
      "metadata": {
        "id": "nTOfTwbmY9kH",
        "outputId": "81bf9e1b-a283-47c4-cb73-f9a0ea806542",
        "colab": {
          "base_uri": "https://localhost:8080/"
        }
      },
      "execution_count": 72,
      "outputs": [
        {
          "output_type": "stream",
          "name": "stderr",
          "text": [
            "[nltk_data] Downloading package cmudict to /root/nltk_data...\n",
            "[nltk_data]   Unzipping corpora/cmudict.zip.\n"
          ]
        },
        {
          "output_type": "execute_result",
          "data": {
            "text/plain": [
              "True"
            ]
          },
          "metadata": {},
          "execution_count": 72
        }
      ]
    },
    {
      "cell_type": "code",
      "source": [
        "entries = nltk.corpus.cmudict.entries()"
      ],
      "metadata": {
        "id": "dpwlHsjHYeMU"
      },
      "execution_count": 73,
      "outputs": []
    },
    {
      "cell_type": "code",
      "source": [
        "len(entries)"
      ],
      "metadata": {
        "id": "-bYuMZpSY8Rt",
        "colab": {
          "base_uri": "https://localhost:8080/"
        },
        "outputId": "6ea9eb05-5934-443e-cbce-a4ea8b52bd4e"
      },
      "execution_count": 74,
      "outputs": [
        {
          "output_type": "execute_result",
          "data": {
            "text/plain": [
              "133737"
            ]
          },
          "metadata": {},
          "execution_count": 74
        }
      ]
    },
    {
      "cell_type": "code",
      "source": [
        "for entry in entries[42371:42379]:\n",
        "    print('Word:', entry[0])\n",
        "    print('POS tags:', entry[1])\n",
        "    print()"
      ],
      "metadata": {
        "colab": {
          "base_uri": "https://localhost:8080/"
        },
        "id": "9gUARRYhaOd1",
        "outputId": "3e597758-d5f6-401b-b6fb-6332fafe7708"
      },
      "execution_count": 79,
      "outputs": [
        {
          "output_type": "stream",
          "name": "stdout",
          "text": [
            "Word: fir\n",
            "POS tags: ['F', 'ER1']\n",
            "\n",
            "Word: fire\n",
            "POS tags: ['F', 'AY1', 'ER0']\n",
            "\n",
            "Word: fire\n",
            "POS tags: ['F', 'AY1', 'R']\n",
            "\n",
            "Word: firearm\n",
            "POS tags: ['F', 'AY1', 'ER0', 'AA2', 'R', 'M']\n",
            "\n",
            "Word: firearm\n",
            "POS tags: ['F', 'AY1', 'R', 'AA2', 'R', 'M']\n",
            "\n",
            "Word: firearms\n",
            "POS tags: ['F', 'AY1', 'ER0', 'AA2', 'R', 'M', 'Z']\n",
            "\n",
            "Word: firearms\n",
            "POS tags: ['F', 'AY1', 'R', 'AA2', 'R', 'M', 'Z']\n",
            "\n",
            "Word: fireball\n",
            "POS tags: ['F', 'AY1', 'ER0', 'B', 'AO2', 'L']\n",
            "\n"
          ]
        }
      ]
    },
    {
      "cell_type": "markdown",
      "source": [
        "For each word, this lexicon provides a list of phonetic codes — distinct labels for each contrastive sound — known as phones. Observe that fire has two pronunciations (in US English): the one-syllable F AY1 R, and the two-syllable F AY1 ER0. The symbols in the CMU Pronouncing Dictionary are from the Arpabet, described in more detail at http://en.wikipedia.org/wiki/Arpabet\n",
        "\n",
        "Each entry consists of two parts, and we can process these individually using a more complex version of the for statement. Instead of writing for entry in entries:, we replace entry with two variable names, word, pron [1]. Now, each time through the loop, word is assigned the first part of the entry, and pron is assigned the second part of the entry:"
      ],
      "metadata": {
        "id": "v8iyI-GCa04F"
      }
    },
    {
      "cell_type": "code",
      "source": [
        "for word, pron in entries:\n",
        "  if len(pron) == 3:\n",
        "    ph1, ph2, ph3 = pron\n",
        "    if ph1 == 'P' and ph3 == 'T':\n",
        "      print(word, ph2, end=' ')"
      ],
      "metadata": {
        "colab": {
          "base_uri": "https://localhost:8080/"
        },
        "id": "GVocDBdaaRja",
        "outputId": "122f2c48-41ae-4901-ad1a-e856e8006d95"
      },
      "execution_count": 80,
      "outputs": [
        {
          "output_type": "stream",
          "name": "stdout",
          "text": [
            "pait EY1 pat AE1 pate EY1 patt AE1 peart ER1 peat IY1 peet IY1 peete IY1 pert ER1 pet EH1 pete IY1 pett EH1 piet IY1 piette IY1 pit IH1 pitt IH1 pot AA1 pote OW1 pott AA1 pout AW1 puett UW1 purt ER1 put UH1 putt AH1 "
          ]
        }
      ]
    },
    {
      "cell_type": "markdown",
      "source": [
        "The above program scans the lexicon looking for entries whose pronunciation consists of three phones [2]. If the condition is true, it assigns the contents of pron to three new variables ph1, ph2 and ph3. Notice the unusual form of the statement which does that work [3].\n",
        "\n",
        "Here's another example of the same for statement, this time used inside a list comprehension. This program finds all words whose pronunciation ends with a syllable sounding like nicks. You could use this method to find rhyming words."
      ],
      "metadata": {
        "id": "cRStWK32bg54"
      }
    },
    {
      "cell_type": "code",
      "source": [
        "syllable = ['N', 'IH0', 'K', 'S']\n",
        "[word for word, pron in entries if pron[-4:] == syllable][:10]"
      ],
      "metadata": {
        "colab": {
          "base_uri": "https://localhost:8080/"
        },
        "id": "V95jNNpIbO4K",
        "outputId": "91e305c4-9282-4c12-d640-e00c5249ffb6"
      },
      "execution_count": 82,
      "outputs": [
        {
          "output_type": "execute_result",
          "data": {
            "text/plain": [
              "[\"atlantic's\",\n",
              " 'audiotronics',\n",
              " 'avionics',\n",
              " 'beatniks',\n",
              " 'calisthenics',\n",
              " 'centronics',\n",
              " 'chamonix',\n",
              " 'chetniks',\n",
              " \"clinic's\",\n",
              " 'clinics']"
            ]
          },
          "metadata": {},
          "execution_count": 82
        }
      ]
    },
    {
      "cell_type": "markdown",
      "source": [
        "Notice that the one pronunciation is spelt in several ways: nics, niks, nix, even ntic's with a silent t, for the word atlantic's. Let's look for some other mismatches between pronunciation and writing. Can you summarize the purpose of the following examples and explain how they work?"
      ],
      "metadata": {
        "id": "DUg4Wp9ocOmG"
      }
    },
    {
      "cell_type": "code",
      "source": [
        "[w for w, pron in entries if pron[-1] == 'M' and w[-1] == 'n']"
      ],
      "metadata": {
        "colab": {
          "base_uri": "https://localhost:8080/"
        },
        "id": "TVgCsN5_bjvo",
        "outputId": "bc1d838d-6b60-4bc9-e7b8-32c39c8d6d84"
      },
      "execution_count": 83,
      "outputs": [
        {
          "output_type": "execute_result",
          "data": {
            "text/plain": [
              "['autumn', 'column', 'condemn', 'damn', 'goddamn', 'hymn', 'solemn']"
            ]
          },
          "metadata": {},
          "execution_count": 83
        }
      ]
    },
    {
      "cell_type": "code",
      "source": [
        "sorted(set(w[:2] for w, pron in entries if pron[0] == 'N' and w[0] != 'n'))"
      ],
      "metadata": {
        "colab": {
          "base_uri": "https://localhost:8080/"
        },
        "id": "fV8lpN2lcQVT",
        "outputId": "1d6017f0-f108-440b-b14f-2bfd71d8f073"
      },
      "execution_count": 84,
      "outputs": [
        {
          "output_type": "execute_result",
          "data": {
            "text/plain": [
              "['gn', 'kn', 'mn', 'pn']"
            ]
          },
          "metadata": {},
          "execution_count": 84
        }
      ]
    },
    {
      "cell_type": "markdown",
      "source": [
        "The phones contain digits to represent primary stress (1), secondary stress (2) and no stress (0). As our final example, we define a function to extract the stress digits and then scan our lexicon to find words having a particular stress pattern."
      ],
      "metadata": {
        "id": "LNNj8fj7cTjy"
      }
    },
    {
      "cell_type": "code",
      "source": [
        "def stress(pron):\n",
        "  return [char for phone in pron for char in phone if char.isdigit()]\n",
        "[w for w, pron in entries if stress(pron) == ['0', '1', '0', '2', '0']][:10]"
      ],
      "metadata": {
        "colab": {
          "base_uri": "https://localhost:8080/"
        },
        "id": "dEkNkaWscRuX",
        "outputId": "5ea7b8a6-5b43-4887-9984-d2f0aaaba735"
      },
      "execution_count": 86,
      "outputs": [
        {
          "output_type": "execute_result",
          "data": {
            "text/plain": [
              "['abbreviated',\n",
              " 'abbreviated',\n",
              " 'abbreviating',\n",
              " 'accelerated',\n",
              " 'accelerating',\n",
              " 'accelerator',\n",
              " 'accelerators',\n",
              " 'accentuated',\n",
              " 'accentuating',\n",
              " 'accommodated']"
            ]
          },
          "metadata": {},
          "execution_count": 86
        }
      ]
    },
    {
      "cell_type": "markdown",
      "source": [
        "We can use a conditional frequency distribution to help us find minimally-contrasting sets of words. Here we find all the p-words consisting of three sounds [2], and group them according to their first and last sounds [1]."
      ],
      "metadata": {
        "id": "c4iTHZQCdocl"
      }
    },
    {
      "cell_type": "code",
      "source": [
        "p3 = [(pron[0]+'-'+pron[2], word)\n",
        "      for (word, pron) in entries\n",
        "      if pron[0] == 'P' and len(pron) == 3]\n",
        "cfd = nltk.ConditionalFreqDist(p3)"
      ],
      "metadata": {
        "id": "RIh5MliIcYdv"
      },
      "execution_count": 89,
      "outputs": []
    },
    {
      "cell_type": "code",
      "source": [
        "for template in sorted(cfd.conditions()):\n",
        "  if len(cfd[template]) > 10:\n",
        "    words = sorted(cfd[template])\n",
        "    wordstring = ' '.join(words)\n",
        "    print(template, wordstring[:70] + \"...\")"
      ],
      "metadata": {
        "colab": {
          "base_uri": "https://localhost:8080/"
        },
        "id": "u5dECONxeAcj",
        "outputId": "ddd97ad7-8080-44d8-ae2c-4770732001f7"
      },
      "execution_count": 90,
      "outputs": [
        {
          "output_type": "stream",
          "name": "stdout",
          "text": [
            "P-CH patch pautsch peach perch petsch petsche piche piech pietsch pitch pit...\n",
            "P-K pac pack paek paik pak pake paque peak peake pech peck peek perc perk ...\n",
            "P-L pahl pail paille pal pale pall paul paule paull peal peale pearl pearl...\n",
            "P-N paign pain paine pan pane pawn payne peine pen penh penn pin pine pinn...\n",
            "P-P paap paape pap pape papp paup peep pep pip pipe pipp poop pop pope pop...\n",
            "P-R paar pair par pare parr pear peer pier poor poore por pore porr pour...\n",
            "P-S pace pass pasts peace pearse pease perce pers perse pesce piece piss p...\n",
            "P-T pait pat pate patt peart peat peet peete pert pet pete pett piet piett...\n",
            "P-UW1 peru peugh pew plew plue prew pru prue prugh pshew pugh...\n",
            "P-Z p's p.'s p.s pais paiz pao's pas pause paws pays paz peas pease pei's ...\n"
          ]
        }
      ]
    },
    {
      "cell_type": "markdown",
      "source": [
        "Rather than iterating over the whole dictionary, we can also access it by looking up particular words. We will use Python's dictionary data structure, which we will study systematically in 3. We look up a dictionary by giving its name followed by a key (such as the word 'fire') inside square brackets"
      ],
      "metadata": {
        "id": "jaBDZ32neiIw"
      }
    },
    {
      "cell_type": "code",
      "source": [
        "prondict = nltk.corpus.cmudict.dict()\n",
        "prondict['fire']"
      ],
      "metadata": {
        "colab": {
          "base_uri": "https://localhost:8080/"
        },
        "id": "llrhv9lEeJ45",
        "outputId": "1ba99f1c-bf8b-4ba3-a7cb-6c1fb1bc5c83"
      },
      "execution_count": 91,
      "outputs": [
        {
          "output_type": "execute_result",
          "data": {
            "text/plain": [
              "[['F', 'AY1', 'ER0'], ['F', 'AY1', 'R']]"
            ]
          },
          "metadata": {},
          "execution_count": 91
        }
      ]
    },
    {
      "cell_type": "code",
      "source": [
        "#prondict['blog']\n",
        "\n",
        "\n",
        "# ---------------------------------------------------------------------------\n",
        "# KeyError                                  Traceback (most recent call last)\n",
        "# <ipython-input-92-4b851fde5ef1> in <cell line: 0>()\n",
        "# ----> 1 prondict['blog']\n",
        "\n",
        "# KeyError: 'blog'\n"
      ],
      "metadata": {
        "id": "ikiFjEZDelUF"
      },
      "execution_count": 93,
      "outputs": []
    },
    {
      "cell_type": "code",
      "source": [
        "prondict['blog'] = [['B', 'L', 'AA1', 'G']]\n",
        "prondict['blog']"
      ],
      "metadata": {
        "colab": {
          "base_uri": "https://localhost:8080/"
        },
        "id": "I5hQ8Fvtepl7",
        "outputId": "083c491e-d5a1-4aa4-da8f-5d9170f47722"
      },
      "execution_count": 94,
      "outputs": [
        {
          "output_type": "execute_result",
          "data": {
            "text/plain": [
              "[['B', 'L', 'AA1', 'G']]"
            ]
          },
          "metadata": {},
          "execution_count": 94
        }
      ]
    },
    {
      "cell_type": "markdown",
      "source": [
        "If we try to look up a non-existent key [2], we get a KeyError. This is similar to what happens when we index a list with an integer that is too large, producing an IndexError. The word blog is missing from the pronouncing dictionary, so we tweak our version by assigning a value for this key [3] (this has no effect on the NLTK corpus; next time we access it, blog will still be absent).\n",
        "\n",
        "We can use any lexical resource to process a text, e.g., to filter out words having some lexical property (like nouns), or mapping every word of the text. For example, the following text-to-speech function looks up each word of the text in the pronunciation dictionary.\n",
        "\n"
      ],
      "metadata": {
        "id": "mPm2SQZge6wh"
      }
    },
    {
      "cell_type": "code",
      "source": [
        "text = ['natural', 'language', 'processing']\n",
        "print([ph for w in text for ph in prondict[w][0]])"
      ],
      "metadata": {
        "colab": {
          "base_uri": "https://localhost:8080/"
        },
        "id": "lHhOe67oeybG",
        "outputId": "002ba5cc-879c-444c-e1ec-3e4d1bf7b1d9"
      },
      "execution_count": 97,
      "outputs": [
        {
          "output_type": "stream",
          "name": "stdout",
          "text": [
            "['N', 'AE1', 'CH', 'ER0', 'AH0', 'L', 'L', 'AE1', 'NG', 'G', 'W', 'AH0', 'JH', 'P', 'R', 'AA1', 'S', 'EH0', 'S', 'IH0', 'NG']\n"
          ]
        }
      ]
    },
    {
      "cell_type": "markdown",
      "source": [
        "### Comparative Wordlists\n",
        "Another example of a tabular lexicon is the comparative wordlist. NLTK includes so-called Swadesh wordlists, lists of about 200 common words in several languages. The languages are identified using an ISO 639 two-letter code."
      ],
      "metadata": {
        "id": "7zeKVpUXfWsR"
      }
    },
    {
      "cell_type": "code",
      "source": [
        "from nltk.corpus import swadesh\n",
        "nltk.download(\"swadesh\")"
      ],
      "metadata": {
        "colab": {
          "base_uri": "https://localhost:8080/"
        },
        "id": "baZxmDV7e9Ot",
        "outputId": "98890b46-9f9f-40e7-ad06-393597dfdad6"
      },
      "execution_count": 98,
      "outputs": [
        {
          "output_type": "stream",
          "name": "stderr",
          "text": [
            "[nltk_data] Downloading package swadesh to /root/nltk_data...\n",
            "[nltk_data]   Unzipping corpora/swadesh.zip.\n"
          ]
        },
        {
          "output_type": "execute_result",
          "data": {
            "text/plain": [
              "True"
            ]
          },
          "metadata": {},
          "execution_count": 98
        }
      ]
    },
    {
      "cell_type": "code",
      "source": [
        "swadesh.fileids()[:10]"
      ],
      "metadata": {
        "colab": {
          "base_uri": "https://localhost:8080/"
        },
        "id": "2-mcGFy_fcxf",
        "outputId": "8cce4ccc-d643-492d-883e-faa0b80efbaf"
      },
      "execution_count": 100,
      "outputs": [
        {
          "output_type": "execute_result",
          "data": {
            "text/plain": [
              "['be', 'bg', 'bs', 'ca', 'cs', 'cu', 'de', 'en', 'es', 'fr']"
            ]
          },
          "metadata": {},
          "execution_count": 100
        }
      ]
    },
    {
      "cell_type": "code",
      "source": [
        "swadesh.words('en')[:10]"
      ],
      "metadata": {
        "colab": {
          "base_uri": "https://localhost:8080/"
        },
        "id": "liBzwQmXfemL",
        "outputId": "2911f0ca-bb29-475a-f04e-8672e0ffe738"
      },
      "execution_count": 102,
      "outputs": [
        {
          "output_type": "execute_result",
          "data": {
            "text/plain": [
              "['I',\n",
              " 'you (singular), thou',\n",
              " 'he',\n",
              " 'we',\n",
              " 'you (plural)',\n",
              " 'they',\n",
              " 'this',\n",
              " 'that',\n",
              " 'here',\n",
              " 'there']"
            ]
          },
          "metadata": {},
          "execution_count": 102
        }
      ]
    },
    {
      "cell_type": "markdown",
      "source": [
        "We can access cognate words from multiple languages using the entries() method, specifying a list of languages. With one further step we can convert this into a simple dictionary (we'll learn about dict() in 3)."
      ],
      "metadata": {
        "id": "ET83k7HHgtSh"
      }
    },
    {
      "cell_type": "code",
      "source": [
        "fr2en = swadesh.entries(['fr', 'en'])\n",
        "fr2en[:10]"
      ],
      "metadata": {
        "colab": {
          "base_uri": "https://localhost:8080/"
        },
        "id": "ElCADDHGfhTy",
        "outputId": "47bccd6e-0658-4fcc-8b28-6b208acc8763"
      },
      "execution_count": 104,
      "outputs": [
        {
          "output_type": "execute_result",
          "data": {
            "text/plain": [
              "[('je', 'I'),\n",
              " ('tu, vous', 'you (singular), thou'),\n",
              " ('il', 'he'),\n",
              " ('nous', 'we'),\n",
              " ('vous', 'you (plural)'),\n",
              " ('ils, elles', 'they'),\n",
              " ('ceci', 'this'),\n",
              " ('cela', 'that'),\n",
              " ('ici', 'here'),\n",
              " ('là', 'there')]"
            ]
          },
          "metadata": {},
          "execution_count": 104
        }
      ]
    },
    {
      "cell_type": "code",
      "source": [
        "translate = dict(fr2en)\n",
        "translate['chien']"
      ],
      "metadata": {
        "colab": {
          "base_uri": "https://localhost:8080/",
          "height": 35
        },
        "id": "SLjKyHb2gvZ5",
        "outputId": "9bb2c898-871c-40cd-b22d-a64ae7661860"
      },
      "execution_count": 105,
      "outputs": [
        {
          "output_type": "execute_result",
          "data": {
            "text/plain": [
              "'dog'"
            ],
            "application/vnd.google.colaboratory.intrinsic+json": {
              "type": "string"
            }
          },
          "metadata": {},
          "execution_count": 105
        }
      ]
    },
    {
      "cell_type": "code",
      "source": [
        "translate['jeter']"
      ],
      "metadata": {
        "colab": {
          "base_uri": "https://localhost:8080/",
          "height": 35
        },
        "id": "j6gXkILdg69U",
        "outputId": "12725b73-46a6-468f-ae06-61f37248f873"
      },
      "execution_count": 106,
      "outputs": [
        {
          "output_type": "execute_result",
          "data": {
            "text/plain": [
              "'throw'"
            ],
            "application/vnd.google.colaboratory.intrinsic+json": {
              "type": "string"
            }
          },
          "metadata": {},
          "execution_count": 106
        }
      ]
    },
    {
      "cell_type": "markdown",
      "source": [
        "We can make our simple translator more useful by adding other source languages. Let's get the German-English and Spanish-English pairs, convert each to a dictionary using dict(), then update our original translate dictionary with these additional mappings:"
      ],
      "metadata": {
        "id": "kHPq1QW3g-mC"
      }
    },
    {
      "cell_type": "code",
      "source": [
        "\n",
        "de2en = swadesh.entries(['de', 'en'])  # German -> English\n",
        "es2en = swadesh.entries(['es', 'en'])  # Spanish -> English\n",
        "\n",
        "# Buat dictionary translate dan gabungin kedua set entri tadi\n",
        "translate = {}\n",
        "translate.update(dict(de2en))\n",
        "translate.update(dict(es2en))\n",
        "\n",
        "# Contoh cek terjemahan\n",
        "print(translate['Hund'])   # Output: 'dog'\n",
        "print(translate['perro'])  # Output: 'dog'"
      ],
      "metadata": {
        "colab": {
          "base_uri": "https://localhost:8080/"
        },
        "id": "tc0lA-Rxg7-2",
        "outputId": "aefe1554-f109-415d-9faf-edabee4ae788"
      },
      "execution_count": 107,
      "outputs": [
        {
          "output_type": "stream",
          "name": "stdout",
          "text": [
            "dog\n",
            "dog\n"
          ]
        }
      ]
    },
    {
      "cell_type": "code",
      "source": [
        "languages = ['en', 'de', 'nl', 'es', 'fr', 'pt', 'la']\n",
        "for i in [139, 140, 141, 142]:\n",
        "  print(swadesh.entries(languages)[i])"
      ],
      "metadata": {
        "colab": {
          "base_uri": "https://localhost:8080/"
        },
        "id": "-F9QS8jEhJ0n",
        "outputId": "2b8057b7-349a-45b2-b1b0-6f6f671de210"
      },
      "execution_count": 108,
      "outputs": [
        {
          "output_type": "stream",
          "name": "stdout",
          "text": [
            "('say', 'sagen', 'zeggen', 'decir', 'dire', 'dizer', 'dicere')\n",
            "('sing', 'singen', 'zingen', 'cantar', 'chanter', 'cantar', 'canere')\n",
            "('play', 'spielen', 'spelen', 'jugar', 'jouer', 'jogar, brincar', 'ludere')\n",
            "('float', 'schweben', 'zweven', 'flotar', 'flotter', 'flutuar, boiar', 'fluctuare')\n"
          ]
        }
      ]
    },
    {
      "cell_type": "markdown",
      "source": [
        "### Shoebox and Toolbox Lexicons\n",
        "Perhaps the single most popular tool used by linguists for managing data is Toolbox, previously known as Shoebox since it replaces the field linguist's traditional shoebox full of file cards. Toolbox is freely downloadable from http://www.sil.org/computing/toolbox/.\n",
        "\n",
        "A Toolbox file consists of a collection of entries, where each entry is made up of one or more fields. Most fields are optional or repeatable, which means that this kind of lexical resource cannot be treated as a table or spreadsheet.\n",
        "\n",
        "Here is a dictionary for the Rotokas language. We see just the first entry, for the word kaa meaning \"to gag\":"
      ],
      "metadata": {
        "id": "Vsa8oXWlhopu"
      }
    },
    {
      "cell_type": "code",
      "source": [
        "from nltk.corpus import toolbox\n",
        "nltk.download(\"toolbox\")"
      ],
      "metadata": {
        "colab": {
          "base_uri": "https://localhost:8080/"
        },
        "id": "zuXVA4LshOlc",
        "outputId": "1861309d-2f3e-4768-9312-17517e26cc45"
      },
      "execution_count": 109,
      "outputs": [
        {
          "output_type": "stream",
          "name": "stderr",
          "text": [
            "[nltk_data] Downloading package toolbox to /root/nltk_data...\n",
            "[nltk_data]   Unzipping corpora/toolbox.zip.\n"
          ]
        },
        {
          "output_type": "execute_result",
          "data": {
            "text/plain": [
              "True"
            ]
          },
          "metadata": {},
          "execution_count": 109
        }
      ]
    },
    {
      "cell_type": "code",
      "source": [
        "toolbox.entries('rotokas.dic')[:2]"
      ],
      "metadata": {
        "colab": {
          "base_uri": "https://localhost:8080/"
        },
        "id": "DbB-XhsQhuLz",
        "outputId": "e6f01eb6-9192-45d0-d02e-6cccd169984d"
      },
      "execution_count": 114,
      "outputs": [
        {
          "output_type": "execute_result",
          "data": {
            "text/plain": [
              "[('kaa',\n",
              "  [('ps', 'V'),\n",
              "   ('pt', 'A'),\n",
              "   ('ge', 'gag'),\n",
              "   ('tkp', 'nek i pas'),\n",
              "   ('dcsv', 'true'),\n",
              "   ('vx', '1'),\n",
              "   ('sc', '???'),\n",
              "   ('dt', '29/Oct/2005'),\n",
              "   ('ex', 'Apoka ira kaaroi aioa-ia reoreopaoro.'),\n",
              "   ('xp', 'Kaikai i pas long nek bilong Apoka bikos em i kaikai na toktok.'),\n",
              "   ('xe', 'Apoka is gagging from food while talking.')]),\n",
              " ('kaa',\n",
              "  [('ps', 'V'),\n",
              "   ('pt', 'B'),\n",
              "   ('ge', 'strangle'),\n",
              "   ('tkp', 'pasim nek'),\n",
              "   ('arg', 'O'),\n",
              "   ('vx', '2'),\n",
              "   ('dt', '07/Oct/2006'),\n",
              "   ('ex', 'Rera rauroro rera kaarevoi.'),\n",
              "   ('xp', 'Em i holim pas em na nekim em.'),\n",
              "   ('xe', 'He is holding him and strangling him.'),\n",
              "   ('ex', 'Iroiro-ia oirato okoearo kaaivoi uvare rirovira kaureoparoveira.'),\n",
              "   ('xp', 'Ol i pasim nek bilong man long rop bikos em i save bikhet tumas.'),\n",
              "   ('xe',\n",
              "    \"They strangled the man's neck with rope because he was very stubborn and arrogant.\"),\n",
              "   ('ex',\n",
              "    'Oirato okoearo kaaivoi iroiro-ia. Uva viapau uvuiparoi ra vovouparo uva kopiiroi.'),\n",
              "   ('xp',\n",
              "    'Ol i pasim nek bilong man long rop. Olsem na em i no pulim win olsem na em i dai.'),\n",
              "   ('xe',\n",
              "    \"They strangled the man's neck with a rope. And he couldn't breathe and he died.\")])]"
            ]
          },
          "metadata": {},
          "execution_count": 114
        }
      ]
    },
    {
      "cell_type": "markdown",
      "source": [
        "Entries consist of a series of attribute-value pairs, like ('ps', 'V') to indicate that the part-of-speech is 'V' (verb), and ('ge', 'gag') to indicate that the gloss-into-English is 'gag'. The last three pairs contain an example sentence in Rotokas and its translations into Tok Pisin and English.\n",
        "\n",
        "The loose structure of Toolbox files makes it hard for us to do much more with them at this stage. XML provides a powerful way to process this kind of corpus and we will return to this topic in 11..\n",
        "\n"
      ],
      "metadata": {
        "id": "FaTe1BhIh9yh"
      }
    },
    {
      "cell_type": "markdown",
      "source": [
        "## WordNet\n",
        "WordNet is a semantically-oriented dictionary of English, similar to a traditional thesaurus but with a richer structure. NLTK includes the English WordNet, with 155,287 words and 117,659 synonym sets. We'll begin by looking at synonyms and how they are accessed in WordNet."
      ],
      "metadata": {
        "id": "WubIDV8RmB0h"
      }
    },
    {
      "cell_type": "markdown",
      "source": [
        "### Senses and Synonyms\n",
        "Consider the sentence in (1a). If we replace the word motorcar in (1a) by automobile, to get (1b), the meaning of the sentence stays pretty much the same:\n",
        "\n",
        "(1)\n",
        "a.\t\tBenz is credited with the invention of the motorcar.\n",
        "\n",
        "b.\t\tBenz is credited with the invention of the automobile.\n",
        "\n",
        "\n",
        "Since everything else in the sentence has remained unchanged, we can conclude that the words motorcar and automobile have the same meaning, i.e. they are synonyms. We can explore these words with the help of WordNet:"
      ],
      "metadata": {
        "id": "XFzx3OKVmFQk"
      }
    },
    {
      "cell_type": "code",
      "source": [
        "from nltk.corpus import wordnet as wn\n",
        "nltk.download('wordnet')\n",
        "wn.synsets('motorcar')"
      ],
      "metadata": {
        "colab": {
          "base_uri": "https://localhost:8080/"
        },
        "id": "PBN92jS0hvqN",
        "outputId": "fb98858f-84a7-49d2-cfc2-da67c9351390"
      },
      "execution_count": 116,
      "outputs": [
        {
          "output_type": "stream",
          "name": "stderr",
          "text": [
            "[nltk_data] Downloading package wordnet to /root/nltk_data...\n"
          ]
        },
        {
          "output_type": "execute_result",
          "data": {
            "text/plain": [
              "[Synset('car.n.01')]"
            ]
          },
          "metadata": {},
          "execution_count": 116
        }
      ]
    },
    {
      "cell_type": "markdown",
      "source": [
        "Thus, motorcar has just one possible meaning and it is identified as car.n.01, the first noun sense of car. The entity car.n.01 is called a synset, or \"synonym set\", a collection of synonymous words (or \"lemmas\"):"
      ],
      "metadata": {
        "id": "baE6rS9kmX26"
      }
    },
    {
      "cell_type": "code",
      "source": [
        "wn.synset('car.n.01').lemma_names()"
      ],
      "metadata": {
        "colab": {
          "base_uri": "https://localhost:8080/"
        },
        "id": "geTHMY31mJ7v",
        "outputId": "5ed21de7-83ce-4dfc-c244-9dce1ba30949"
      },
      "execution_count": 117,
      "outputs": [
        {
          "output_type": "execute_result",
          "data": {
            "text/plain": [
              "['car', 'auto', 'automobile', 'machine', 'motorcar']"
            ]
          },
          "metadata": {},
          "execution_count": 117
        }
      ]
    },
    {
      "cell_type": "markdown",
      "source": [
        "Each word of a synset can have several meanings, e.g., car can also signify a train carriage, a gondola, or an elevator car. However, we are only interested in the single meaning that is common to all words of the above synset. Synsets also come with a prose definition and some example sentences:"
      ],
      "metadata": {
        "id": "jXt99Jv7maNb"
      }
    },
    {
      "cell_type": "code",
      "source": [
        "wn.synset('car.n.01').definition()"
      ],
      "metadata": {
        "colab": {
          "base_uri": "https://localhost:8080/",
          "height": 53
        },
        "id": "fomdtGWWmZGu",
        "outputId": "865f7748-4291-4795-d9b8-dfca7c47b4c1"
      },
      "execution_count": 118,
      "outputs": [
        {
          "output_type": "execute_result",
          "data": {
            "text/plain": [
              "'a motor vehicle with four wheels; usually propelled by an internal combustion engine'"
            ],
            "application/vnd.google.colaboratory.intrinsic+json": {
              "type": "string"
            }
          },
          "metadata": {},
          "execution_count": 118
        }
      ]
    },
    {
      "cell_type": "code",
      "source": [
        "wn.synset('car.n.01').examples()"
      ],
      "metadata": {
        "colab": {
          "base_uri": "https://localhost:8080/"
        },
        "id": "wHf_cVOAmcal",
        "outputId": "b4216ef8-eb20-4ae4-8a49-1210c882a26d"
      },
      "execution_count": 119,
      "outputs": [
        {
          "output_type": "execute_result",
          "data": {
            "text/plain": [
              "['he needs a car to get to work']"
            ]
          },
          "metadata": {},
          "execution_count": 119
        }
      ]
    },
    {
      "cell_type": "markdown",
      "source": [
        "Although definitions help humans to understand the intended meaning of a synset, the words of the synset are often more useful for our programs. To eliminate ambiguity, we will identify these words as car.n.01.automobile, car.n.01.motorcar, and so on. This pairing of a synset with a word is called a lemma. We can get all the lemmas for a given synset [1], look up a particular lemma [2], get the synset corresponding to a lemma [3], and get the \"name\" of a lemma [4]:"
      ],
      "metadata": {
        "id": "jfOqXMjmmfny"
      }
    },
    {
      "cell_type": "code",
      "source": [
        "wn.synset('car.n.01').lemmas()"
      ],
      "metadata": {
        "colab": {
          "base_uri": "https://localhost:8080/"
        },
        "id": "TLs1PFD1mdxo",
        "outputId": "bb7fe67e-4695-48de-a2e3-e9a8a4ddf906"
      },
      "execution_count": 120,
      "outputs": [
        {
          "output_type": "execute_result",
          "data": {
            "text/plain": [
              "[Lemma('car.n.01.car'),\n",
              " Lemma('car.n.01.auto'),\n",
              " Lemma('car.n.01.automobile'),\n",
              " Lemma('car.n.01.machine'),\n",
              " Lemma('car.n.01.motorcar')]"
            ]
          },
          "metadata": {},
          "execution_count": 120
        }
      ]
    },
    {
      "cell_type": "code",
      "source": [
        "wn.lemma('car.n.01.automobile')"
      ],
      "metadata": {
        "colab": {
          "base_uri": "https://localhost:8080/"
        },
        "id": "nUrek8j1muEV",
        "outputId": "860dd86b-aedd-440b-ddb5-8fc89a237748"
      },
      "execution_count": 121,
      "outputs": [
        {
          "output_type": "execute_result",
          "data": {
            "text/plain": [
              "Lemma('car.n.01.automobile')"
            ]
          },
          "metadata": {},
          "execution_count": 121
        }
      ]
    },
    {
      "cell_type": "code",
      "source": [
        "wn.lemma('car.n.01.automobile').synset()"
      ],
      "metadata": {
        "colab": {
          "base_uri": "https://localhost:8080/"
        },
        "id": "5ppf_AEMmv0_",
        "outputId": "0bd42f89-405a-46ef-ad24-7d7ebdbe2d43"
      },
      "execution_count": 122,
      "outputs": [
        {
          "output_type": "execute_result",
          "data": {
            "text/plain": [
              "Synset('car.n.01')"
            ]
          },
          "metadata": {},
          "execution_count": 122
        }
      ]
    },
    {
      "cell_type": "code",
      "source": [
        "wn.lemma('car.n.01.automobile').name()"
      ],
      "metadata": {
        "colab": {
          "base_uri": "https://localhost:8080/",
          "height": 35
        },
        "id": "qcRjxcjym5zd",
        "outputId": "6e7461b0-cc37-4e77-8492-550ec8766257"
      },
      "execution_count": 123,
      "outputs": [
        {
          "output_type": "execute_result",
          "data": {
            "text/plain": [
              "'automobile'"
            ],
            "application/vnd.google.colaboratory.intrinsic+json": {
              "type": "string"
            }
          },
          "metadata": {},
          "execution_count": 123
        }
      ]
    },
    {
      "cell_type": "markdown",
      "source": [
        "Unlike the word motorcar, which is unambiguous and has one synset, the word car is ambiguous, having five synsets:"
      ],
      "metadata": {
        "id": "sWWl7QHjm8e7"
      }
    },
    {
      "cell_type": "code",
      "source": [
        "wn.synsets('car')"
      ],
      "metadata": {
        "colab": {
          "base_uri": "https://localhost:8080/"
        },
        "id": "rus8O0tRm7SF",
        "outputId": "389dd0bf-2a73-497a-f3e6-aa86b5107c31"
      },
      "execution_count": 124,
      "outputs": [
        {
          "output_type": "execute_result",
          "data": {
            "text/plain": [
              "[Synset('car.n.01'),\n",
              " Synset('car.n.02'),\n",
              " Synset('car.n.03'),\n",
              " Synset('car.n.04'),\n",
              " Synset('cable_car.n.01')]"
            ]
          },
          "metadata": {},
          "execution_count": 124
        }
      ]
    },
    {
      "cell_type": "code",
      "source": [
        "for synset in wn.synsets('car'):\n",
        "  print(synset.lemma_names())"
      ],
      "metadata": {
        "colab": {
          "base_uri": "https://localhost:8080/"
        },
        "id": "4drGIl2rm-Ce",
        "outputId": "dd0450a3-a563-42f0-c8ce-4bc9b3c0dc9e"
      },
      "execution_count": 125,
      "outputs": [
        {
          "output_type": "stream",
          "name": "stdout",
          "text": [
            "['car', 'auto', 'automobile', 'machine', 'motorcar']\n",
            "['car', 'railcar', 'railway_car', 'railroad_car']\n",
            "['car', 'gondola']\n",
            "['car', 'elevator_car']\n",
            "['cable_car', 'car']\n"
          ]
        }
      ]
    },
    {
      "cell_type": "markdown",
      "source": [
        "For convenience, we can access all the lemmas involving the word car as follows."
      ],
      "metadata": {
        "id": "APdswXqWnBj4"
      }
    },
    {
      "cell_type": "code",
      "source": [
        "wn.lemmas('car')"
      ],
      "metadata": {
        "colab": {
          "base_uri": "https://localhost:8080/"
        },
        "id": "cRMvl6UxnANa",
        "outputId": "5524ffba-03ec-4626-dbdc-69f44ccef491"
      },
      "execution_count": 126,
      "outputs": [
        {
          "output_type": "execute_result",
          "data": {
            "text/plain": [
              "[Lemma('car.n.01.car'),\n",
              " Lemma('car.n.02.car'),\n",
              " Lemma('car.n.03.car'),\n",
              " Lemma('car.n.04.car'),\n",
              " Lemma('cable_car.n.01.car')]"
            ]
          },
          "metadata": {},
          "execution_count": 126
        }
      ]
    },
    {
      "cell_type": "markdown",
      "source": [
        "### The WordNet Hierarchy\n",
        "WordNet synsets correspond to abstract concepts, and they don't always have corresponding words in English. These concepts are linked together in a hierarchy. Some concepts are very general, such as Entity, State, Event — these are called unique beginners or root synsets. Others, such as gas guzzler and hatchback, are much more specific. A small portion of a concept hierarchy is illustrated in 5.1."
      ],
      "metadata": {
        "id": "gFpftwAfpLFX"
      }
    },
    {
      "cell_type": "markdown",
      "source": [
        "![Gambar NLP](https://raw.githubusercontent.com/farrelrassya/NLTKBooks/main/Figure%205.1.png)"
      ],
      "metadata": {
        "id": "k6k-UksNpqWT"
      }
    },
    {
      "cell_type": "markdown",
      "source": [
        "WordNet makes it easy to navigate between concepts. For example, given a concept like motorcar, we can look at the concepts that are more specific; the (immediate) hyponyms."
      ],
      "metadata": {
        "id": "m_irB3mLpwxO"
      }
    },
    {
      "cell_type": "code",
      "source": [
        "motorcar = wn.synset('car.n.01')\n",
        "types_of_motorcar = motorcar.hyponyms()\n",
        "types_of_motorcar[0]\n",
        "sorted(lemma.name() for synset in types_of_motorcar for lemma in synset.lemmas())[:10]"
      ],
      "metadata": {
        "colab": {
          "base_uri": "https://localhost:8080/"
        },
        "id": "mDPL8WG9nCsT",
        "outputId": "4650896d-f0b6-4fc3-d2b1-9667d724f716"
      },
      "execution_count": 128,
      "outputs": [
        {
          "output_type": "execute_result",
          "data": {
            "text/plain": [
              "['Model_T',\n",
              " 'S.U.V.',\n",
              " 'SUV',\n",
              " 'Stanley_Steamer',\n",
              " 'ambulance',\n",
              " 'beach_waggon',\n",
              " 'beach_wagon',\n",
              " 'bus',\n",
              " 'cab',\n",
              " 'compact']"
            ]
          },
          "metadata": {},
          "execution_count": 128
        }
      ]
    },
    {
      "cell_type": "markdown",
      "source": [
        "We can also navigate up the hierarchy by visiting hypernyms. Some words have multiple paths, because they can be classified in more than one way. There are two paths between car.n.01 and entity.n.01 because wheeled_vehicle.n.01 can be classified as both a vehicle and a container."
      ],
      "metadata": {
        "id": "05YxjaCsp6Ap"
      }
    },
    {
      "cell_type": "code",
      "source": [
        "motorcar.hypernyms()"
      ],
      "metadata": {
        "colab": {
          "base_uri": "https://localhost:8080/"
        },
        "id": "ViamFvWTp1xa",
        "outputId": "c0837644-e34f-49ac-c5c1-0f15f02e9c3a"
      },
      "execution_count": 129,
      "outputs": [
        {
          "output_type": "execute_result",
          "data": {
            "text/plain": [
              "[Synset('motor_vehicle.n.01')]"
            ]
          },
          "metadata": {},
          "execution_count": 129
        }
      ]
    },
    {
      "cell_type": "code",
      "source": [
        "paths = motorcar.hypernym_paths()\n",
        "len(paths)"
      ],
      "metadata": {
        "colab": {
          "base_uri": "https://localhost:8080/"
        },
        "id": "pF6KzOAYp7UN",
        "outputId": "78689b30-5927-45a5-f67f-5816937affaa"
      },
      "execution_count": 130,
      "outputs": [
        {
          "output_type": "execute_result",
          "data": {
            "text/plain": [
              "2"
            ]
          },
          "metadata": {},
          "execution_count": 130
        }
      ]
    },
    {
      "cell_type": "code",
      "source": [
        "[synset.name() for synset in paths[0]]"
      ],
      "metadata": {
        "colab": {
          "base_uri": "https://localhost:8080/"
        },
        "id": "ubtJmsHep9KA",
        "outputId": "f71cfb0a-c742-49d7-ad06-766cdb4c187f"
      },
      "execution_count": 131,
      "outputs": [
        {
          "output_type": "execute_result",
          "data": {
            "text/plain": [
              "['entity.n.01',\n",
              " 'physical_entity.n.01',\n",
              " 'object.n.01',\n",
              " 'whole.n.02',\n",
              " 'artifact.n.01',\n",
              " 'instrumentality.n.03',\n",
              " 'container.n.01',\n",
              " 'wheeled_vehicle.n.01',\n",
              " 'self-propelled_vehicle.n.01',\n",
              " 'motor_vehicle.n.01',\n",
              " 'car.n.01']"
            ]
          },
          "metadata": {},
          "execution_count": 131
        }
      ]
    },
    {
      "cell_type": "code",
      "source": [
        "[synset.name() for synset in paths[1]]"
      ],
      "metadata": {
        "colab": {
          "base_uri": "https://localhost:8080/"
        },
        "id": "SYEGUHJFp-Dp",
        "outputId": "935df1ed-ae6f-44e5-c6fa-786834d1382f"
      },
      "execution_count": 132,
      "outputs": [
        {
          "output_type": "execute_result",
          "data": {
            "text/plain": [
              "['entity.n.01',\n",
              " 'physical_entity.n.01',\n",
              " 'object.n.01',\n",
              " 'whole.n.02',\n",
              " 'artifact.n.01',\n",
              " 'instrumentality.n.03',\n",
              " 'conveyance.n.03',\n",
              " 'vehicle.n.01',\n",
              " 'wheeled_vehicle.n.01',\n",
              " 'self-propelled_vehicle.n.01',\n",
              " 'motor_vehicle.n.01',\n",
              " 'car.n.01']"
            ]
          },
          "metadata": {},
          "execution_count": 132
        }
      ]
    },
    {
      "cell_type": "markdown",
      "source": [
        "We can get the most general hypernyms (or root hypernyms) of a synset as follows:"
      ],
      "metadata": {
        "id": "GtU3Fe2kqA9t"
      }
    },
    {
      "cell_type": "code",
      "source": [
        "motorcar.root_hypernyms()"
      ],
      "metadata": {
        "colab": {
          "base_uri": "https://localhost:8080/"
        },
        "id": "MDqJh1Klp_zB",
        "outputId": "2b70806f-1b1a-4168-b971-51006a62f6d0"
      },
      "execution_count": 133,
      "outputs": [
        {
          "output_type": "execute_result",
          "data": {
            "text/plain": [
              "[Synset('entity.n.01')]"
            ]
          },
          "metadata": {},
          "execution_count": 133
        }
      ]
    },
    {
      "cell_type": "markdown",
      "source": [
        "### More Lexical Relations\n",
        "Hypernyms and hyponyms are called lexical relations because they relate one synset to another. These two relations navigate up and down the \"is-a\" hierarchy. Another important way to navigate the WordNet network is from items to their components (meronyms) or to the things they are contained in (holonyms). For example, the parts of a tree are its trunk, crown, and so on; the part_meronyms(). The substance a tree is made of includes heartwood and sapwood; the substance_meronyms(). A collection of trees forms a forest; the member_holonyms():"
      ],
      "metadata": {
        "id": "WA8Ap8PcqH_s"
      }
    },
    {
      "cell_type": "code",
      "source": [
        "wn.synset('tree.n.01').part_meronyms()"
      ],
      "metadata": {
        "colab": {
          "base_uri": "https://localhost:8080/"
        },
        "id": "KevzPpDXqCLN",
        "outputId": "dbf10e83-b3bc-4871-976f-b502e22af543"
      },
      "execution_count": 134,
      "outputs": [
        {
          "output_type": "execute_result",
          "data": {
            "text/plain": [
              "[Synset('trunk.n.01'),\n",
              " Synset('limb.n.02'),\n",
              " Synset('stump.n.01'),\n",
              " Synset('burl.n.02'),\n",
              " Synset('crown.n.07')]"
            ]
          },
          "metadata": {},
          "execution_count": 134
        }
      ]
    },
    {
      "cell_type": "code",
      "source": [
        "wn.synset('tree.n.01').substance_meronyms()"
      ],
      "metadata": {
        "colab": {
          "base_uri": "https://localhost:8080/"
        },
        "id": "cvaLdcssqK0r",
        "outputId": "c7767d7a-571c-4d35-88e1-0248e903cf28"
      },
      "execution_count": 135,
      "outputs": [
        {
          "output_type": "execute_result",
          "data": {
            "text/plain": [
              "[Synset('heartwood.n.01'), Synset('sapwood.n.01')]"
            ]
          },
          "metadata": {},
          "execution_count": 135
        }
      ]
    },
    {
      "cell_type": "code",
      "source": [
        "wn.synset('tree.n.01').member_holonyms()"
      ],
      "metadata": {
        "colab": {
          "base_uri": "https://localhost:8080/"
        },
        "id": "w6RSc5S_qLzK",
        "outputId": "7e93a85e-38c9-42a7-c677-b646c6e384a6"
      },
      "execution_count": 136,
      "outputs": [
        {
          "output_type": "execute_result",
          "data": {
            "text/plain": [
              "[Synset('forest.n.01')]"
            ]
          },
          "metadata": {},
          "execution_count": 136
        }
      ]
    },
    {
      "cell_type": "markdown",
      "source": [
        "To see just how intricate things can get, consider the word mint, which has several closely-related senses. We can see that mint.n.04 is part of mint.n.02 and the substance from which mint.n.05 is made."
      ],
      "metadata": {
        "id": "Ty0swiqYqOqS"
      }
    },
    {
      "cell_type": "code",
      "source": [
        "for synset in wn.synsets('mint', wn.NOUN):\n",
        "     print(synset.name() + ':', synset.definition())"
      ],
      "metadata": {
        "colab": {
          "base_uri": "https://localhost:8080/"
        },
        "id": "Sw5_dyCbqM3D",
        "outputId": "c265a221-6f1b-4dc0-81e5-1937e6cbcf42"
      },
      "execution_count": 137,
      "outputs": [
        {
          "output_type": "stream",
          "name": "stdout",
          "text": [
            "batch.n.02: (often followed by `of') a large number or amount or extent\n",
            "mint.n.02: any north temperate plant of the genus Mentha with aromatic leaves and small mauve flowers\n",
            "mint.n.03: any member of the mint family of plants\n",
            "mint.n.04: the leaves of a mint plant used fresh or candied\n",
            "mint.n.05: a candy that is flavored with a mint oil\n",
            "mint.n.06: a plant where money is coined by authority of the government\n"
          ]
        }
      ]
    },
    {
      "cell_type": "code",
      "source": [
        "wn.synset('mint.n.04').part_holonyms()"
      ],
      "metadata": {
        "colab": {
          "base_uri": "https://localhost:8080/"
        },
        "id": "dS7lF2HYqQy-",
        "outputId": "b474bbec-7079-45ef-be85-b488e4430bee"
      },
      "execution_count": 138,
      "outputs": [
        {
          "output_type": "execute_result",
          "data": {
            "text/plain": [
              "[Synset('mint.n.02')]"
            ]
          },
          "metadata": {},
          "execution_count": 138
        }
      ]
    },
    {
      "cell_type": "code",
      "source": [
        "wn.synset('mint.n.04').substance_holonyms()"
      ],
      "metadata": {
        "colab": {
          "base_uri": "https://localhost:8080/"
        },
        "id": "huN5Uh1RqSfP",
        "outputId": "87ab4ca9-2f9a-4cfe-fbe6-95911ebf2815"
      },
      "execution_count": 139,
      "outputs": [
        {
          "output_type": "execute_result",
          "data": {
            "text/plain": [
              "[Synset('mint.n.05')]"
            ]
          },
          "metadata": {},
          "execution_count": 139
        }
      ]
    },
    {
      "cell_type": "markdown",
      "source": [
        "There are also relationships between verbs. For example, the act of walking involves the act of stepping, so walking entails stepping. Some verbs have multiple entailments:"
      ],
      "metadata": {
        "id": "erliIpWwrVYW"
      }
    },
    {
      "cell_type": "code",
      "source": [
        "wn.synset('walk.v.01').entailments()"
      ],
      "metadata": {
        "colab": {
          "base_uri": "https://localhost:8080/"
        },
        "id": "MJ_WDMFJqThT",
        "outputId": "f6370eac-fb92-439e-f971-e90cbf16bbf2"
      },
      "execution_count": 140,
      "outputs": [
        {
          "output_type": "execute_result",
          "data": {
            "text/plain": [
              "[Synset('step.v.01')]"
            ]
          },
          "metadata": {},
          "execution_count": 140
        }
      ]
    },
    {
      "cell_type": "code",
      "source": [
        "wn.synset('eat.v.01').entailments()"
      ],
      "metadata": {
        "colab": {
          "base_uri": "https://localhost:8080/"
        },
        "id": "Vgcdr8-ArW0i",
        "outputId": "59143823-d381-4d89-9c70-ac7d6b7c9b07"
      },
      "execution_count": 141,
      "outputs": [
        {
          "output_type": "execute_result",
          "data": {
            "text/plain": [
              "[Synset('swallow.v.01'), Synset('chew.v.01')]"
            ]
          },
          "metadata": {},
          "execution_count": 141
        }
      ]
    },
    {
      "cell_type": "code",
      "source": [
        "wn.synset('tease.v.03').entailments()"
      ],
      "metadata": {
        "colab": {
          "base_uri": "https://localhost:8080/"
        },
        "id": "67-pZL2MrYJ4",
        "outputId": "639bc53e-8ef7-4598-d362-ff31abd219ce"
      },
      "execution_count": 142,
      "outputs": [
        {
          "output_type": "execute_result",
          "data": {
            "text/plain": [
              "[Synset('arouse.v.07'), Synset('disappoint.v.01')]"
            ]
          },
          "metadata": {},
          "execution_count": 142
        }
      ]
    },
    {
      "cell_type": "markdown",
      "source": [
        "Some lexical relationships hold between lemmas, e.g., antonymy:"
      ],
      "metadata": {
        "id": "n2JLjTpErc1b"
      }
    },
    {
      "cell_type": "code",
      "source": [
        "wn.lemma('supply.n.02.supply').antonyms()"
      ],
      "metadata": {
        "colab": {
          "base_uri": "https://localhost:8080/"
        },
        "id": "m7em32ShrZSW",
        "outputId": "f8a88ce7-2070-4511-ed5f-fd783a9c083b"
      },
      "execution_count": 143,
      "outputs": [
        {
          "output_type": "execute_result",
          "data": {
            "text/plain": [
              "[Lemma('demand.n.02.demand')]"
            ]
          },
          "metadata": {},
          "execution_count": 143
        }
      ]
    },
    {
      "cell_type": "code",
      "source": [
        "wn.lemma('rush.v.01.rush').antonyms()"
      ],
      "metadata": {
        "colab": {
          "base_uri": "https://localhost:8080/"
        },
        "id": "-9BT45GMreR-",
        "outputId": "cd66574c-6c8a-4ea6-8610-9e478b01ea28"
      },
      "execution_count": 144,
      "outputs": [
        {
          "output_type": "execute_result",
          "data": {
            "text/plain": [
              "[Lemma('linger.v.04.linger')]"
            ]
          },
          "metadata": {},
          "execution_count": 144
        }
      ]
    },
    {
      "cell_type": "code",
      "source": [
        "wn.lemma('horizontal.a.01.horizontal').antonyms()"
      ],
      "metadata": {
        "colab": {
          "base_uri": "https://localhost:8080/"
        },
        "id": "NzmCFCemri2v",
        "outputId": "b24af2c7-f6fe-4444-b57e-bb7e621072f2"
      },
      "execution_count": 145,
      "outputs": [
        {
          "output_type": "execute_result",
          "data": {
            "text/plain": [
              "[Lemma('vertical.a.01.vertical'), Lemma('inclined.a.02.inclined')]"
            ]
          },
          "metadata": {},
          "execution_count": 145
        }
      ]
    },
    {
      "cell_type": "code",
      "source": [
        "wn.lemma('staccato.r.01.staccato').antonyms()"
      ],
      "metadata": {
        "colab": {
          "base_uri": "https://localhost:8080/"
        },
        "id": "vdRkIK3yrjxc",
        "outputId": "816b6554-d05f-415c-8579-c382ba8369fb"
      },
      "execution_count": 146,
      "outputs": [
        {
          "output_type": "execute_result",
          "data": {
            "text/plain": [
              "[Lemma('legato.r.01.legato')]"
            ]
          },
          "metadata": {},
          "execution_count": 146
        }
      ]
    },
    {
      "cell_type": "markdown",
      "source": [
        "You can see the lexical relations, and the other methods defined on a synset, using dir(), for example: dir(wn.synset('harmony.n.02'))."
      ],
      "metadata": {
        "id": "ejG3wHsUrmR2"
      }
    },
    {
      "cell_type": "markdown",
      "source": [
        "### Semantic Similarity\n",
        "We have seen that synsets are linked by a complex network of lexical relations. Given a particular synset, we can traverse the WordNet network to find synsets with related meanings. Knowing which words are semantically related is useful for indexing a collection of texts, so that a search for a general term like vehicle will match documents containing specific terms like limousine.\n",
        "\n",
        "Recall that each synset has one or more hypernym paths that link it to a root hypernym such as entity.n.01. Two synsets linked to the same root may have several hypernyms in common (cf 5.1). If two synsets share a very specific hypernym — one that is low down in the hypernym hierarchy — they must be closely related."
      ],
      "metadata": {
        "id": "f7rKBNQ3rrFG"
      }
    },
    {
      "cell_type": "code",
      "source": [
        "right = wn.synset('right_whale.n.01')\n",
        "orca = wn.synset('orca.n.01')\n",
        "minke = wn.synset('minke_whale.n.01')\n",
        "tortoise = wn.synset('tortoise.n.01')\n",
        "novel = wn.synset('novel.n.01')"
      ],
      "metadata": {
        "id": "HojVsAB0rkqK"
      },
      "execution_count": 147,
      "outputs": []
    },
    {
      "cell_type": "code",
      "source": [
        "right.lowest_common_hypernyms(minke)"
      ],
      "metadata": {
        "colab": {
          "base_uri": "https://localhost:8080/"
        },
        "id": "lwpDVv8mrv1E",
        "outputId": "1822537c-5f89-435e-cdc4-051036a62c07"
      },
      "execution_count": 148,
      "outputs": [
        {
          "output_type": "execute_result",
          "data": {
            "text/plain": [
              "[Synset('baleen_whale.n.01')]"
            ]
          },
          "metadata": {},
          "execution_count": 148
        }
      ]
    },
    {
      "cell_type": "code",
      "source": [
        "right.lowest_common_hypernyms(orca)"
      ],
      "metadata": {
        "colab": {
          "base_uri": "https://localhost:8080/"
        },
        "id": "lDrAxqmvrxwK",
        "outputId": "27fa2ed8-74d6-4cdf-d70e-80cbb67ade09"
      },
      "execution_count": 149,
      "outputs": [
        {
          "output_type": "execute_result",
          "data": {
            "text/plain": [
              "[Synset('whale.n.02')]"
            ]
          },
          "metadata": {},
          "execution_count": 149
        }
      ]
    },
    {
      "cell_type": "code",
      "source": [
        "right.lowest_common_hypernyms(tortoise)"
      ],
      "metadata": {
        "colab": {
          "base_uri": "https://localhost:8080/"
        },
        "id": "ixvHKym5r39Y",
        "outputId": "c3003b24-4ad9-464f-8d0f-f6a53b15673e"
      },
      "execution_count": 150,
      "outputs": [
        {
          "output_type": "execute_result",
          "data": {
            "text/plain": [
              "[Synset('vertebrate.n.01')]"
            ]
          },
          "metadata": {},
          "execution_count": 150
        }
      ]
    },
    {
      "cell_type": "code",
      "source": [
        "right.lowest_common_hypernyms(novel)"
      ],
      "metadata": {
        "colab": {
          "base_uri": "https://localhost:8080/"
        },
        "id": "YmeKsVYWr5I9",
        "outputId": "08426e25-4703-4905-8ec0-5b9ad1df5df0"
      },
      "execution_count": 151,
      "outputs": [
        {
          "output_type": "execute_result",
          "data": {
            "text/plain": [
              "[Synset('entity.n.01')]"
            ]
          },
          "metadata": {},
          "execution_count": 151
        }
      ]
    },
    {
      "cell_type": "markdown",
      "source": [
        "Of course we know that whale is very specific (and baleen whale even more so), while vertebrate is more general and entity is completely general. We can quantify this concept of generality by looking up the depth of each synset:"
      ],
      "metadata": {
        "id": "zfTGxqhIr7hO"
      }
    },
    {
      "cell_type": "code",
      "source": [
        "wn.synset('baleen_whale.n.01').min_depth()"
      ],
      "metadata": {
        "colab": {
          "base_uri": "https://localhost:8080/"
        },
        "id": "wbC6b1Ajr6G9",
        "outputId": "0caf17dd-6fdf-4c77-ef70-9f027beda23f"
      },
      "execution_count": 152,
      "outputs": [
        {
          "output_type": "execute_result",
          "data": {
            "text/plain": [
              "14"
            ]
          },
          "metadata": {},
          "execution_count": 152
        }
      ]
    },
    {
      "cell_type": "markdown",
      "source": [
        "Similarity measures have been defined over the collection of WordNet synsets which incorporate the above insight. For example, path_similarity assigns a score in the range 0–1 based on the shortest path that connects the concepts in the hypernym hierarchy (-1 is returned in those cases where a path cannot be found). Comparing a synset with itself will return 1. Consider the following similarity scores, relating right whale to minke whale, orca, tortoise, and novel. Although the numbers won't mean much, they decrease as we move away from the semantic space of sea creatures to inanimate objects."
      ],
      "metadata": {
        "id": "cvWLRuQ9sEeK"
      }
    },
    {
      "cell_type": "code",
      "source": [
        "right.path_similarity(minke) #0.25\n",
        "right.path_similarity(orca) #0.16666666666666666\n",
        "right.path_similarity(tortoise) # 0.07692307692307693\n",
        "right.path_similarity(novel) #0.043478260869565216"
      ],
      "metadata": {
        "colab": {
          "base_uri": "https://localhost:8080/"
        },
        "id": "dVH8Xzgzr9ok",
        "outputId": "4d595d09-71e6-4846-c896-c77d856973e2"
      },
      "execution_count": 153,
      "outputs": [
        {
          "output_type": "execute_result",
          "data": {
            "text/plain": [
              "0.043478260869565216"
            ]
          },
          "metadata": {},
          "execution_count": 153
        }
      ]
    }
  ]
}